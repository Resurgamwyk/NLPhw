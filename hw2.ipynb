{
 "cells": [
  {
   "cell_type": "code",
   "execution_count": 1,
   "metadata": {},
   "outputs": [],
   "source": [
    "import numpy as np\n",
    "import torch\n",
    "import torch.nn as nn\n",
    "import torch.nn.functional as F\n",
    "from torch.utils.data import Dataset\n",
    "from collections import Counter\n",
    "import pickle as pkl\n",
    "import random\n",
    "import pdb\n",
    "import matplotlib.pyplot as plt\n",
    "%matplotlib inline\n",
    "random.seed(134)\n",
    "\n",
    "PAD_IDX = 0\n",
    "UNK_IDX = 1\n",
    "BATCH_SIZE = 64"
   ]
  },
  {
   "cell_type": "code",
   "execution_count": null,
   "metadata": {},
   "outputs": [],
   "source": [
    "#load fast text word vectors\n",
    "fasttext_dir = 'wiki-news-300d-1M.vec'\n",
    "words_to_load = 50000\n",
    "emb_size = 300\n",
    "\n",
    "with open(fasttext_dir, encoding='utf8') as f:\n",
    "    loaded_embeddings = np.zeros((words_to_load + 2, emb_size))\n",
    "    words = {}\n",
    "    idx2words = {}\n",
    "    ordered_words = []\n",
    "    idx2words[PAD_IDX] = '<pad>'\n",
    "    idx2words[UNK_IDX] = '<unk>'\n",
    "    words['<pad>'] = PAD_IDX\n",
    "    words['<unk>'] = UNK_IDX\n",
    "    for i, line in enumerate(f):\n",
    "        if i >= words_to_load: \n",
    "            break\n",
    "        s = line.split()\n",
    "        loaded_embeddings[i+2, :] = np.asarray(s[1:])\n",
    "        words[s[0]] = i+2\n",
    "        idx2words[i+2] = s[0]\n",
    "        ordered_words.append(s[0])\n",
    "        \n",
    "loaded_embeddings = torch.from_numpy(loaded_embeddings)"
   ]
  },
  {
   "cell_type": "code",
   "execution_count": 2,
   "metadata": {},
   "outputs": [],
   "source": [
    "idx2words = pkl.load(open(\"wiki-news-300d-idx2words.vec\", \"rb\"))\n",
    "words = pkl.load(open(\"wiki-news-300d-words.vec\", \"rb\"))\n",
    "loaded_embeddings = pkl.load(open(\"wiki-news-300d-50000.vec\", \"rb\"))\n",
    "loaded_embeddings = torch.from_numpy(loaded_embeddings)"
   ]
  },
  {
   "cell_type": "code",
   "execution_count": 3,
   "metadata": {},
   "outputs": [
    {
     "name": "stdout",
     "output_type": "stream",
     "text": [
      "12978\n",
      "potato\n"
     ]
    }
   ],
   "source": [
    "#test vectors\n",
    "print(words['potato'])\n",
    "print(idx2words[words['potato']])"
   ]
  },
  {
   "cell_type": "code",
   "execution_count": 41,
   "metadata": {},
   "outputs": [],
   "source": [
    "#trasfer the label to integer, entailment = 2, contradiction = 0, neutral = 1\n",
    "label2int = {'entailment':2, 'contradiction': 0, 'neutral': 1}\n",
    "\n",
    "#read part of the dataset\n",
    "train_num = 100000\n",
    "val_num = 1000\n",
    "\n",
    "def read_data(data_dir,data_num):\n",
    "    sentence = []\n",
    "    label = []\n",
    "    with open(data_dir, encoding='utf8') as f:\n",
    "        for i,line in enumerate(f):\n",
    "            if i == 0:\n",
    "                continue\n",
    "            if i > data_num:\n",
    "                break\n",
    "            line = line.strip('\\n')\n",
    "            sentence_sample = []\n",
    "            sentence_sample.append(line.split('\\t')[0].split(' '))\n",
    "            sentence_sample.append(line.split('\\t')[1].split(' '))\n",
    "            sentence.append(sentence_sample)\n",
    "            label.append(label2int[line.split('\\t')[2]])\n",
    "    return sentence, label\n",
    "\n",
    "train_sentence,train_label = read_data('snli_train.tsv',train_num)\n",
    "val_sentence,val_label =read_data('snli_val.tsv',val_num)"
   ]
  },
  {
   "cell_type": "code",
   "execution_count": 32,
   "metadata": {},
   "outputs": [
    {
     "name": "stdout",
     "output_type": "stream",
     "text": [
      "30.0\n"
     ]
    }
   ],
   "source": [
    "#decide the max_sentence_length\n",
    "len_list = []\n",
    "for i in train_sentence:\n",
    "    len_list.append(len(i[0]))\n",
    "    len_list.append(len(i[1]))\n",
    "print(np.percentile(np.array(len_list), 99))"
   ]
  },
  {
   "cell_type": "code",
   "execution_count": 19,
   "metadata": {},
   "outputs": [],
   "source": [
    "MAX_SENTENCE_LEN = 30\n",
    "class SNLIDataset(Dataset):\n",
    "    \"\"\"\n",
    "    Class that represents a train/validation/test dataset that's readable for PyTorch\n",
    "    Note that this class inherits torch.utils.data.Dataset\n",
    "    \"\"\"\n",
    "\n",
    "    def __init__(self, sentence, target, words):\n",
    "        \"\"\"\n",
    "        @param data_list: list with each component consists of two lists: sentence1 and sentence2\n",
    "        @param target_list: list of targets\n",
    "\n",
    "        \"\"\"\n",
    "        self.data_list = sentence\n",
    "        self.target_list = target\n",
    "        assert (len(self.data_list) == len(self.target_list))\n",
    "        self.word2id = words\n",
    "\n",
    "    def __len__(self):\n",
    "        return len(self.data_list)\n",
    "\n",
    "    def __getitem__(self, key):\n",
    "        \"\"\"\n",
    "        Triggered when you call dataset[i]\n",
    "        \"\"\"\n",
    "        word_idx1 = [self.word2id[c] if c in self.word2id.keys() else UNK_IDX  for c in self.data_list[key][0][:MAX_SENTENCE_LEN]]\n",
    "        word_idx2 = [self.word2id[c] if c in self.word2id.keys() else UNK_IDX  for c in self.data_list[key][1][:MAX_SENTENCE_LEN]]\n",
    "        label = self.target_list[key]\n",
    "        return [[word_idx1, word_idx2], [len(word_idx1),len(word_idx2)], label]\n",
    "\n",
    "def collate_func(batch):\n",
    "    \"\"\"\n",
    "   Do the padding and sort the two sentences seperately, return the sorted sentences and unsort index\n",
    "    \"\"\"\n",
    "    x1_list = []\n",
    "    x2_list = []\n",
    "    label_list = []\n",
    "    length_list = [] \n",
    "    for datum in batch:\n",
    "        label_list.append(datum[2])\n",
    "        length_list.append(datum[1])\n",
    "\n",
    "    # padding\n",
    "    for datum in batch:\n",
    "        padded_vec1 = np.pad(np.array(datum[0][0]),\n",
    "                                pad_width=((0,MAX_SENTENCE_LEN-datum[1][0])),\n",
    "                                mode=\"constant\", constant_values=PAD_IDX)\n",
    "        x1_list.append(padded_vec1)\n",
    "        padded_vec2 = np.pad(np.array(datum[0][1]),\n",
    "                                pad_width=((0,MAX_SENTENCE_LEN-datum[1][1])),\n",
    "                                mode=\"constant\", constant_values=PAD_IDX)\n",
    "        x2_list.append(padded_vec2)\n",
    "        \n",
    "    #sort seperately\n",
    "    x1_len,x2_len = zip(*length_list)\n",
    "    #x1\n",
    "    x1_sort_idx = np.argsort(x1_len)[::-1]\n",
    "    x1_list = np.array(x1_list)[x1_sort_idx]\n",
    "    x1_len = np.array(x1_len)[x1_sort_idx]\n",
    "    \n",
    "    #x2\n",
    "    x2_sort_idx = np.argsort(x2_len)[::-1]\n",
    "    x2_list =  np.array(x2_list)[x2_sort_idx]\n",
    "    x2_len = np.array(x2_len)[x2_sort_idx]\n",
    "    \n",
    "    #find unsort index\n",
    "    x1_unsort_idx = np.argsort(x1_sort_idx)\n",
    "    x2_unsort_idx = np.argsort(x2_sort_idx)\n",
    "    return [torch.from_numpy(x1_list), torch.from_numpy(x2_list), torch.LongTensor(x1_len),torch.LongTensor(x2_len), x1_unsort_idx, x2_unsort_idx, torch.LongTensor(label_list)]\n"
   ]
  },
  {
   "cell_type": "code",
   "execution_count": 42,
   "metadata": {},
   "outputs": [],
   "source": [
    "# Build train and valid dataloaders\n",
    "\n",
    "\n",
    "train_dataset = SNLIDataset(train_sentence, train_label, words)\n",
    "train_loader = torch.utils.data.DataLoader(dataset=train_dataset,\n",
    "                                           batch_size=BATCH_SIZE,\n",
    "                                           collate_fn=collate_func,\n",
    "                                           shuffle=True)\n",
    "\n",
    "val_dataset = SNLIDataset(val_sentence, val_label, words)\n",
    "val_loader = torch.utils.data.DataLoader(dataset=val_dataset,\n",
    "                                           batch_size=BATCH_SIZE,\n",
    "                                           collate_fn=collate_func,\n",
    "                                           shuffle=False)\n",
    "\n"
   ]
  },
  {
   "cell_type": "markdown",
   "metadata": {},
   "source": [
    "# RNN"
   ]
  },
  {
   "cell_type": "code",
   "execution_count": 3,
   "metadata": {},
   "outputs": [
    {
     "name": "stdout",
     "output_type": "stream",
     "text": [
      "CUDA available!\n"
     ]
    }
   ],
   "source": [
    "#test cuda avalibility\n",
    "if torch.cuda.is_available and torch.has_cudnn:\n",
    "    print(\"CUDA available!\")\n",
    "    device = torch.device('cuda')\n",
    "else:\n",
    "    print(\"Warning! Only CPU!\")\n",
    "    device = torch.device(\"cpu\")"
   ]
  },
  {
   "cell_type": "code",
   "execution_count": 36,
   "metadata": {},
   "outputs": [],
   "source": [
    "#parameters\n",
    "hidden_size = 200\n",
    "interm_size = 100\n",
    "learning_rate = 5e-4\n",
    "num_epochs = 15 # number epoch to train"
   ]
  },
  {
   "cell_type": "code",
   "execution_count": 4,
   "metadata": {},
   "outputs": [],
   "source": [
    "class RNN(nn.Module):\n",
    "    def __init__(self, word_embedding, hidden_size, interm_size, num_layers, num_classes, interact, dropout):\n",
    "        # RNN Accepts the following hyperparams:\n",
    "        # word_embedding: pretrained embedding vectors\n",
    "        # hidden_size: Hidden Size of layer in RNN\n",
    "        # num_layers: number of layers in RNN, 1 here\n",
    "        # num_classes: number of output classes, 3 here\n",
    "        super(RNN, self).__init__()\n",
    "        emb_size = word_embedding.shape[1]\n",
    "        self.num_layers, self.hidden_size, self.dropout = num_layers, hidden_size, dropout\n",
    "        self.embedding = nn.Embedding.from_pretrained(word_embedding, freeze = False)\n",
    "        self.rnn = nn.GRU(input_size= emb_size, hidden_size = hidden_size, num_layers = num_layers , batch_first=True, bidirectional  = True)\n",
    "        if interact == 'concat':\n",
    "            self.fc1 = nn.Linear(hidden_size *4, interm_size)\n",
    "        elif interact == 'mul':\n",
    "            self.fc1 = nn.Linear(hidden_size *2, interm_size)\n",
    "        if dropout != 0:\n",
    "            self.dropout_layer = nn.Dropout(p = dropout)\n",
    "        self.fc2 = nn.Linear(interm_size, num_classes)\n",
    "        self.interact_option = interact\n",
    "\n",
    "    def init_hidden(self, batch_size):\n",
    "        # Function initializes the activation of recurrent neural net at timestep 0\n",
    "        # Needs to be in format (num_layers * num_directions, batch_size, hidden_size)\n",
    "        x1_hidden = torch.randn(self.num_layers * 2, batch_size, self.hidden_size).float().to(device)\n",
    "        x2_hidden = torch.randn(self.num_layers * 2, batch_size, self.hidden_size).float().to(device)\n",
    "        return x1_hidden, x2_hidden\n",
    "\n",
    "    def forward(self, x1,x2, x1_lengths, x2_lengths, x1_unsort_idx, x2_unsort_idx):\n",
    "        # reset hidden state\n",
    "        assert (x1.size() == x2.size())\n",
    " \n",
    "        batch_size, seq_len = x1.size()\n",
    "        self.x1_hidden, self.x2_hidden = self.init_hidden(batch_size)\n",
    "        # get embedding of scentences\n",
    "        embed1 = self.embedding(x1)\n",
    "        #detach the frozen word embeddings except the <unk> and <pad>\n",
    "        #print(self.embedding(torch.tensor([3]).cuda())[0][:7])\n",
    "        #print(self.embedding(torch.tensor([1]).cuda())[0][:7])\n",
    "        #build mask\n",
    "#         mask1 = torch.ones(embed1.shape)\n",
    "#         for index1 in range(len(x1)):\n",
    "#             for index2 in range(len(x1[index1])):\n",
    "#                 if x1[index1][index2]==PAD_IDX or x1[index1][index2]==UNK_IDX:\n",
    "#                     mask1[index1][index2].zero_()\n",
    "#         mask1 = mask1.to(device)\n",
    "        mask1 = (x1 == 1).type(torch.cuda.FloatTensor)\n",
    "        mask1 = mask1.unsqueeze(2).repeat(1, 1, 300)\n",
    "        #print(mask1)\n",
    "        embed1 = mask1 * embed1.float() + (1-mask1) * (embed1.clone().detach().float())\n",
    "        \n",
    "        embed2 = self.embedding(x2)\n",
    "#         mask2 = torch.ones(embed2.shape)\n",
    "#         for index1 in range(len(x2)):\n",
    "#             for index2 in range(len(x2[index1])):\n",
    "#                 if x2[index1][index2]==PAD_IDX or x2[index1][index2]==UNK_IDX:\n",
    "#                     mask2[index1][index2].zero_()\n",
    "#         mask2 = mask2.to(device)\n",
    "        mask2 = (x2 == 1).type(torch.cuda.FloatTensor)\n",
    "        mask2 = mask2.unsqueeze(2).repeat(1, 1, 300)\n",
    "        embed2 = mask2 * embed2.float() + (1-mask2) * (embed2.clone().detach().float())\n",
    "\n",
    "        # pack padded sequence, descending order\n",
    "        embed1 = torch.nn.utils.rnn.pack_padded_sequence(embed1, x1_lengths.cpu().numpy(), batch_first=True)\n",
    "        embed2 = torch.nn.utils.rnn.pack_padded_sequence(embed2, x2_lengths.cpu().numpy(), batch_first=True)\n",
    "\n",
    "        # fprop though RNN      \n",
    "        _, self.x1_hidden = self.rnn(embed1, self.x1_hidden)\n",
    "        _, self.x2_hidden = self.rnn(embed2, self.x2_hidden)\n",
    "    \n",
    "        #unsort hidden states, hidden: seq_len, batch, num_directions * hidden_size\n",
    "        self.x1_hidden[0] = self.x1_hidden[0][x1_unsort_idx]\n",
    "        self.x1_hidden[1] = self.x1_hidden[1][x1_unsort_idx]\n",
    "        self.x2_hidden[0] = self.x2_hidden[0][x2_unsort_idx]\n",
    "        self.x2_hidden[1] = self.x2_hidden[1][x2_unsort_idx]\n",
    "        self.x1_hidden = torch.cat((self.x1_hidden[0], self.x1_hidden[1]),1)\n",
    "        self.x2_hidden = torch.cat((self.x2_hidden[0], self.x2_hidden[1]),1)\n",
    "\n",
    "        #interact\n",
    "        if self.interact_option == 'concat':\n",
    "            #concat\n",
    "            rnn_out = torch.cat((self.x1_hidden,self.x2_hidden), 1)\n",
    "        elif self.interact_option == 'mul':\n",
    "            #element-wise mul\n",
    "            rnn_out = self.x1_hidden * self.x2_hidden\n",
    "\n",
    "        #pass through 2 full connected layers\n",
    "        interm = self.fc1(rnn_out)\n",
    "        interm = F.relu(interm)\n",
    "        if self.dropout != 0:\n",
    "            interm = self.dropout_layer(interm)\n",
    "        logits = self.fc2(interm)\n",
    "        logits = F.log_softmax(logits,dim = 1)\n",
    "        \n",
    "        return logits\n"
   ]
  },
  {
   "cell_type": "code",
   "execution_count": 8,
   "metadata": {},
   "outputs": [],
   "source": [
    "def test_model(loader, model, criterion):\n",
    "    \"\"\"\n",
    "    Help function that tests the model's performance on a dataset\n",
    "    @param: loader - data loader for the dataset to test against\n",
    "    \"\"\"\n",
    "    correct = 0\n",
    "    total = 0\n",
    "    loss = 0\n",
    "    model.eval()\n",
    "    for x1,x2,x1_len,x2_len, x1_unsort_idx, x2_unsort_idx, labels in loader:\n",
    "        x1_batch,x2_batch, x1_lengths_batch, x2_lengths_batch, x1_unsort_idx_batch, x2_unsort_idx_batch, label_batch =x1,x2,x1_len,x2_len,  x1_unsort_idx, x2_unsort_idx, labels\n",
    "        x1_batch = x1_batch.long().to(device)\n",
    "        x2_batch = x2_batch.long().to(device)\n",
    "        x1_lengths_batch = x1_lengths_batch.to(device)\n",
    "        x2_lengths_batch = x2_lengths_batch.to(device)\n",
    "        label_batch = label_batch.to(device)\n",
    "        outputs = model(x1_batch,x2_batch, x1_lengths_batch, x2_lengths_batch, x1_unsort_idx_batch, x2_unsort_idx_batch)\n",
    "        predicted = outputs.max(1, keepdim=True)[1]\n",
    "\n",
    "        loss += criterion(outputs, label_batch).item() *  labels.size(0)\n",
    "        \n",
    "        total += label_batch.size(0)\n",
    "        correct += predicted.eq(label_batch.view_as(predicted)).sum().item()\n",
    "    return loss/total,(100 * correct / total)"
   ]
  },
  {
   "cell_type": "code",
   "execution_count": 42,
   "metadata": {
    "scrolled": true
   },
   "outputs": [
    {
     "name": "stdout",
     "output_type": "stream",
     "text": [
      "Epoch: [1/15], Step: [301/1563], Validation Acc: 54.1, Traning Acc: 54.695\n",
      "Epoch: [1/15], Step: [601/1563], Validation Acc: 58.5, Traning Acc: 58.573\n",
      "Epoch: [1/15], Step: [901/1563], Validation Acc: 58.1, Traning Acc: 59.012\n",
      "Epoch: [1/15], Step: [1201/1563], Validation Acc: 60.1, Traning Acc: 60.369\n",
      "Epoch: [1/15], Step: [1501/1563], Validation Acc: 60.2, Traning Acc: 61.396\n",
      "Epoch 1 Finished! Val Loss: 0.8681819791793823, Train Loss: 0.8396371284866333\n",
      "Epoch: [2/15], Step: [301/1563], Validation Acc: 62.5, Traning Acc: 62.355\n",
      "Epoch: [2/15], Step: [601/1563], Validation Acc: 61.8, Traning Acc: 63.599\n",
      "Epoch: [2/15], Step: [901/1563], Validation Acc: 63.5, Traning Acc: 64.761\n",
      "Epoch: [2/15], Step: [1201/1563], Validation Acc: 64.4, Traning Acc: 65.142\n",
      "Epoch: [2/15], Step: [1501/1563], Validation Acc: 66.1, Traning Acc: 66.571\n",
      "Epoch 2 Finished! Val Loss: 0.7965222043991089, Train Loss: 0.7620153292655945\n",
      "Epoch: [3/15], Step: [301/1563], Validation Acc: 66.5, Traning Acc: 67.002\n",
      "Epoch: [3/15], Step: [601/1563], Validation Acc: 66.7, Traning Acc: 67.837\n",
      "Epoch: [3/15], Step: [901/1563], Validation Acc: 65.6, Traning Acc: 68.058\n",
      "Epoch: [3/15], Step: [1201/1563], Validation Acc: 65.7, Traning Acc: 68.179\n",
      "Epoch: [3/15], Step: [1501/1563], Validation Acc: 65.7, Traning Acc: 68.884\n",
      "Epoch 3 Finished! Val Loss: 0.7627153959274292, Train Loss: 0.7164607546806335\n",
      "Epoch: [4/15], Step: [301/1563], Validation Acc: 67.4, Traning Acc: 69.364\n",
      "Epoch: [4/15], Step: [601/1563], Validation Acc: 67.6, Traning Acc: 69.77\n",
      "Epoch: [4/15], Step: [901/1563], Validation Acc: 67.0, Traning Acc: 69.755\n",
      "Epoch: [4/15], Step: [1201/1563], Validation Acc: 67.8, Traning Acc: 70.439\n",
      "Epoch: [4/15], Step: [1501/1563], Validation Acc: 67.5, Traning Acc: 70.763\n",
      "Epoch 4 Finished! Val Loss: 0.7474220509529114, Train Loss: 0.6835823372459412\n",
      "Epoch: [5/15], Step: [301/1563], Validation Acc: 67.6, Traning Acc: 70.916\n",
      "Epoch: [5/15], Step: [601/1563], Validation Acc: 68.4, Traning Acc: 71.43\n",
      "Epoch: [5/15], Step: [901/1563], Validation Acc: 68.9, Traning Acc: 71.316\n",
      "Epoch: [5/15], Step: [1201/1563], Validation Acc: 67.0, Traning Acc: 71.694\n",
      "Epoch: [5/15], Step: [1501/1563], Validation Acc: 68.9, Traning Acc: 72.355\n",
      "Epoch 5 Finished! Val Loss: 0.7405743174552918, Train Loss: 0.6563079339027404\n",
      "Epoch: [6/15], Step: [301/1563], Validation Acc: 69.2, Traning Acc: 72.501\n",
      "Epoch: [6/15], Step: [601/1563], Validation Acc: 68.7, Traning Acc: 72.623\n",
      "Epoch: [6/15], Step: [901/1563], Validation Acc: 69.1, Traning Acc: 72.68\n",
      "Epoch: [6/15], Step: [1201/1563], Validation Acc: 69.5, Traning Acc: 73.569\n",
      "Epoch: [6/15], Step: [1501/1563], Validation Acc: 69.2, Traning Acc: 73.727\n",
      "Epoch 6 Finished! Val Loss: 0.7281890172958374, Train Loss: 0.6281890146064758\n",
      "Epoch: [7/15], Step: [301/1563], Validation Acc: 69.1, Traning Acc: 73.979\n",
      "Epoch: [7/15], Step: [601/1563], Validation Acc: 70.8, Traning Acc: 74.404\n",
      "Epoch: [7/15], Step: [901/1563], Validation Acc: 70.9, Traning Acc: 74.712\n",
      "Epoch: [7/15], Step: [1201/1563], Validation Acc: 70.4, Traning Acc: 75.072\n",
      "Epoch: [7/15], Step: [1501/1563], Validation Acc: 69.7, Traning Acc: 74.708\n",
      "Epoch 7 Finished! Val Loss: 0.6958864030838012, Train Loss: 0.5932632495498658\n",
      "Epoch: [8/15], Step: [301/1563], Validation Acc: 69.8, Traning Acc: 75.687\n",
      "Epoch: [8/15], Step: [601/1563], Validation Acc: 69.7, Traning Acc: 75.676\n",
      "Epoch: [8/15], Step: [901/1563], Validation Acc: 70.2, Traning Acc: 76.07\n",
      "Epoch: [8/15], Step: [1201/1563], Validation Acc: 71.7, Traning Acc: 76.204\n",
      "Epoch: [8/15], Step: [1501/1563], Validation Acc: 70.2, Traning Acc: 76.276\n",
      "Epoch 8 Finished! Val Loss: 0.7248034706115722, Train Loss: 0.5701769479179383\n",
      "Epoch: [9/15], Step: [301/1563], Validation Acc: 71.8, Traning Acc: 76.826\n",
      "Epoch: [9/15], Step: [601/1563], Validation Acc: 70.2, Traning Acc: 77.048\n",
      "Epoch: [9/15], Step: [901/1563], Validation Acc: 70.8, Traning Acc: 77.482\n",
      "Epoch: [9/15], Step: [1201/1563], Validation Acc: 71.3, Traning Acc: 77.928\n",
      "Epoch: [9/15], Step: [1501/1563], Validation Acc: 69.2, Traning Acc: 77.851\n",
      "Epoch 9 Finished! Val Loss: 0.7103432354927063, Train Loss: 0.5324264623069763\n",
      "Epoch: [10/15], Step: [301/1563], Validation Acc: 71.5, Traning Acc: 78.268\n",
      "Epoch: [10/15], Step: [601/1563], Validation Acc: 71.3, Traning Acc: 78.232\n",
      "Epoch: [10/15], Step: [901/1563], Validation Acc: 70.6, Traning Acc: 78.819\n",
      "Epoch: [10/15], Step: [1201/1563], Validation Acc: 71.1, Traning Acc: 79.039\n",
      "Epoch: [10/15], Step: [1501/1563], Validation Acc: 70.1, Traning Acc: 79.461\n",
      "Epoch 10 Finished! Val Loss: 0.7173430218696594, Train Loss: 0.5136269993495941\n",
      "Epoch: [11/15], Step: [301/1563], Validation Acc: 69.3, Traning Acc: 79.585\n",
      "Epoch: [11/15], Step: [601/1563], Validation Acc: 69.8, Traning Acc: 79.776\n",
      "Epoch: [11/15], Step: [901/1563], Validation Acc: 71.0, Traning Acc: 80.123\n",
      "Epoch: [11/15], Step: [1201/1563], Validation Acc: 70.6, Traning Acc: 80.26\n",
      "Epoch: [11/15], Step: [1501/1563], Validation Acc: 70.0, Traning Acc: 80.723\n",
      "Epoch 11 Finished! Val Loss: 0.7302073740959167, Train Loss: 0.47177785144805906\n",
      "Epoch: [12/15], Step: [301/1563], Validation Acc: 69.8, Traning Acc: 81.182\n",
      "Epoch: [12/15], Step: [601/1563], Validation Acc: 70.6, Traning Acc: 81.611\n",
      "Epoch: [12/15], Step: [901/1563], Validation Acc: 70.2, Traning Acc: 81.963\n",
      "Epoch: [12/15], Step: [1201/1563], Validation Acc: 71.6, Traning Acc: 82.194\n",
      "Epoch: [12/15], Step: [1501/1563], Validation Acc: 70.9, Traning Acc: 82.323\n",
      "Epoch 12 Finished! Val Loss: 0.7521534008979798, Train Loss: 0.4484628497886658\n",
      "Epoch: [13/15], Step: [301/1563], Validation Acc: 71.0, Traning Acc: 82.718\n",
      "Epoch: [13/15], Step: [601/1563], Validation Acc: 69.7, Traning Acc: 82.645\n",
      "Epoch: [13/15], Step: [901/1563], Validation Acc: 71.0, Traning Acc: 83.371\n",
      "Epoch: [13/15], Step: [1201/1563], Validation Acc: 70.1, Traning Acc: 83.726\n",
      "Epoch: [13/15], Step: [1501/1563], Validation Acc: 69.2, Traning Acc: 84.209\n",
      "Epoch 13 Finished! Val Loss: 0.7532796773910523, Train Loss: 0.42144674010276795\n",
      "Epoch: [14/15], Step: [301/1563], Validation Acc: 70.0, Traning Acc: 84.451\n",
      "Epoch: [14/15], Step: [601/1563], Validation Acc: 70.3, Traning Acc: 84.791\n",
      "Epoch: [14/15], Step: [901/1563], Validation Acc: 69.5, Traning Acc: 85.195\n",
      "Epoch: [14/15], Step: [1201/1563], Validation Acc: 70.3, Traning Acc: 85.509\n",
      "Epoch: [14/15], Step: [1501/1563], Validation Acc: 70.7, Traning Acc: 85.566\n",
      "Epoch 14 Finished! Val Loss: 0.7620362501144409, Train Loss: 0.37364613494873045\n",
      "Epoch: [15/15], Step: [301/1563], Validation Acc: 69.3, Traning Acc: 86.248\n",
      "Epoch: [15/15], Step: [601/1563], Validation Acc: 70.2, Traning Acc: 86.495\n",
      "Epoch: [15/15], Step: [901/1563], Validation Acc: 69.8, Traning Acc: 86.614\n",
      "Epoch: [15/15], Step: [1201/1563], Validation Acc: 70.0, Traning Acc: 86.941\n",
      "Epoch: [15/15], Step: [1501/1563], Validation Acc: 70.1, Traning Acc: 87.398\n",
      "Epoch 15 Finished! Val Loss: 0.8058660273551941, Train Loss: 0.3330888666152954\n"
     ]
    }
   ],
   "source": [
    "\n",
    "model = RNN(loaded_embeddings, hidden_size=hidden_size, interm_size=interm_size, num_layers=1, num_classes=3)\n",
    "model = model.to(device)\n",
    "val_acc_records = []\n",
    "train_acc_records = []\n",
    "val_loss_records = []\n",
    "train_loss_records = []\n",
    "\n",
    "torch.backends.cudnn.benchmark=True\n",
    "# Criterion and Optimizer\n",
    "criterion = torch.nn.NLLLoss()\n",
    "#parameters = filter(lambda p: p.requires_grad, model.parameters())\n",
    "optimizer = torch.optim.Adam(model.parameters(), lr=learning_rate)\n",
    "\n",
    "# Train the model\n",
    "total_step = len(train_loader)\n",
    "\n",
    "for epoch in range(num_epochs):\n",
    "    loss_sum = 0.0\n",
    "    total = 0\n",
    "    for i, (x1,x2,x1_len,x2_len, x1_unsort_idx, x2_unsort_idx, labels) in enumerate(train_loader):\n",
    "        model.train()\n",
    "        optimizer.zero_grad()\n",
    "        # Forward pass\n",
    "        x1 = x1.long().to(device)\n",
    "        x2 = x2.long().to(device)\n",
    "        x1_len = x1_len.to(device)\n",
    "        x2_len = x2_len.to(device)\n",
    "        labels = labels.to(device)\n",
    "        outputs = model(x1, x2, x1_len, x2_len, x1_unsort_idx, x2_unsort_idx)\n",
    "\n",
    "        loss = criterion(outputs, labels)\n",
    "        \n",
    "        loss_sum += loss.item() * labels.size(0)\n",
    "        total += labels.size(0)\n",
    "        # Backward and optimize\n",
    "        loss.backward()        \n",
    "        optimizer.step()\n",
    "        # validate every 100 iterations\n",
    "        if i > 0 and i % 300 == 0:\n",
    "            # validate\n",
    "            val_loss, val_acc = test_model(val_loader, model)\n",
    "            train_loss, train_acc = test_model(train_loader, model)\n",
    "            print('Epoch: [{}/{}], Step: [{}/{}], Validation Acc: {}, Traning Acc: {}'.format(\n",
    "                       epoch+1, num_epochs, i+1, len(train_loader), val_acc, train_acc))\n",
    "    val_loss, val_acc = test_model(val_loader, model)\n",
    "    print('Epoch {} Finished! Val Loss: {}, Train Loss: {}'.format(epoch+1, val_loss, loss_sum/total))\n",
    "    train_loss_records.append(loss_sum/total)\n",
    "    train_acc_records.append(train_acc)\n",
    "    val_loss_records.append(val_loss)\n",
    "    val_acc_records.append(val_acc)"
   ]
  },
  {
   "cell_type": "code",
   "execution_count": null,
   "metadata": {},
   "outputs": [],
   "source": []
  },
  {
   "cell_type": "code",
   "execution_count": 47,
   "metadata": {},
   "outputs": [
    {
     "data": {
      "image/png": "[encoded data removed]",
      "text/plain": [
       "<Figure size 432x288 with 1 Axes>"
      ]
     },
     "metadata": {
      "needs_background": "light"
     },
     "output_type": "display_data"
    }
   ],
   "source": [
    "import matplotlib.pyplot as plt\n",
    "%matplotlib inline\n",
    "#visualization\n",
    "val_acc_records = [i/100 for i in val_acc_records]\n",
    "epoches = np.arange(num_epochs) + 1\n",
    "plt.plot(epoches,train_loss_records, label = \"Training Loss\")\n",
    "plt.plot(epoches, val_loss_records, label = \"Validation Loss\")\n",
    "plt.plot(epoches, val_acc_records, label = \"Validation Accuracy\")\n",
    "plt.legend(loc='upper right')\n",
    "plt.title('Result of RNN')\n",
    "plt.show()"
   ]
  },
  {
   "cell_type": "markdown",
   "metadata": {},
   "source": [
    "## Parameter Tuning (RNN)"
   ]
  },
  {
   "cell_type": "markdown",
   "metadata": {},
   "source": [
    "### Size of Hidden Dimension"
   ]
  },
  {
   "cell_type": "code",
   "execution_count": 8,
   "metadata": {},
   "outputs": [],
   "source": [
    "#parameters\n",
    "hidden_size = 200\n",
    "interm_size = 100\n",
    "learning_rate = 5e-4\n",
    "num_epochs = 15 # number epoch to train"
   ]
  },
  {
   "cell_type": "code",
   "execution_count": 22,
   "metadata": {},
   "outputs": [],
   "source": [
    "words_to_load = 50000\n",
    "emb_size = 300\n",
    "def RNN_Tuning(train_sentence,train_label, val_sentence, val_label,words, loaded_embeddings, hidden_size, interm_size, interact = 'concat', weight_decay = 0, dropout = 0):\n",
    "    train_dataset = SNLIDataset(train_sentence, train_label, words)\n",
    "    train_loader = torch.utils.data.DataLoader(dataset=train_dataset,\n",
    "                                               batch_size=BATCH_SIZE,\n",
    "                                               collate_fn=collate_func,\n",
    "                                               shuffle=True)\n",
    "\n",
    "    val_dataset = SNLIDataset(val_sentence, val_label, words)\n",
    "    val_loader = torch.utils.data.DataLoader(dataset=val_dataset,\n",
    "                                               batch_size=BATCH_SIZE,\n",
    "                                               collate_fn=collate_func,\n",
    "                                               shuffle=False)\n",
    "    model = RNN(loaded_embeddings, hidden_size=hidden_size, interm_size=interm_size, num_layers=1, num_classes=3, interact = interact, dropout = dropout)\n",
    "    model_parameters = filter(lambda p: p.requires_grad, model.parameters())\n",
    "    #Count number of parameters, minus the num of frozen embedding vectors since we detach them manually\n",
    "    num_params = sum([np.prod(p.size()) for p in model_parameters]) - emb_size * words_to_load\n",
    "    model = model.to(device)\n",
    "    val_acc_records = []\n",
    "    train_acc_records = []\n",
    "    val_loss_records = []\n",
    "    train_loss_records = []\n",
    "\n",
    "    torch.backends.cudnn.benchmark=True\n",
    "    # Criterion and Optimizer\n",
    "    criterion = torch.nn.NLLLoss()\n",
    "    #parameters = filter(lambda p: p.requires_grad, model.parameters())\n",
    "    optimizer = torch.optim.Adam(model.parameters(), lr=learning_rate, weight_decay=weight_decay)\n",
    "\n",
    "    # Train the model\n",
    "    total_step = len(train_loader)\n",
    "\n",
    "    for epoch in range(num_epochs):\n",
    "        loss_sum = 0.0\n",
    "        total = 0\n",
    "        for i, (x1,x2,x1_len,x2_len, x1_unsort_idx, x2_unsort_idx, labels) in enumerate(train_loader):\n",
    "            model.train()\n",
    "            optimizer.zero_grad()\n",
    "            # Forward pass\n",
    "            x1 = x1.long().to(device)\n",
    "            x2 = x2.long().to(device)\n",
    "            x1_len = x1_len.to(device)\n",
    "            x2_len = x2_len.to(device)\n",
    "            labels = labels.to(device)\n",
    "            outputs = model(x1, x2, x1_len, x2_len, x1_unsort_idx, x2_unsort_idx)\n",
    "\n",
    "            loss = criterion(outputs, labels)\n",
    "\n",
    "            loss_sum += loss.item() * labels.size(0)\n",
    "            total += labels.size(0)\n",
    "            # Backward and optimize\n",
    "            loss.backward()        \n",
    "            optimizer.step()\n",
    "            # validate every 100 iterations\n",
    "            if i > 0 and i % 700 == 0:\n",
    "                # validate\n",
    "                val_loss, val_acc = test_model(val_loader, model, criterion)\n",
    "                train_loss, train_acc = test_model(train_loader, model, criterion)\n",
    "                print('Epoch: [{}/{}], Step: [{}/{}], Validation Acc: {}, Traning Acc: {}'.format(\n",
    "                           epoch+1, num_epochs, i+1, len(train_loader), val_acc, train_acc))\n",
    "        val_loss, val_acc = test_model(val_loader, model, criterion)\n",
    "        print('Epoch {} Finished! Val Loss: {}, Train Loss: {}'.format(epoch+1, val_loss, loss_sum/total))\n",
    "        train_loss_records.append(loss_sum/total)\n",
    "        train_acc_records.append(train_acc)\n",
    "        val_loss_records.append(val_loss)\n",
    "        val_acc_records.append(val_acc)\n",
    "    return val_acc_records,train_acc_records,val_loss_records,train_loss_records, num_params"
   ]
  },
  {
   "cell_type": "code",
   "execution_count": 32,
   "metadata": {},
   "outputs": [
    {
     "name": "stdout",
     "output_type": "stream",
     "text": [
      "Epoch: [1/15], Step: [701/1563], Validation Acc: 59.2, Traning Acc: 58.571\n",
      "Epoch: [1/15], Step: [1401/1563], Validation Acc: 60.5, Traning Acc: 60.743\n",
      "Epoch 1 Finished! Val Loss: 0.8700408430099488, Train Loss: 0.9153703846549988\n",
      "Epoch: [2/15], Step: [701/1563], Validation Acc: 60.8, Traning Acc: 62.644\n",
      "Epoch: [2/15], Step: [1401/1563], Validation Acc: 62.8, Traning Acc: 63.846\n",
      "Epoch 2 Finished! Val Loss: 0.8137730255126953, Train Loss: 0.8313074986076355\n",
      "Epoch: [3/15], Step: [701/1563], Validation Acc: 64.9, Traning Acc: 66.201\n",
      "Epoch: [3/15], Step: [1401/1563], Validation Acc: 66.1, Traning Acc: 67.89\n",
      "Epoch 3 Finished! Val Loss: 0.7932989139556885, Train Loss: 0.7747049568748474\n",
      "Epoch: [4/15], Step: [701/1563], Validation Acc: 65.7, Traning Acc: 68.709\n",
      "Epoch: [4/15], Step: [1401/1563], Validation Acc: 67.1, Traning Acc: 69.342\n",
      "Epoch 4 Finished! Val Loss: 0.7700483455657959, Train Loss: 0.7312372947311402\n",
      "Epoch: [5/15], Step: [701/1563], Validation Acc: 67.8, Traning Acc: 70.704\n",
      "Epoch: [5/15], Step: [1401/1563], Validation Acc: 68.7, Traning Acc: 71.189\n",
      "Epoch 5 Finished! Val Loss: 0.7415418586730957, Train Loss: 0.7028946493530274\n",
      "Epoch: [6/15], Step: [701/1563], Validation Acc: 70.3, Traning Acc: 72.02\n",
      "Epoch: [6/15], Step: [1401/1563], Validation Acc: 69.2, Traning Acc: 72.081\n",
      "Epoch 6 Finished! Val Loss: 0.7297664299011231, Train Loss: 0.6780057016181946\n",
      "Epoch: [7/15], Step: [701/1563], Validation Acc: 68.5, Traning Acc: 73.049\n",
      "Epoch: [7/15], Step: [1401/1563], Validation Acc: 68.9, Traning Acc: 73.084\n",
      "Epoch 7 Finished! Val Loss: 0.7106275911331177, Train Loss: 0.6582579685211182\n",
      "Epoch: [8/15], Step: [701/1563], Validation Acc: 68.7, Traning Acc: 74.334\n",
      "Epoch: [8/15], Step: [1401/1563], Validation Acc: 69.2, Traning Acc: 74.695\n",
      "Epoch 8 Finished! Val Loss: 0.7085626301765442, Train Loss: 0.6359018360710144\n",
      "Epoch: [9/15], Step: [701/1563], Validation Acc: 69.6, Traning Acc: 75.037\n",
      "Epoch: [9/15], Step: [1401/1563], Validation Acc: 68.9, Traning Acc: 75.277\n",
      "Epoch 9 Finished! Val Loss: 0.7103239326477051, Train Loss: 0.6150059277534485\n",
      "Epoch: [10/15], Step: [701/1563], Validation Acc: 70.1, Traning Acc: 76.49\n",
      "Epoch: [10/15], Step: [1401/1563], Validation Acc: 71.7, Traning Acc: 77.012\n",
      "Epoch 10 Finished! Val Loss: 0.7148350000381469, Train Loss: 0.5932692852401733\n",
      "Epoch: [11/15], Step: [701/1563], Validation Acc: 70.5, Traning Acc: 77.59\n",
      "Epoch: [11/15], Step: [1401/1563], Validation Acc: 70.4, Traning Acc: 77.911\n",
      "Epoch 11 Finished! Val Loss: 0.7152852787971496, Train Loss: 0.5726888352870941\n",
      "Epoch: [12/15], Step: [701/1563], Validation Acc: 71.1, Traning Acc: 78.869\n",
      "Epoch: [12/15], Step: [1401/1563], Validation Acc: 70.5, Traning Acc: 79.276\n",
      "Epoch 12 Finished! Val Loss: 0.7034128055572509, Train Loss: 0.5513867259597778\n",
      "Epoch: [13/15], Step: [701/1563], Validation Acc: 71.0, Traning Acc: 78.397\n",
      "Epoch: [13/15], Step: [1401/1563], Validation Acc: 70.0, Traning Acc: 80.022\n",
      "Epoch 13 Finished! Val Loss: 0.7245088319778442, Train Loss: 0.5312089542198181\n",
      "Epoch: [14/15], Step: [701/1563], Validation Acc: 69.9, Traning Acc: 80.727\n",
      "Epoch: [14/15], Step: [1401/1563], Validation Acc: 70.4, Traning Acc: 81.286\n",
      "Epoch 14 Finished! Val Loss: 0.7274788484573365, Train Loss: 0.5106205006504059\n",
      "Epoch: [15/15], Step: [701/1563], Validation Acc: 70.6, Traning Acc: 81.665\n",
      "Epoch: [15/15], Step: [1401/1563], Validation Acc: 70.2, Traning Acc: 82.496\n",
      "Epoch 15 Finished! Val Loss: 0.7364785795211792, Train Loss: 0.487965410861969\n",
      "Epoch: [1/15], Step: [701/1563], Validation Acc: 59.5, Traning Acc: 59.09\n",
      "Epoch: [1/15], Step: [1401/1563], Validation Acc: 60.2, Traning Acc: 61.111\n",
      "Epoch 1 Finished! Val Loss: 0.8588331761360168, Train Loss: 0.908223337726593\n",
      "Epoch: [2/15], Step: [701/1563], Validation Acc: 62.0, Traning Acc: 63.699\n",
      "Epoch: [2/15], Step: [1401/1563], Validation Acc: 63.8, Traning Acc: 65.875\n",
      "Epoch 2 Finished! Val Loss: 0.7883129425048828, Train Loss: 0.8128837060546875\n",
      "Epoch: [3/15], Step: [701/1563], Validation Acc: 66.5, Traning Acc: 67.48\n",
      "Epoch: [3/15], Step: [1401/1563], Validation Acc: 68.1, Traning Acc: 68.44\n",
      "Epoch 3 Finished! Val Loss: 0.7724248743057252, Train Loss: 0.7538474146461487\n",
      "Epoch: [4/15], Step: [701/1563], Validation Acc: 67.3, Traning Acc: 69.76\n",
      "Epoch: [4/15], Step: [1401/1563], Validation Acc: 68.0, Traning Acc: 70.606\n",
      "Epoch 4 Finished! Val Loss: 0.7452927613258362, Train Loss: 0.7187038041496276\n",
      "Epoch: [5/15], Step: [701/1563], Validation Acc: 67.8, Traning Acc: 70.823\n",
      "Epoch: [5/15], Step: [1401/1563], Validation Acc: 68.9, Traning Acc: 72.077\n",
      "Epoch 5 Finished! Val Loss: 0.7279703359603882, Train Loss: 0.690312635307312\n",
      "Epoch: [6/15], Step: [701/1563], Validation Acc: 67.7, Traning Acc: 72.734\n",
      "Epoch: [6/15], Step: [1401/1563], Validation Acc: 69.0, Traning Acc: 73.543\n",
      "Epoch 6 Finished! Val Loss: 0.7226103439331054, Train Loss: 0.6618001421928406\n",
      "Epoch: [7/15], Step: [701/1563], Validation Acc: 69.9, Traning Acc: 74.489\n",
      "Epoch: [7/15], Step: [1401/1563], Validation Acc: 69.1, Traning Acc: 74.802\n",
      "Epoch 7 Finished! Val Loss: 0.7236210970878602, Train Loss: 0.6348138616561889\n",
      "Epoch: [8/15], Step: [701/1563], Validation Acc: 70.3, Traning Acc: 75.499\n",
      "Epoch: [8/15], Step: [1401/1563], Validation Acc: 69.8, Traning Acc: 76.477\n",
      "Epoch 8 Finished! Val Loss: 0.7110589094161988, Train Loss: 0.6093054985046387\n",
      "Epoch: [9/15], Step: [701/1563], Validation Acc: 71.6, Traning Acc: 77.076\n",
      "Epoch: [9/15], Step: [1401/1563], Validation Acc: 68.3, Traning Acc: 77.721\n",
      "Epoch 9 Finished! Val Loss: 0.7123993606567383, Train Loss: 0.5827897678947449\n",
      "Epoch: [10/15], Step: [701/1563], Validation Acc: 70.4, Traning Acc: 78.231\n",
      "Epoch: [10/15], Step: [1401/1563], Validation Acc: 68.1, Traning Acc: 78.733\n",
      "Epoch 10 Finished! Val Loss: 0.7165762677192687, Train Loss: 0.5564202688312531\n",
      "Epoch: [11/15], Step: [701/1563], Validation Acc: 68.7, Traning Acc: 79.912\n",
      "Epoch: [11/15], Step: [1401/1563], Validation Acc: 68.7, Traning Acc: 80.629\n",
      "Epoch 11 Finished! Val Loss: 0.7117241940498352, Train Loss: 0.5287426825237275\n",
      "Epoch: [12/15], Step: [701/1563], Validation Acc: 69.2, Traning Acc: 80.882\n",
      "Epoch: [12/15], Step: [1401/1563], Validation Acc: 68.5, Traning Acc: 82.217\n",
      "Epoch 12 Finished! Val Loss: 0.7484549455642701, Train Loss: 0.5007913809585571\n",
      "Epoch: [13/15], Step: [701/1563], Validation Acc: 68.4, Traning Acc: 82.894\n",
      "Epoch: [13/15], Step: [1401/1563], Validation Acc: 68.8, Traning Acc: 83.719\n",
      "Epoch 13 Finished! Val Loss: 0.7849203329086304, Train Loss: 0.47002533844947814\n",
      "Epoch: [14/15], Step: [701/1563], Validation Acc: 69.9, Traning Acc: 84.252\n",
      "Epoch: [14/15], Step: [1401/1563], Validation Acc: 69.5, Traning Acc: 85.003\n",
      "Epoch 14 Finished! Val Loss: 0.8022763190269471, Train Loss: 0.43759547470092774\n",
      "Epoch: [15/15], Step: [701/1563], Validation Acc: 69.0, Traning Acc: 86.007\n",
      "Epoch: [15/15], Step: [1401/1563], Validation Acc: 68.4, Traning Acc: 86.916\n",
      "Epoch 15 Finished! Val Loss: 0.8295116863250732, Train Loss: 0.4013195229053497\n",
      "Epoch: [1/15], Step: [701/1563], Validation Acc: 57.8, Traning Acc: 58.293\n",
      "Epoch: [1/15], Step: [1401/1563], Validation Acc: 62.1, Traning Acc: 61.694\n",
      "Epoch 1 Finished! Val Loss: 0.8612977180480957, Train Loss: 0.9079291345214844\n",
      "Epoch: [2/15], Step: [701/1563], Validation Acc: 62.8, Traning Acc: 64.44\n",
      "Epoch: [2/15], Step: [1401/1563], Validation Acc: 64.6, Traning Acc: 66.404\n",
      "Epoch 2 Finished! Val Loss: 0.7777440223693848, Train Loss: 0.8047754552268982\n",
      "Epoch: [3/15], Step: [701/1563], Validation Acc: 66.4, Traning Acc: 68.26\n",
      "Epoch: [3/15], Step: [1401/1563], Validation Acc: 66.3, Traning Acc: 69.261\n",
      "Epoch 3 Finished! Val Loss: 0.7696035876274109, Train Loss: 0.7463895746803284\n",
      "Epoch: [4/15], Step: [701/1563], Validation Acc: 67.5, Traning Acc: 70.246\n",
      "Epoch: [4/15], Step: [1401/1563], Validation Acc: 67.4, Traning Acc: 70.998\n",
      "Epoch 4 Finished! Val Loss: 0.7661775059700012, Train Loss: 0.7082370644378662\n",
      "Epoch: [5/15], Step: [701/1563], Validation Acc: 68.5, Traning Acc: 72.062\n",
      "Epoch: [5/15], Step: [1401/1563], Validation Acc: 67.4, Traning Acc: 72.906\n",
      "Epoch 5 Finished! Val Loss: 0.730912254333496, Train Loss: 0.6769728692626953\n",
      "Epoch: [6/15], Step: [701/1563], Validation Acc: 69.2, Traning Acc: 73.588\n",
      "Epoch: [6/15], Step: [1401/1563], Validation Acc: 70.0, Traning Acc: 74.569\n"
     ]
    },
    {
     "name": "stdout",
     "output_type": "stream",
     "text": [
      "Epoch 6 Finished! Val Loss: 0.7389282865524291, Train Loss: 0.6471569217300415\n",
      "Epoch: [7/15], Step: [701/1563], Validation Acc: 69.3, Traning Acc: 75.338\n",
      "Epoch: [7/15], Step: [1401/1563], Validation Acc: 70.9, Traning Acc: 75.985\n",
      "Epoch 7 Finished! Val Loss: 0.717462613105774, Train Loss: 0.6172138155746459\n",
      "Epoch: [8/15], Step: [701/1563], Validation Acc: 69.8, Traning Acc: 76.236\n",
      "Epoch: [8/15], Step: [1401/1563], Validation Acc: 70.4, Traning Acc: 77.864\n",
      "Epoch 8 Finished! Val Loss: 0.7201681022644043, Train Loss: 0.5864883637428284\n",
      "Epoch: [9/15], Step: [701/1563], Validation Acc: 70.9, Traning Acc: 78.745\n",
      "Epoch: [9/15], Step: [1401/1563], Validation Acc: 70.2, Traning Acc: 79.321\n",
      "Epoch 9 Finished! Val Loss: 0.7279545426368713, Train Loss: 0.5572529087638854\n",
      "Epoch: [10/15], Step: [701/1563], Validation Acc: 70.5, Traning Acc: 80.32\n",
      "Epoch: [10/15], Step: [1401/1563], Validation Acc: 69.7, Traning Acc: 81.162\n",
      "Epoch 10 Finished! Val Loss: 0.7477174921035766, Train Loss: 0.5251633462715148\n",
      "Epoch: [11/15], Step: [701/1563], Validation Acc: 69.0, Traning Acc: 81.702\n",
      "Epoch: [11/15], Step: [1401/1563], Validation Acc: 70.3, Traning Acc: 83.103\n",
      "Epoch 11 Finished! Val Loss: 0.78393430519104, Train Loss: 0.49080634798049927\n",
      "Epoch: [12/15], Step: [701/1563], Validation Acc: 70.3, Traning Acc: 83.417\n",
      "Epoch: [12/15], Step: [1401/1563], Validation Acc: 69.2, Traning Acc: 84.4\n",
      "Epoch 12 Finished! Val Loss: 0.7878259553909301, Train Loss: 0.4535117334270477\n",
      "Epoch: [13/15], Step: [701/1563], Validation Acc: 68.6, Traning Acc: 85.796\n",
      "Epoch: [13/15], Step: [1401/1563], Validation Acc: 69.5, Traning Acc: 86.914\n",
      "Epoch 13 Finished! Val Loss: 0.8378196334838868, Train Loss: 0.41127842156410216\n",
      "Epoch: [14/15], Step: [701/1563], Validation Acc: 69.2, Traning Acc: 87.224\n",
      "Epoch: [14/15], Step: [1401/1563], Validation Acc: 68.2, Traning Acc: 89.171\n",
      "Epoch 14 Finished! Val Loss: 0.9077694826126098, Train Loss: 0.36659695627212524\n",
      "Epoch: [15/15], Step: [701/1563], Validation Acc: 70.1, Traning Acc: 90.42\n",
      "Epoch: [15/15], Step: [1401/1563], Validation Acc: 68.7, Traning Acc: 91.034\n",
      "Epoch 15 Finished! Val Loss: 1.0099641647338866, Train Loss: 0.3177912052631378\n",
      "Epoch: [1/15], Step: [701/1563], Validation Acc: 59.5, Traning Acc: 58.64\n",
      "Epoch: [1/15], Step: [1401/1563], Validation Acc: 60.8, Traning Acc: 61.664\n",
      "Epoch 1 Finished! Val Loss: 0.8539247665405273, Train Loss: 0.9060482705688476\n",
      "Epoch: [2/15], Step: [701/1563], Validation Acc: 64.5, Traning Acc: 65.664\n",
      "Epoch: [2/15], Step: [1401/1563], Validation Acc: 64.3, Traning Acc: 66.498\n",
      "Epoch 2 Finished! Val Loss: 0.7987666325569153, Train Loss: 0.7949366687393189\n",
      "Epoch: [3/15], Step: [701/1563], Validation Acc: 66.1, Traning Acc: 68.471\n",
      "Epoch: [3/15], Step: [1401/1563], Validation Acc: 66.8, Traning Acc: 69.891\n",
      "Epoch 3 Finished! Val Loss: 0.7491761312484742, Train Loss: 0.7379460583877564\n",
      "Epoch: [4/15], Step: [701/1563], Validation Acc: 65.4, Traning Acc: 70.664\n",
      "Epoch: [4/15], Step: [1401/1563], Validation Acc: 66.5, Traning Acc: 71.327\n",
      "Epoch 4 Finished! Val Loss: 0.734696861743927, Train Loss: 0.7025405731582641\n",
      "Epoch: [5/15], Step: [701/1563], Validation Acc: 68.2, Traning Acc: 71.765\n",
      "Epoch: [5/15], Step: [1401/1563], Validation Acc: 68.9, Traning Acc: 73.033\n",
      "Epoch 5 Finished! Val Loss: 0.7083041868209838, Train Loss: 0.6682472782325745\n",
      "Epoch: [6/15], Step: [701/1563], Validation Acc: 68.3, Traning Acc: 74.366\n",
      "Epoch: [6/15], Step: [1401/1563], Validation Acc: 71.4, Traning Acc: 75.214\n",
      "Epoch 6 Finished! Val Loss: 0.7168043079376221, Train Loss: 0.6365283048820496\n",
      "Epoch: [7/15], Step: [701/1563], Validation Acc: 71.0, Traning Acc: 75.962\n",
      "Epoch: [7/15], Step: [1401/1563], Validation Acc: 71.1, Traning Acc: 76.675\n",
      "Epoch 7 Finished! Val Loss: 0.7110414805412293, Train Loss: 0.6056605999183655\n",
      "Epoch: [8/15], Step: [701/1563], Validation Acc: 71.1, Traning Acc: 77.635\n",
      "Epoch: [8/15], Step: [1401/1563], Validation Acc: 71.9, Traning Acc: 78.568\n",
      "Epoch 8 Finished! Val Loss: 0.7018112349510193, Train Loss: 0.5735887714576721\n",
      "Epoch: [9/15], Step: [701/1563], Validation Acc: 69.3, Traning Acc: 79.198\n",
      "Epoch: [9/15], Step: [1401/1563], Validation Acc: 71.2, Traning Acc: 80.448\n",
      "Epoch 9 Finished! Val Loss: 0.7176565818786621, Train Loss: 0.5399685000419616\n",
      "Epoch: [10/15], Step: [701/1563], Validation Acc: 71.7, Traning Acc: 81.514\n",
      "Epoch: [10/15], Step: [1401/1563], Validation Acc: 69.7, Traning Acc: 82.029\n",
      "Epoch 10 Finished! Val Loss: 0.7493578691482544, Train Loss: 0.503065749092102\n",
      "Epoch: [11/15], Step: [701/1563], Validation Acc: 71.6, Traning Acc: 83.159\n",
      "Epoch: [11/15], Step: [1401/1563], Validation Acc: 71.4, Traning Acc: 83.88\n",
      "Epoch 11 Finished! Val Loss: 0.7621939997673035, Train Loss: 0.4631135455226898\n",
      "Epoch: [12/15], Step: [701/1563], Validation Acc: 70.6, Traning Acc: 85.597\n",
      "Epoch: [12/15], Step: [1401/1563], Validation Acc: 70.3, Traning Acc: 86.501\n",
      "Epoch 12 Finished! Val Loss: 0.8021645412445069, Train Loss: 0.4184811444282532\n",
      "Epoch: [13/15], Step: [701/1563], Validation Acc: 69.9, Traning Acc: 87.923\n",
      "Epoch: [13/15], Step: [1401/1563], Validation Acc: 70.6, Traning Acc: 89.163\n",
      "Epoch 13 Finished! Val Loss: 0.8513493542671203, Train Loss: 0.3693535509777069\n",
      "Epoch: [14/15], Step: [701/1563], Validation Acc: 71.0, Traning Acc: 90.589\n",
      "Epoch: [14/15], Step: [1401/1563], Validation Acc: 70.4, Traning Acc: 91.597\n",
      "Epoch 14 Finished! Val Loss: 0.9177714018821717, Train Loss: 0.31185433929443357\n",
      "Epoch: [15/15], Step: [701/1563], Validation Acc: 69.3, Traning Acc: 91.868\n",
      "Epoch: [15/15], Step: [1401/1563], Validation Acc: 71.2, Traning Acc: 93.469\n",
      "Epoch 15 Finished! Val Loss: 1.0814137020111083, Train Loss: 0.2519381878566742\n"
     ]
    }
   ],
   "source": [
    "val_acc_records_hidsize = {}\n",
    "train_acc_records_hidsize = {}\n",
    "val_loss_records_hidsize = {}\n",
    "train_loss_records_hidsize = {}\n",
    "num_params_records_hidsize = {}\n",
    "for hidden_size in[100,200,300,400]:\n",
    "    val_acc_records_hidsize[hidden_size],train_acc_records_hidsize[hidden_size],val_loss_records_hidsize[hidden_size],train_loss_records_hidsize[hidden_size], num_params_records_hidsize[hidden_size] \\\n",
    "        = RNN_Tuning(train_sentence,train_label, val_sentence, val_label,words, loaded_embeddings, hidden_size, interm_size)"
   ]
  },
  {
   "cell_type": "code",
   "execution_count": 47,
   "metadata": {},
   "outputs": [],
   "source": [
    "\n",
    "def plot_result(train_loss, val_loss, val_acc, num_params, title_list,key_list, main, epoches_num):\n",
    "    \"\"\"\n",
    "    Plot the results. All input data with dim [# of subplots, # of epoches]\n",
    "    \"\"\"\n",
    "    subplot_num = len(title_list)\n",
    "    fig, axes = plt.subplots((subplot_num + 1)//2 , 2, sharex= \"col\", sharey='row', figsize = (10,subplot_num * 2))\n",
    "    epoches = np.arange(epoches_num) + 1\n",
    "    val_acc_2 = {}\n",
    "    for i in range(subplot_num):\n",
    "        val_acc_2[key_list[i]] = [j/100 for j in val_acc[key_list[i]]]\n",
    "        axes[i//2,i%2].plot(epoches,train_loss[key_list[i]], label = \"Training Loss\")\n",
    "        axes[i//2,i%2].plot(epoches, val_loss[key_list[i]], label = \"Validation Loss\")\n",
    "        axes[i//2,i%2].plot(epoches, val_acc_2[key_list[i]], label = \"Validation Accuracy\")\n",
    "        axes[i//2,i%2].set_ylim([0.3,1.0])\n",
    "        axes[i//2,i%2].text(1.0,0.92,\"# params: \" + str(num_params[key_list[i]]))\n",
    "        \n",
    "        axes[i//2,i%2].set_title(title_list[i])\n",
    "    plt.legend()\n",
    "    plt.suptitle(main)\n",
    "    plt.show()"
   ]
  },
  {
   "cell_type": "code",
   "execution_count": 43,
   "metadata": {},
   "outputs": [
    {
     "data": {
      "image/png": "[encoded data removed]",
      "text/plain": [
       "<Figure size 720x576 with 4 Axes>"
      ]
     },
     "metadata": {
      "needs_background": "light"
     },
     "output_type": "display_data"
    }
   ],
   "source": [
    "import matplotlib.pyplot as plt\n",
    "%matplotlib inline\n",
    "plot_result(train_loss_records_hidsize, val_loss_records_hidsize, val_acc_records_hidsize,num_params_records_hidsize,\\\n",
    "            [\"Hidden Size = 100\", \"Hidden Size =200\", \"Hidden Size = 300\",\"Hidden Size = 400\"],[100,200,300,400],\\\n",
    "            'RNN with Different Hidden Sizes',15)"
   ]
  },
  {
   "cell_type": "code",
   "execution_count": 35,
   "metadata": {},
   "outputs": [
    {
     "name": "stdout",
     "output_type": "stream",
     "text": [
      "100 71.3\n",
      "200 71.0\n",
      "300 71.6\n",
      "400 71.8\n"
     ]
    }
   ],
   "source": [
    "for key,item in val_acc_records_hidsize.items():\n",
    "    print(key,max(item))"
   ]
  },
  {
   "cell_type": "markdown",
   "metadata": {},
   "source": [
    "Hidden size = 400 is best here."
   ]
  },
  {
   "cell_type": "markdown",
   "metadata": {},
   "source": [
    "### Different Ways of Interacting the Two Encoded Sentences"
   ]
  },
  {
   "cell_type": "markdown",
   "metadata": {},
   "source": [
    "Concatenation & Element-wise Multiplication"
   ]
  },
  {
   "cell_type": "code",
   "execution_count": 38,
   "metadata": {},
   "outputs": [],
   "source": [
    "#parameters\n",
    "hidden_size = 400\n",
    "interm_size = 100\n",
    "learning_rate = 5e-4\n",
    "num_epochs = 12 # number epoch to train"
   ]
  },
  {
   "cell_type": "code",
   "execution_count": 39,
   "metadata": {
    "scrolled": true
   },
   "outputs": [
    {
     "name": "stdout",
     "output_type": "stream",
     "text": [
      "Epoch: [1/12], Step: [701/1563], Validation Acc: 58.8, Traning Acc: 58.954\n",
      "Epoch: [1/12], Step: [1401/1563], Validation Acc: 60.5, Traning Acc: 61.405\n",
      "Epoch 1 Finished! Val Loss: 0.8547204322814942, Train Loss: 0.9060353712654113\n",
      "Epoch: [2/12], Step: [701/1563], Validation Acc: 63.0, Traning Acc: 64.198\n",
      "Epoch: [2/12], Step: [1401/1563], Validation Acc: 63.5, Traning Acc: 66.279\n",
      "Epoch 2 Finished! Val Loss: 0.7837105121612549, Train Loss: 0.8030021955871582\n",
      "Epoch: [3/12], Step: [701/1563], Validation Acc: 66.7, Traning Acc: 68.191\n",
      "Epoch: [3/12], Step: [1401/1563], Validation Acc: 66.3, Traning Acc: 69.448\n",
      "Epoch 3 Finished! Val Loss: 0.765161768913269, Train Loss: 0.7434649846839905\n",
      "Epoch: [4/12], Step: [701/1563], Validation Acc: 66.9, Traning Acc: 70.4\n",
      "Epoch: [4/12], Step: [1401/1563], Validation Acc: 66.3, Traning Acc: 70.777\n",
      "Epoch 4 Finished! Val Loss: 0.7422121319770812, Train Loss: 0.7056517475700378\n",
      "Epoch: [5/12], Step: [701/1563], Validation Acc: 67.4, Traning Acc: 72.092\n",
      "Epoch: [5/12], Step: [1401/1563], Validation Acc: 68.4, Traning Acc: 72.904\n",
      "Epoch 5 Finished! Val Loss: 0.743667160987854, Train Loss: 0.6742200623035431\n",
      "Epoch: [6/12], Step: [701/1563], Validation Acc: 67.7, Traning Acc: 74.213\n",
      "Epoch: [6/12], Step: [1401/1563], Validation Acc: 70.3, Traning Acc: 74.861\n",
      "Epoch 6 Finished! Val Loss: 0.7155650963783264, Train Loss: 0.642487388496399\n",
      "Epoch: [7/12], Step: [701/1563], Validation Acc: 69.2, Traning Acc: 75.534\n",
      "Epoch: [7/12], Step: [1401/1563], Validation Acc: 70.8, Traning Acc: 76.333\n",
      "Epoch 7 Finished! Val Loss: 0.7036829867362976, Train Loss: 0.6117416581153869\n",
      "Epoch: [8/12], Step: [701/1563], Validation Acc: 71.6, Traning Acc: 77.769\n",
      "Epoch: [8/12], Step: [1401/1563], Validation Acc: 70.5, Traning Acc: 78.301\n",
      "Epoch 8 Finished! Val Loss: 0.7048684458732605, Train Loss: 0.5792765190124511\n",
      "Epoch: [9/12], Step: [701/1563], Validation Acc: 69.4, Traning Acc: 79.096\n",
      "Epoch: [9/12], Step: [1401/1563], Validation Acc: 70.5, Traning Acc: 80.236\n",
      "Epoch 9 Finished! Val Loss: 0.7046018719673157, Train Loss: 0.5451483390045166\n",
      "Epoch: [10/12], Step: [701/1563], Validation Acc: 69.5, Traning Acc: 81.127\n",
      "Epoch: [10/12], Step: [1401/1563], Validation Acc: 70.2, Traning Acc: 82.276\n",
      "Epoch 10 Finished! Val Loss: 0.7140347633361817, Train Loss: 0.5075117017745971\n",
      "Epoch: [11/12], Step: [701/1563], Validation Acc: 70.9, Traning Acc: 83.522\n",
      "Epoch: [11/12], Step: [1401/1563], Validation Acc: 70.5, Traning Acc: 84.5\n",
      "Epoch 11 Finished! Val Loss: 0.7442801775932312, Train Loss: 0.46723865745544435\n",
      "Epoch: [12/12], Step: [701/1563], Validation Acc: 69.4, Traning Acc: 85.671\n",
      "Epoch: [12/12], Step: [1401/1563], Validation Acc: 69.9, Traning Acc: 86.795\n",
      "Epoch 12 Finished! Val Loss: 0.8059150438308715, Train Loss: 0.4220025609111786\n",
      "Epoch: [1/12], Step: [701/1563], Validation Acc: 54.1, Traning Acc: 53.968\n",
      "Epoch: [1/12], Step: [1401/1563], Validation Acc: 58.9, Traning Acc: 59.826\n",
      "Epoch 1 Finished! Val Loss: 0.8797942199707032, Train Loss: 0.954842477760315\n",
      "Epoch: [2/12], Step: [701/1563], Validation Acc: 64.2, Traning Acc: 64.867\n",
      "Epoch: [2/12], Step: [1401/1563], Validation Acc: 63.9, Traning Acc: 65.54\n",
      "Epoch 2 Finished! Val Loss: 0.7768720507621765, Train Loss: 0.8061429912185669\n",
      "Epoch: [3/12], Step: [701/1563], Validation Acc: 67.1, Traning Acc: 68.388\n",
      "Epoch: [3/12], Step: [1401/1563], Validation Acc: 67.7, Traning Acc: 70.672\n",
      "Epoch 3 Finished! Val Loss: 0.7371975398063659, Train Loss: 0.7284707137489319\n",
      "Epoch: [4/12], Step: [701/1563], Validation Acc: 69.5, Traning Acc: 72.383\n",
      "Epoch: [4/12], Step: [1401/1563], Validation Acc: 69.4, Traning Acc: 72.986\n",
      "Epoch 4 Finished! Val Loss: 0.7100688710212707, Train Loss: 0.6712124807929992\n",
      "Epoch: [5/12], Step: [701/1563], Validation Acc: 69.3, Traning Acc: 74.603\n",
      "Epoch: [5/12], Step: [1401/1563], Validation Acc: 69.9, Traning Acc: 75.38\n",
      "Epoch 5 Finished! Val Loss: 0.6954362802505493, Train Loss: 0.624184762096405\n",
      "Epoch: [6/12], Step: [701/1563], Validation Acc: 72.1, Traning Acc: 76.758\n",
      "Epoch: [6/12], Step: [1401/1563], Validation Acc: 70.4, Traning Acc: 78.004\n",
      "Epoch 6 Finished! Val Loss: 0.6850880551338195, Train Loss: 0.579667080039978\n",
      "Epoch: [7/12], Step: [701/1563], Validation Acc: 71.1, Traning Acc: 79.58\n",
      "Epoch: [7/12], Step: [1401/1563], Validation Acc: 71.8, Traning Acc: 81.133\n",
      "Epoch 7 Finished! Val Loss: 0.661527829170227, Train Loss: 0.5346345811939239\n",
      "Epoch: [8/12], Step: [701/1563], Validation Acc: 71.4, Traning Acc: 82.067\n",
      "Epoch: [8/12], Step: [1401/1563], Validation Acc: 73.0, Traning Acc: 83.555\n",
      "Epoch 8 Finished! Val Loss: 0.694773579120636, Train Loss: 0.4856784947490692\n",
      "Epoch: [9/12], Step: [701/1563], Validation Acc: 72.3, Traning Acc: 85.482\n",
      "Epoch: [9/12], Step: [1401/1563], Validation Acc: 72.7, Traning Acc: 86.318\n",
      "Epoch 9 Finished! Val Loss: 0.7099580073356628, Train Loss: 0.4318888937664032\n",
      "Epoch: [10/12], Step: [701/1563], Validation Acc: 72.3, Traning Acc: 88.145\n",
      "Epoch: [10/12], Step: [1401/1563], Validation Acc: 71.2, Traning Acc: 89.359\n",
      "Epoch 10 Finished! Val Loss: 0.8027427382469178, Train Loss: 0.3704367587184906\n",
      "Epoch: [11/12], Step: [701/1563], Validation Acc: 70.0, Traning Acc: 91.094\n",
      "Epoch: [11/12], Step: [1401/1563], Validation Acc: 72.0, Traning Acc: 91.695\n",
      "Epoch 11 Finished! Val Loss: 0.8532811508178711, Train Loss: 0.30604533241271975\n",
      "Epoch: [12/12], Step: [701/1563], Validation Acc: 69.4, Traning Acc: 93.192\n",
      "Epoch: [12/12], Step: [1401/1563], Validation Acc: 69.8, Traning Acc: 94.444\n",
      "Epoch 12 Finished! Val Loss: 0.9944830665588379, Train Loss: 0.23762775128364563\n"
     ]
    }
   ],
   "source": [
    "val_acc_records_interact = {}\n",
    "train_acc_records_interact = {}\n",
    "val_loss_records_interact = {}\n",
    "train_loss_records_interact = {}\n",
    "num_params_records_interact = {}\n",
    "for interact in['concat','mul']:\n",
    "    val_acc_records_interact[interact],train_acc_records_interact[interact],val_loss_records_interact[interact],train_loss_records_interact[interact],num_params_records_interact[interact] \\\n",
    "        = RNN_Tuning(train_sentence,train_label, val_sentence, val_label,words, loaded_embeddings, hidden_size, interm_size, interact=interact)"
   ]
  },
  {
   "cell_type": "code",
   "execution_count": 24,
   "metadata": {},
   "outputs": [],
   "source": [
    "def plot_result(train_loss, val_loss, val_acc, num_params, title_list,key_list, main, epoches_num):\n",
    "    \"\"\"\n",
    "    Plot the results. All input data with dim [# of subplots, # of epoches]\n",
    "    \"\"\"\n",
    "    subplot_num = len(title_list)\n",
    "    fig, axes = plt.subplots((subplot_num + 1)//2 , 2, sharex= \"col\", sharey='row', figsize = (10,subplot_num * 2))\n",
    "    epoches = np.arange(epoches_num) + 1\n",
    "    val_acc_2 = {}\n",
    "    for i in range(subplot_num):\n",
    "        val_acc_2[key_list[i]] = [j/100 for j in val_acc[key_list[i]]]\n",
    "        axes[i%2].plot(epoches,train_loss[key_list[i]], label = \"Training Loss\")\n",
    "        axes[i%2].plot(epoches, val_loss[key_list[i]], label = \"Validation Loss\")\n",
    "        axes[i%2].plot(epoches, val_acc_2[key_list[i]], label = \"Validation Accuracy\")\n",
    "        axes[i%2].set_ylim([0.3,1.0])\n",
    "        axes[i%2].text(1.0,0.92,\"# params: \" + str(num_params[key_list[i]]))\n",
    "        \n",
    "        axes[i%2].set_title(title_list[i])\n",
    "    plt.legend()\n",
    "    plt.suptitle(main)\n",
    "    plt.show()"
   ]
  },
  {
   "cell_type": "code",
   "execution_count": 56,
   "metadata": {},
   "outputs": [
    {
     "data": {
      "image/png": "[encoded data removed]",
      "text/plain": [
       "<Figure size 720x288 with 2 Axes>"
      ]
     },
     "metadata": {
      "needs_background": "light"
     },
     "output_type": "display_data"
    }
   ],
   "source": [
    "plot_result(train_loss_records_interact, val_loss_records_interact, val_acc_records_interact,num_params_records_interact,\\\n",
    "            [\"Concatenation\", \"Element-Wise Multiplication\"],['concat','mul'],\\\n",
    "            'RNN with Different Ways of Interacting the Two Encoded Sentences',12)"
   ]
  },
  {
   "cell_type": "code",
   "execution_count": 57,
   "metadata": {},
   "outputs": [
    {
     "name": "stdout",
     "output_type": "stream",
     "text": [
      "concat 72.0\n",
      "mul 73.1\n"
     ]
    }
   ],
   "source": [
    "for key,item in val_acc_records_interact.items():\n",
    "    print(key,max(item))"
   ]
  },
  {
   "cell_type": "markdown",
   "metadata": {},
   "source": [
    "Element-wise multiplication is better here."
   ]
  },
  {
   "cell_type": "markdown",
   "metadata": {},
   "source": [
    "### Regularization"
   ]
  },
  {
   "cell_type": "markdown",
   "metadata": {},
   "source": [
    "Weight decay and dropout: We set weight decay to 1e-9 and dropout to 0.5 here."
   ]
  },
  {
   "cell_type": "code",
   "execution_count": 10,
   "metadata": {
    "scrolled": true
   },
   "outputs": [
    {
     "name": "stdout",
     "output_type": "stream",
     "text": [
      "Epoch: [1/12], Step: [701/1563], Validation Acc: 51.5, Traning Acc: 53.144\n",
      "Epoch: [1/12], Step: [1401/1563], Validation Acc: 59.7, Traning Acc: 59.86\n",
      "Epoch 1 Finished! Val Loss: 0.867153733253479, Train Loss: 0.9607133271217346\n",
      "Epoch: [2/12], Step: [701/1563], Validation Acc: 61.8, Traning Acc: 64.031\n",
      "Epoch: [2/12], Step: [1401/1563], Validation Acc: 66.9, Traning Acc: 66.61\n",
      "Epoch 2 Finished! Val Loss: 0.8052739758491516, Train Loss: 0.8140794719696045\n",
      "Epoch: [3/12], Step: [701/1563], Validation Acc: 66.4, Traning Acc: 68.661\n",
      "Epoch: [3/12], Step: [1401/1563], Validation Acc: 70.9, Traning Acc: 70.808\n",
      "Epoch 3 Finished! Val Loss: 0.7198764033317566, Train Loss: 0.7310280164337158\n",
      "Epoch: [4/12], Step: [701/1563], Validation Acc: 69.6, Traning Acc: 72.656\n",
      "Epoch: [4/12], Step: [1401/1563], Validation Acc: 69.8, Traning Acc: 73.22\n",
      "Epoch 4 Finished! Val Loss: 0.7057576146125794, Train Loss: 0.6725053050804138\n",
      "Epoch: [5/12], Step: [701/1563], Validation Acc: 71.1, Traning Acc: 74.599\n",
      "Epoch: [5/12], Step: [1401/1563], Validation Acc: 70.6, Traning Acc: 75.815\n",
      "Epoch 5 Finished! Val Loss: 0.6771512429714203, Train Loss: 0.6243538842773437\n",
      "Epoch: [6/12], Step: [701/1563], Validation Acc: 70.2, Traning Acc: 77.11\n",
      "Epoch: [6/12], Step: [1401/1563], Validation Acc: 72.5, Traning Acc: 78.239\n",
      "Epoch 6 Finished! Val Loss: 0.670112714767456, Train Loss: 0.5801625149917603\n",
      "Epoch: [7/12], Step: [701/1563], Validation Acc: 71.4, Traning Acc: 80.18\n",
      "Epoch: [7/12], Step: [1401/1563], Validation Acc: 72.1, Traning Acc: 80.898\n",
      "Epoch 7 Finished! Val Loss: 0.6928280348777771, Train Loss: 0.5379160736465454\n",
      "Epoch: [8/12], Step: [701/1563], Validation Acc: 70.6, Traning Acc: 82.112\n",
      "Epoch: [8/12], Step: [1401/1563], Validation Acc: 72.1, Traning Acc: 82.206\n",
      "Epoch 8 Finished! Val Loss: 0.6832333974838257, Train Loss: 0.488037834854126\n",
      "Epoch: [9/12], Step: [701/1563], Validation Acc: 69.7, Traning Acc: 85.009\n",
      "Epoch: [9/12], Step: [1401/1563], Validation Acc: 70.8, Traning Acc: 86.187\n",
      "Epoch 9 Finished! Val Loss: 0.7320916786193847, Train Loss: 0.4339893403053284\n",
      "Epoch: [10/12], Step: [701/1563], Validation Acc: 70.5, Traning Acc: 88.092\n",
      "Epoch: [10/12], Step: [1401/1563], Validation Acc: 71.0, Traning Acc: 88.629\n",
      "Epoch 10 Finished! Val Loss: 0.8036583867073059, Train Loss: 0.3715987845993042\n",
      "Epoch: [11/12], Step: [701/1563], Validation Acc: 71.1, Traning Acc: 90.571\n",
      "Epoch: [11/12], Step: [1401/1563], Validation Acc: 71.1, Traning Acc: 92.235\n",
      "Epoch 11 Finished! Val Loss: 0.9222258071899414, Train Loss: 0.3056631622171402\n",
      "Epoch: [12/12], Step: [701/1563], Validation Acc: 70.2, Traning Acc: 93.148\n",
      "Epoch: [12/12], Step: [1401/1563], Validation Acc: 69.9, Traning Acc: 94.405\n",
      "Epoch 12 Finished! Val Loss: 0.9897581744194031, Train Loss: 0.23888546012401582\n",
      "Epoch: [1/12], Step: [701/1563], Validation Acc: 51.3, Traning Acc: 52.537\n",
      "Epoch: [1/12], Step: [1401/1563], Validation Acc: 55.0, Traning Acc: 55.963\n",
      "Epoch 1 Finished! Val Loss: 0.8922522850036622, Train Loss: 0.9828199067115784\n",
      "Epoch: [2/12], Step: [701/1563], Validation Acc: 58.7, Traning Acc: 58.894\n",
      "Epoch: [2/12], Step: [1401/1563], Validation Acc: 61.0, Traning Acc: 61.376\n",
      "Epoch 2 Finished! Val Loss: 0.8736065006256104, Train Loss: 0.8773162139701843\n",
      "Epoch: [3/12], Step: [701/1563], Validation Acc: 62.7, Traning Acc: 61.711\n",
      "Epoch: [3/12], Step: [1401/1563], Validation Acc: 60.7, Traning Acc: 61.65\n",
      "Epoch 3 Finished! Val Loss: 0.8789256749153137, Train Loss: 0.8528133418273925\n",
      "Epoch: [4/12], Step: [701/1563], Validation Acc: 60.7, Traning Acc: 61.281\n",
      "Epoch: [4/12], Step: [1401/1563], Validation Acc: 58.2, Traning Acc: 58.749\n",
      "Epoch 4 Finished! Val Loss: 0.8730195918083191, Train Loss: 0.8590364628601074\n",
      "Epoch: [5/12], Step: [701/1563], Validation Acc: 60.3, Traning Acc: 60.844\n",
      "Epoch: [5/12], Step: [1401/1563], Validation Acc: 56.4, Traning Acc: 57.946\n",
      "Epoch 5 Finished! Val Loss: 0.8824700355529785, Train Loss: 0.8739819291687012\n",
      "Epoch: [6/12], Step: [701/1563], Validation Acc: 55.6, Traning Acc: 56.479\n",
      "Epoch: [6/12], Step: [1401/1563], Validation Acc: 53.7, Traning Acc: 56.545\n",
      "Epoch 6 Finished! Val Loss: 0.9197106356620789, Train Loss: 0.8984577494430542\n",
      "Epoch: [7/12], Step: [701/1563], Validation Acc: 55.4, Traning Acc: 57.141\n",
      "Epoch: [7/12], Step: [1401/1563], Validation Acc: 54.4, Traning Acc: 54.467\n",
      "Epoch 7 Finished! Val Loss: 0.9574784770011902, Train Loss: 0.9234790594100952\n",
      "Epoch: [8/12], Step: [701/1563], Validation Acc: 50.7, Traning Acc: 51.569\n",
      "Epoch: [8/12], Step: [1401/1563], Validation Acc: 48.5, Traning Acc: 49.316\n",
      "Epoch 8 Finished! Val Loss: 0.9523194828033448, Train Loss: 0.9568077656555176\n",
      "Epoch: [9/12], Step: [701/1563], Validation Acc: 51.2, Traning Acc: 51.811\n",
      "Epoch: [9/12], Step: [1401/1563], Validation Acc: 46.4, Traning Acc: 47.81\n",
      "Epoch 9 Finished! Val Loss: 1.0003735294342042, Train Loss: 0.9909385634231568\n",
      "Epoch: [10/12], Step: [701/1563], Validation Acc: 45.8, Traning Acc: 48.609\n"
     ]
    },
    {
     "ename": "KeyboardInterrupt",
     "evalue": "",
     "output_type": "error",
     "traceback": [
      "\u001b[0;31m---------------------------------------------------------------------------\u001b[0m",
      "\u001b[0;31mKeyboardInterrupt\u001b[0m                         Traceback (most recent call last)",
      "\u001b[0;32m<ipython-input-10-286170be7655>\u001b[0m in \u001b[0;36m<module>\u001b[0;34m()\u001b[0m\n\u001b[1;32m     12\u001b[0m \u001b[0;34m\u001b[0m\u001b[0m\n\u001b[1;32m     13\u001b[0m \u001b[0mval_acc_records_reg\u001b[0m\u001b[0;34m[\u001b[0m\u001b[0;34m'no_reg'\u001b[0m\u001b[0;34m]\u001b[0m\u001b[0;34m,\u001b[0m\u001b[0mtrain_acc_records_reg\u001b[0m\u001b[0;34m[\u001b[0m\u001b[0;34m'no_reg'\u001b[0m\u001b[0;34m]\u001b[0m\u001b[0;34m,\u001b[0m\u001b[0mval_loss_records_reg\u001b[0m\u001b[0;34m[\u001b[0m\u001b[0;34m'no_reg'\u001b[0m\u001b[0;34m]\u001b[0m\u001b[0;34m,\u001b[0m\u001b[0mtrain_loss_records_reg\u001b[0m\u001b[0;34m[\u001b[0m\u001b[0;34m'no_reg'\u001b[0m\u001b[0;34m]\u001b[0m\u001b[0;34m,\u001b[0m\u001b[0mnum_params_records_reg\u001b[0m\u001b[0;34m[\u001b[0m\u001b[0;34m'no_reg'\u001b[0m\u001b[0;34m]\u001b[0m         \u001b[0;34m=\u001b[0m \u001b[0mRNN_Tuning\u001b[0m\u001b[0;34m(\u001b[0m\u001b[0mtrain_sentence\u001b[0m\u001b[0;34m,\u001b[0m\u001b[0mtrain_label\u001b[0m\u001b[0;34m,\u001b[0m \u001b[0mval_sentence\u001b[0m\u001b[0;34m,\u001b[0m \u001b[0mval_label\u001b[0m\u001b[0;34m,\u001b[0m\u001b[0mwords\u001b[0m\u001b[0;34m,\u001b[0m \u001b[0mloaded_embeddings\u001b[0m\u001b[0;34m,\u001b[0m \u001b[0mhidden_size\u001b[0m\u001b[0;34m,\u001b[0m \u001b[0minterm_size\u001b[0m\u001b[0;34m,\u001b[0m \u001b[0minteract\u001b[0m\u001b[0;34m=\u001b[0m\u001b[0minteract\u001b[0m\u001b[0;34m)\u001b[0m\u001b[0;34m\u001b[0m\u001b[0m\n\u001b[0;32m---> 14\u001b[0;31m \u001b[0mval_acc_records_reg\u001b[0m\u001b[0;34m[\u001b[0m\u001b[0;34m'weight_decay'\u001b[0m\u001b[0;34m]\u001b[0m\u001b[0;34m,\u001b[0m\u001b[0mtrain_acc_records_reg\u001b[0m\u001b[0;34m[\u001b[0m\u001b[0;34m'weight_decay'\u001b[0m\u001b[0;34m]\u001b[0m\u001b[0;34m,\u001b[0m\u001b[0mval_loss_records_reg\u001b[0m\u001b[0;34m[\u001b[0m\u001b[0;34m'weight_decay'\u001b[0m\u001b[0;34m]\u001b[0m\u001b[0;34m,\u001b[0m\u001b[0mtrain_loss_records_reg\u001b[0m\u001b[0;34m[\u001b[0m\u001b[0;34m'weight_decay'\u001b[0m\u001b[0;34m]\u001b[0m\u001b[0;34m,\u001b[0m\u001b[0mnum_params_records_reg\u001b[0m\u001b[0;34m[\u001b[0m\u001b[0;34m'weight_decay'\u001b[0m\u001b[0;34m]\u001b[0m         \u001b[0;34m=\u001b[0m \u001b[0mRNN_Tuning\u001b[0m\u001b[0;34m(\u001b[0m\u001b[0mtrain_sentence\u001b[0m\u001b[0;34m,\u001b[0m\u001b[0mtrain_label\u001b[0m\u001b[0;34m,\u001b[0m \u001b[0mval_sentence\u001b[0m\u001b[0;34m,\u001b[0m \u001b[0mval_label\u001b[0m\u001b[0;34m,\u001b[0m\u001b[0mwords\u001b[0m\u001b[0;34m,\u001b[0m \u001b[0mloaded_embeddings\u001b[0m\u001b[0;34m,\u001b[0m \u001b[0mhidden_size\u001b[0m\u001b[0;34m,\u001b[0m \u001b[0minterm_size\u001b[0m\u001b[0;34m,\u001b[0m \u001b[0minteract\u001b[0m\u001b[0;34m=\u001b[0m\u001b[0minteract\u001b[0m\u001b[0;34m,\u001b[0m \u001b[0mweight_decay\u001b[0m\u001b[0;34m=\u001b[0m\u001b[0;36m1e-8\u001b[0m\u001b[0;34m)\u001b[0m\u001b[0;34m\u001b[0m\u001b[0m\n\u001b[0m\u001b[1;32m     15\u001b[0m \u001b[0mval_acc_records_reg\u001b[0m\u001b[0;34m[\u001b[0m\u001b[0;34m'dropout'\u001b[0m\u001b[0;34m]\u001b[0m\u001b[0;34m,\u001b[0m\u001b[0mtrain_acc_records_reg\u001b[0m\u001b[0;34m[\u001b[0m\u001b[0;34m'dropout'\u001b[0m\u001b[0;34m]\u001b[0m\u001b[0;34m,\u001b[0m\u001b[0mval_loss_records_reg\u001b[0m\u001b[0;34m[\u001b[0m\u001b[0;34m'dropout'\u001b[0m\u001b[0;34m]\u001b[0m\u001b[0;34m,\u001b[0m\u001b[0mtrain_loss_records_reg\u001b[0m\u001b[0;34m[\u001b[0m\u001b[0;34m'dropout'\u001b[0m\u001b[0;34m]\u001b[0m\u001b[0;34m,\u001b[0m\u001b[0mnum_params_records_reg\u001b[0m\u001b[0;34m[\u001b[0m\u001b[0;34m'dropout'\u001b[0m\u001b[0;34m]\u001b[0m         \u001b[0;34m=\u001b[0m \u001b[0mRNN_Tuning\u001b[0m\u001b[0;34m(\u001b[0m\u001b[0mtrain_sentence\u001b[0m\u001b[0;34m,\u001b[0m\u001b[0mtrain_label\u001b[0m\u001b[0;34m,\u001b[0m \u001b[0mval_sentence\u001b[0m\u001b[0;34m,\u001b[0m \u001b[0mval_label\u001b[0m\u001b[0;34m,\u001b[0m\u001b[0mwords\u001b[0m\u001b[0;34m,\u001b[0m \u001b[0mloaded_embeddings\u001b[0m\u001b[0;34m,\u001b[0m \u001b[0mhidden_size\u001b[0m\u001b[0;34m,\u001b[0m \u001b[0minterm_size\u001b[0m\u001b[0;34m,\u001b[0m \u001b[0minteract\u001b[0m\u001b[0;34m=\u001b[0m\u001b[0minteract\u001b[0m\u001b[0;34m,\u001b[0m \u001b[0mdropout\u001b[0m\u001b[0;34m=\u001b[0m\u001b[0;36m0.5\u001b[0m\u001b[0;34m)\u001b[0m\u001b[0;34m\u001b[0m\u001b[0m\n",
      "\u001b[0;32m<ipython-input-9-67a4e018c9f3>\u001b[0m in \u001b[0;36mRNN_Tuning\u001b[0;34m(train_sentence, train_label, val_sentence, val_label, words, loaded_embeddings, hidden_size, interm_size, interact, weight_decay, dropout)\u001b[0m\n\u001b[1;32m     51\u001b[0m             \u001b[0mtotal\u001b[0m \u001b[0;34m+=\u001b[0m \u001b[0mlabels\u001b[0m\u001b[0;34m.\u001b[0m\u001b[0msize\u001b[0m\u001b[0;34m(\u001b[0m\u001b[0;36m0\u001b[0m\u001b[0;34m)\u001b[0m\u001b[0;34m\u001b[0m\u001b[0m\n\u001b[1;32m     52\u001b[0m             \u001b[0;31m# Backward and optimize\u001b[0m\u001b[0;34m\u001b[0m\u001b[0;34m\u001b[0m\u001b[0m\n\u001b[0;32m---> 53\u001b[0;31m             \u001b[0mloss\u001b[0m\u001b[0;34m.\u001b[0m\u001b[0mbackward\u001b[0m\u001b[0;34m(\u001b[0m\u001b[0;34m)\u001b[0m\u001b[0;34m\u001b[0m\u001b[0m\n\u001b[0m\u001b[1;32m     54\u001b[0m             \u001b[0moptimizer\u001b[0m\u001b[0;34m.\u001b[0m\u001b[0mstep\u001b[0m\u001b[0;34m(\u001b[0m\u001b[0;34m)\u001b[0m\u001b[0;34m\u001b[0m\u001b[0m\n\u001b[1;32m     55\u001b[0m             \u001b[0;31m# validate every 100 iterations\u001b[0m\u001b[0;34m\u001b[0m\u001b[0;34m\u001b[0m\u001b[0m\n",
      "\u001b[0;32m~/anaconda3/lib/python3.7/site-packages/torch/tensor.py\u001b[0m in \u001b[0;36mbackward\u001b[0;34m(self, gradient, retain_graph, create_graph)\u001b[0m\n\u001b[1;32m     91\u001b[0m                 \u001b[0mproducts\u001b[0m\u001b[0;34m.\u001b[0m \u001b[0mDefaults\u001b[0m \u001b[0mto\u001b[0m\u001b[0;31m \u001b[0m\u001b[0;31m`\u001b[0m\u001b[0;31m`\u001b[0m\u001b[0;32mFalse\u001b[0m\u001b[0;31m`\u001b[0m\u001b[0;31m`\u001b[0m\u001b[0;34m.\u001b[0m\u001b[0;34m\u001b[0m\u001b[0m\n\u001b[1;32m     92\u001b[0m         \"\"\"\n\u001b[0;32m---> 93\u001b[0;31m         \u001b[0mtorch\u001b[0m\u001b[0;34m.\u001b[0m\u001b[0mautograd\u001b[0m\u001b[0;34m.\u001b[0m\u001b[0mbackward\u001b[0m\u001b[0;34m(\u001b[0m\u001b[0mself\u001b[0m\u001b[0;34m,\u001b[0m \u001b[0mgradient\u001b[0m\u001b[0;34m,\u001b[0m \u001b[0mretain_graph\u001b[0m\u001b[0;34m,\u001b[0m \u001b[0mcreate_graph\u001b[0m\u001b[0;34m)\u001b[0m\u001b[0;34m\u001b[0m\u001b[0m\n\u001b[0m\u001b[1;32m     94\u001b[0m \u001b[0;34m\u001b[0m\u001b[0m\n\u001b[1;32m     95\u001b[0m     \u001b[0;32mdef\u001b[0m \u001b[0mregister_hook\u001b[0m\u001b[0;34m(\u001b[0m\u001b[0mself\u001b[0m\u001b[0;34m,\u001b[0m \u001b[0mhook\u001b[0m\u001b[0;34m)\u001b[0m\u001b[0;34m:\u001b[0m\u001b[0;34m\u001b[0m\u001b[0m\n",
      "\u001b[0;32m~/anaconda3/lib/python3.7/site-packages/torch/autograd/__init__.py\u001b[0m in \u001b[0;36mbackward\u001b[0;34m(tensors, grad_tensors, retain_graph, create_graph, grad_variables)\u001b[0m\n\u001b[1;32m     88\u001b[0m     Variable._execution_engine.run_backward(\n\u001b[1;32m     89\u001b[0m         \u001b[0mtensors\u001b[0m\u001b[0;34m,\u001b[0m \u001b[0mgrad_tensors\u001b[0m\u001b[0;34m,\u001b[0m \u001b[0mretain_graph\u001b[0m\u001b[0;34m,\u001b[0m \u001b[0mcreate_graph\u001b[0m\u001b[0;34m,\u001b[0m\u001b[0;34m\u001b[0m\u001b[0m\n\u001b[0;32m---> 90\u001b[0;31m         allow_unreachable=True)  # allow_unreachable flag\n\u001b[0m\u001b[1;32m     91\u001b[0m \u001b[0;34m\u001b[0m\u001b[0m\n\u001b[1;32m     92\u001b[0m \u001b[0;34m\u001b[0m\u001b[0m\n",
      "\u001b[0;31mKeyboardInterrupt\u001b[0m: "
     ]
    }
   ],
   "source": [
    "hidden_size = 400\n",
    "interm_size = 100\n",
    "learning_rate = 5e-4\n",
    "num_epochs = 12\n",
    "interact = 'mul'\n",
    "\n",
    "val_acc_records_reg = {}\n",
    "train_acc_records_reg = {}\n",
    "val_loss_records_reg = {}\n",
    "train_loss_records_reg = {}\n",
    "num_params_records_reg = {}\n",
    "\n",
    "val_acc_records_reg['no_reg'],train_acc_records_reg['no_reg'],val_loss_records_reg['no_reg'],train_loss_records_reg['no_reg'],num_params_records_reg['no_reg'] \\\n",
    "        = RNN_Tuning(train_sentence,train_label, val_sentence, val_label,words, loaded_embeddings, hidden_size, interm_size, interact=interact)"
   ]
  },
  {
   "cell_type": "code",
   "execution_count": 14,
   "metadata": {
    "scrolled": true
   },
   "outputs": [
    {
     "name": "stdout",
     "output_type": "stream",
     "text": [
      "Epoch: [1/15], Step: [701/1563], Validation Acc: 51.4, Traning Acc: 52.704\n",
      "Epoch: [1/15], Step: [1401/1563], Validation Acc: 59.8, Traning Acc: 59.429\n",
      "Epoch 1 Finished! Val Loss: 0.8763693423271179, Train Loss: 0.964668844985962\n",
      "Epoch: [2/15], Step: [701/1563], Validation Acc: 61.1, Traning Acc: 63.03\n",
      "Epoch: [2/15], Step: [1401/1563], Validation Acc: 63.8, Traning Acc: 65.46\n",
      "Epoch 2 Finished! Val Loss: 0.7969843006134033, Train Loss: 0.8281944786643982\n",
      "Epoch: [3/15], Step: [701/1563], Validation Acc: 65.9, Traning Acc: 67.079\n",
      "Epoch: [3/15], Step: [1401/1563], Validation Acc: 66.0, Traning Acc: 68.73\n",
      "Epoch 3 Finished! Val Loss: 0.7556222529411316, Train Loss: 0.7513722033500672\n",
      "Epoch: [4/15], Step: [701/1563], Validation Acc: 68.7, Traning Acc: 70.694\n",
      "Epoch: [4/15], Step: [1401/1563], Validation Acc: 70.3, Traning Acc: 71.793\n",
      "Epoch 4 Finished! Val Loss: 0.7180102195739746, Train Loss: 0.6971035098075866\n",
      "Epoch: [5/15], Step: [701/1563], Validation Acc: 68.4, Traning Acc: 73.179\n",
      "Epoch: [5/15], Step: [1401/1563], Validation Acc: 66.2, Traning Acc: 73.473\n",
      "Epoch 5 Finished! Val Loss: 0.6992695655822754, Train Loss: 0.6569991670036316\n",
      "Epoch: [6/15], Step: [701/1563], Validation Acc: 69.3, Traning Acc: 74.537\n",
      "Epoch: [6/15], Step: [1401/1563], Validation Acc: 71.0, Traning Acc: 75.38\n",
      "Epoch 6 Finished! Val Loss: 0.7093685989379883, Train Loss: 0.6236899517631531\n",
      "Epoch: [7/15], Step: [701/1563], Validation Acc: 69.3, Traning Acc: 76.279\n",
      "Epoch: [7/15], Step: [1401/1563], Validation Acc: 69.9, Traning Acc: 76.926\n",
      "Epoch 7 Finished! Val Loss: 0.6837184615135193, Train Loss: 0.5927421772766114\n",
      "Epoch: [8/15], Step: [701/1563], Validation Acc: 69.9, Traning Acc: 78.171\n",
      "Epoch: [8/15], Step: [1401/1563], Validation Acc: 69.7, Traning Acc: 78.371\n",
      "Epoch 8 Finished! Val Loss: 0.7001892614364624, Train Loss: 0.5626130028152466\n",
      "Epoch: [9/15], Step: [701/1563], Validation Acc: 68.5, Traning Acc: 79.445\n",
      "Epoch: [9/15], Step: [1401/1563], Validation Acc: 70.1, Traning Acc: 80.397\n",
      "Epoch 9 Finished! Val Loss: 0.7019670324325562, Train Loss: 0.5309102481365204\n",
      "Epoch: [10/15], Step: [701/1563], Validation Acc: 70.7, Traning Acc: 81.533\n",
      "Epoch: [10/15], Step: [1401/1563], Validation Acc: 69.4, Traning Acc: 81.484\n",
      "Epoch 10 Finished! Val Loss: 0.7471230006217957, Train Loss: 0.5002029509830475\n",
      "Epoch: [11/15], Step: [701/1563], Validation Acc: 70.2, Traning Acc: 82.83\n",
      "Epoch: [11/15], Step: [1401/1563], Validation Acc: 69.8, Traning Acc: 83.208\n",
      "Epoch 11 Finished! Val Loss: 0.7596681184768677, Train Loss: 0.4692919442653656\n",
      "Epoch: [12/15], Step: [701/1563], Validation Acc: 68.6, Traning Acc: 84.567\n",
      "Epoch: [12/15], Step: [1401/1563], Validation Acc: 69.1, Traning Acc: 85.592\n",
      "Epoch 12 Finished! Val Loss: 0.752836124420166, Train Loss: 0.43527881701469423\n",
      "Epoch: [13/15], Step: [701/1563], Validation Acc: 70.2, Traning Acc: 86.064\n",
      "Epoch: [13/15], Step: [1401/1563], Validation Acc: 68.0, Traning Acc: 87.363\n",
      "Epoch 13 Finished! Val Loss: 0.7934004654884338, Train Loss: 0.3997251805019379\n",
      "Epoch: [14/15], Step: [701/1563], Validation Acc: 69.6, Traning Acc: 87.769\n",
      "Epoch: [14/15], Step: [1401/1563], Validation Acc: 70.5, Traning Acc: 88.611\n",
      "Epoch 14 Finished! Val Loss: 0.8316065349578857, Train Loss: 0.3630809182739258\n",
      "Epoch: [15/15], Step: [701/1563], Validation Acc: 68.7, Traning Acc: 88.239\n",
      "Epoch: [15/15], Step: [1401/1563], Validation Acc: 67.9, Traning Acc: 90.537\n",
      "Epoch 15 Finished! Val Loss: 0.8640868110656739, Train Loss: 0.32781779026031493\n"
     ]
    }
   ],
   "source": [
    "num_epochs = 15\n",
    "val_acc_records_reg['weight_decay'],train_acc_records_reg['weight_decay'],val_loss_records_reg['weight_decay'],train_loss_records_reg['weight_decay'],num_params_records_reg['weight_decay'] \\\n",
    "        = RNN_Tuning(train_sentence,train_label, val_sentence, val_label,words, loaded_embeddings, hidden_size, interm_size, interact=interact, weight_decay=1e-9)\n"
   ]
  },
  {
   "cell_type": "code",
   "execution_count": 23,
   "metadata": {
    "scrolled": true
   },
   "outputs": [
    {
     "name": "stdout",
     "output_type": "stream",
     "text": [
      "Epoch: [1/15], Step: [701/1563], Validation Acc: 51.3, Traning Acc: 53.447\n",
      "Epoch: [1/15], Step: [1401/1563], Validation Acc: 58.5, Traning Acc: 57.996\n",
      "Epoch 1 Finished! Val Loss: 0.8899407963752747, Train Loss: 0.9706756749153137\n",
      "Epoch: [2/15], Step: [701/1563], Validation Acc: 62.0, Traning Acc: 61.598\n",
      "Epoch: [2/15], Step: [1401/1563], Validation Acc: 63.7, Traning Acc: 66.145\n",
      "Epoch 2 Finished! Val Loss: 0.8106913075447083, Train Loss: 0.8406789510154724\n",
      "Epoch: [3/15], Step: [701/1563], Validation Acc: 66.7, Traning Acc: 68.08\n",
      "Epoch: [3/15], Step: [1401/1563], Validation Acc: 67.5, Traning Acc: 69.854\n",
      "Epoch 3 Finished! Val Loss: 0.745619487285614, Train Loss: 0.7588659377288819\n",
      "Epoch: [4/15], Step: [701/1563], Validation Acc: 66.5, Traning Acc: 71.098\n",
      "Epoch: [4/15], Step: [1401/1563], Validation Acc: 69.4, Traning Acc: 72.693\n",
      "Epoch 4 Finished! Val Loss: 0.723063497543335, Train Loss: 0.7012343106079102\n",
      "Epoch: [5/15], Step: [701/1563], Validation Acc: 69.2, Traning Acc: 73.575\n",
      "Epoch: [5/15], Step: [1401/1563], Validation Acc: 68.1, Traning Acc: 75.006\n",
      "Epoch 5 Finished! Val Loss: 0.6951563415527344, Train Loss: 0.6570922728157044\n",
      "Epoch: [6/15], Step: [701/1563], Validation Acc: 69.8, Traning Acc: 75.869\n",
      "Epoch: [6/15], Step: [1401/1563], Validation Acc: 71.2, Traning Acc: 76.748\n",
      "Epoch 6 Finished! Val Loss: 0.6961478013992309, Train Loss: 0.6164279714012146\n",
      "Epoch: [7/15], Step: [701/1563], Validation Acc: 69.2, Traning Acc: 78.002\n",
      "Epoch: [7/15], Step: [1401/1563], Validation Acc: 70.0, Traning Acc: 79.443\n",
      "Epoch 7 Finished! Val Loss: 0.6709484481811523, Train Loss: 0.5738833240509034\n",
      "Epoch: [8/15], Step: [701/1563], Validation Acc: 69.0, Traning Acc: 80.548\n",
      "Epoch: [8/15], Step: [1401/1563], Validation Acc: 69.7, Traning Acc: 80.786\n",
      "Epoch 8 Finished! Val Loss: 0.6974127225875855, Train Loss: 0.5297615227603912\n",
      "Epoch: [9/15], Step: [701/1563], Validation Acc: 69.7, Traning Acc: 83.079\n",
      "Epoch: [9/15], Step: [1401/1563], Validation Acc: 70.2, Traning Acc: 84.21\n",
      "Epoch 9 Finished! Val Loss: 0.6953012804985046, Train Loss: 0.482093000869751\n",
      "Epoch: [10/15], Step: [701/1563], Validation Acc: 70.7, Traning Acc: 85.399\n",
      "Epoch: [10/15], Step: [1401/1563], Validation Acc: 70.1, Traning Acc: 86.752\n",
      "Epoch 10 Finished! Val Loss: 0.7726832427978516, Train Loss: 0.4293032624912262\n",
      "Epoch: [11/15], Step: [701/1563], Validation Acc: 69.1, Traning Acc: 87.585\n",
      "Epoch: [11/15], Step: [1401/1563], Validation Acc: 68.6, Traning Acc: 89.019\n",
      "Epoch 11 Finished! Val Loss: 0.8694789118766785, Train Loss: 0.3741242320251465\n",
      "Epoch: [12/15], Step: [701/1563], Validation Acc: 70.0, Traning Acc: 90.51\n",
      "Epoch: [12/15], Step: [1401/1563], Validation Acc: 69.1, Traning Acc: 91.418\n",
      "Epoch 12 Finished! Val Loss: 0.8969067039489746, Train Loss: 0.31652726863861086\n",
      "Epoch: [13/15], Step: [701/1563], Validation Acc: 69.8, Traning Acc: 92.708\n",
      "Epoch: [13/15], Step: [1401/1563], Validation Acc: 68.3, Traning Acc: 93.444\n",
      "Epoch 13 Finished! Val Loss: 1.1121131019592285, Train Loss: 0.26234785927295684\n",
      "Epoch: [14/15], Step: [701/1563], Validation Acc: 70.4, Traning Acc: 94.226\n",
      "Epoch: [14/15], Step: [1401/1563], Validation Acc: 68.6, Traning Acc: 94.963\n",
      "Epoch 14 Finished! Val Loss: 1.1555312719345092, Train Loss: 0.21272699135303497\n",
      "Epoch: [15/15], Step: [701/1563], Validation Acc: 69.6, Traning Acc: 95.72\n",
      "Epoch: [15/15], Step: [1401/1563], Validation Acc: 69.7, Traning Acc: 96.046\n",
      "Epoch 15 Finished! Val Loss: 1.365639147758484, Train Loss: 0.17409639049291611\n"
     ]
    }
   ],
   "source": [
    "val_acc_records_reg['dropout'],train_acc_records_reg['dropout'],val_loss_records_reg['dropout'],train_loss_records_reg['dropout'],num_params_records_reg['dropout'] \\\n",
    "        = RNN_Tuning(train_sentence,train_label, val_sentence, val_label,words, loaded_embeddings, hidden_size, interm_size, interact=interact, dropout=0.5)\n"
   ]
  },
  {
   "cell_type": "code",
   "execution_count": 29,
   "metadata": {},
   "outputs": [
    {
     "name": "stderr",
     "output_type": "stream",
     "text": [
      "No handles with labels found to put in legend.\n"
     ]
    },
    {
     "data": {
      "image/png": "[encoded data removed]",
      "text/plain": [
       "<Figure size 720x432 with 4 Axes>"
      ]
     },
     "metadata": {
      "needs_background": "light"
     },
     "output_type": "display_data"
    }
   ],
   "source": [
    "def plot_result(train_loss, val_loss, val_acc, num_params, title_list,key_list, main, epoches_num_list):\n",
    "    \"\"\"\n",
    "    Plot the results. All input data with dim [# of subplots, # of epoches]\n",
    "    \"\"\"\n",
    "    subplot_num = len(title_list)\n",
    "    fig, axes = plt.subplots((subplot_num + 1)//2 , 2, sharex= \"col\", sharey='row', figsize = (10,subplot_num * 2))\n",
    "    #epoches = np.arange(epoches_num) + 1\n",
    "    val_acc_2 = {}\n",
    "    for i in range(subplot_num):\n",
    "        epoches = np.arange(epoches_num_list[i]) + 1\n",
    "        val_acc_2[key_list[i]] = [j/100 for j in val_acc[key_list[i]]]\n",
    "        axes[i//2,i%2].plot(epoches,train_loss[key_list[i]], label = \"Training Loss\")\n",
    "        axes[i//2,i%2].plot(epoches, val_loss[key_list[i]], label = \"Validation Loss\")\n",
    "        axes[i//2,i%2].plot(epoches, val_acc_2[key_list[i]], label = \"Validation Accuracy\")\n",
    "        axes[i//2,i%2].set_ylim([0.3,1.0])\n",
    "        axes[i//2,i%2].text(1.0,0.92,\"# params: \" + str(num_params[key_list[i]]))    \n",
    "        axes[i//2,i%2].set_title(title_list[i])\n",
    "    plt.legend()\n",
    "    plt.suptitle(main)\n",
    "    plt.show()\n",
    "plot_result(train_loss_records_reg, val_loss_records_reg, val_acc_records_reg,num_params_records_reg,\\\n",
    "            [\"Without Regularization\", \"With Weight Decay = 1e-09\", \"With Dropout = 0.5\"],['no_reg','weight_decay', \"dropout\"],\\\n",
    "            'RNN with Different Ways of Regularization',[12, 15, 15])"
   ]
  },
  {
   "cell_type": "code",
   "execution_count": 30,
   "metadata": {},
   "outputs": [
    {
     "name": "stdout",
     "output_type": "stream",
     "text": [
      "no_reg 74.0\n",
      "weight_decay 70.5\n",
      "dropout 72.3\n"
     ]
    }
   ],
   "source": [
    "for key,item in val_acc_records_reg.items():\n",
    "    print(key,max(item))"
   ]
  },
  {
   "cell_type": "markdown",
   "metadata": {},
   "source": [
    "No_reg is best here."
   ]
  },
  {
   "cell_type": "markdown",
   "metadata": {},
   "source": [
    "# CNN"
   ]
  },
  {
   "cell_type": "code",
   "execution_count": 48,
   "metadata": {},
   "outputs": [],
   "source": [
    "#parameters\n",
    "kernel_size = 3\n",
    "learning_rate = 5e-4\n",
    "hidden_size = 200\n",
    "interm_size = 50"
   ]
  },
  {
   "cell_type": "code",
   "execution_count": 44,
   "metadata": {},
   "outputs": [],
   "source": [
    "class CNN(nn.Module):\n",
    "    def __init__(self, word_embedding, hidden_size, interm_size,num_classes, kernel_size, interact, dropout):\n",
    "\n",
    "        super(CNN, self).__init__()\n",
    "        emb_size = word_embedding.shape[1]\n",
    "        self.hidden_size, self.dropout = hidden_size, dropout\n",
    "        self.embedding = nn.Embedding.from_pretrained(word_embedding, freeze = False)\n",
    "    \n",
    "        self.conv1 = nn.Conv1d(emb_size, hidden_size, kernel_size=kernel_size, padding=(kernel_size-1)//2)\n",
    "        self.conv2 = nn.Conv1d(hidden_size, hidden_size, kernel_size=kernel_size, padding=(kernel_size-1)//2)\n",
    "        if interact == 'concat':\n",
    "            self.fn1 = nn.Linear(hidden_size * 2, interm_size)\n",
    "        elif interact == 'mul':\n",
    "            self.fn1 = nn.Linear(hidden_size, interm_size)\n",
    "        if dropout != 0:\n",
    "            self.dropout_layer = nn.Dropout(p = dropout)\n",
    "        self.fn2 = nn.Linear(interm_size, num_classes)\n",
    "        self.interact_option = interact\n",
    "        \n",
    "    def forward(self, x1,x2, x1_lengths, x2_lengths, x1_unsort_idx, x2_unsort_idx):\n",
    "        assert(x1.size() == x2.size())\n",
    "        batch_size, seq_len = x1.size()\n",
    "        embed1 = self.embedding(x1.long())\n",
    "        #detach the frozen word embeddings except the <unk> and <pad>\n",
    "        #build mask\n",
    "#         mask1 = torch.ones(embed1.shape).to(device)\n",
    "#         for index1 in range(len(x1)):\n",
    "#             for index2 in range(len(x1[index1])):\n",
    "#                 if x1[index1][index2]==PAD_IDX or x1[index1][index2]==UNK_IDX:\n",
    "#                     mask1[index1][index2].zero_()\n",
    "        mask1 = (x1 == 1).type(torch.cuda.FloatTensor)\n",
    "        mask1 = mask1.unsqueeze(2).repeat(1, 1, 300)\n",
    "        embed1 = mask1 * embed1.float() + (1-mask1) * (embed1.clone().detach().float())\n",
    "        \n",
    "        embed2 = self.embedding(x2.long())\n",
    "#         mask2 = torch.ones(embed2.shape).to(device)\n",
    "#         for index1 in range(len(x2)):\n",
    "#             for index2 in range(len(x2[index1])):\n",
    "#                 if x2[index1][index2]==PAD_IDX or x2[index1][index2]==UNK_IDX:\n",
    "#                     mask2[index1][index2].zero_()\n",
    "        mask2 = (x2 == 1).type(torch.cuda.FloatTensor)\n",
    "        mask2 = mask2.unsqueeze(2).repeat(1, 1, 300)\n",
    "        embed2 = mask2 * embed2.float() + (1-mask2) * (embed2.clone().detach().float())\n",
    "        \n",
    "        hidden1 = self.conv1(embed1.transpose(1,2)).transpose(1,2)\n",
    "        hidden1 = F.relu(hidden1.contiguous().view(-1, hidden1.size(-1))).view(batch_size, seq_len, hidden1.size(-1))\n",
    "\n",
    "        hidden2 = self.conv1(embed2.transpose(1,2)).transpose(1,2)\n",
    "        hidden2 = F.relu(hidden2.contiguous().view(-1, hidden2.size(-1))).view(batch_size, seq_len, hidden2.size(-1))\n",
    "\n",
    "        hidden1 = self.conv2(hidden1.transpose(1,2)).transpose(1,2)\n",
    "        hidden1 = F.relu(hidden1.contiguous().view(-1, hidden1.size(-1))).view(batch_size, seq_len, hidden1.size(-1))\n",
    "\n",
    "        hidden2 = self.conv2(hidden2.transpose(1,2)).transpose(1,2)\n",
    "        hidden2 = F.relu(hidden2.contiguous().view(-1, hidden2.size(-1))).view(batch_size, seq_len, hidden2.size(-1))\n",
    "\n",
    "        maxpool =nn.MaxPool1d(kernel_size=seq_len)\n",
    "        hidden1 = maxpool(hidden1.transpose(1,2)).transpose(1,2)\n",
    "        hidden2 = maxpool(hidden2.transpose(1,2)).transpose(1,2)\n",
    "\n",
    "        hidden1 = hidden1.squeeze(dim = 1)\n",
    "        hidden2 = hidden2.squeeze(dim = 1)\n",
    "        \n",
    "        hidden1 = hidden1[x1_unsort_idx]\n",
    "        hidden2 = hidden2[x2_unsort_idx]\n",
    "        \n",
    "        #hidden = self.conv2(hidden.transpose(1,2)).transpose(1,2)\n",
    "        #hidden = F.relu(hidden.contiguous().view(-1, hidden.size(-1))).view(batch_size, seq_len, hidden.size(-1))\n",
    "        if self.interact_option == 'concat':\n",
    "            #concat\n",
    "            hidden = torch.cat((hidden1,hidden2), 1)\n",
    "        elif self.interact_option == 'mul':\n",
    "            hidden = hidden1 * hidden2\n",
    "\n",
    "        #hidden = torch.sum(hidden, dim=1)\n",
    "        interm = self.fn1(hidden)\n",
    "        interm = F.relu(interm)\n",
    "        if self.dropout != 0:\n",
    "            interm = self.dropout_layer(interm)\n",
    "        logits = self.fn2(interm)\n",
    "        logits = F.log_softmax(logits,dim=1)\n",
    "        return logits"
   ]
  },
  {
   "cell_type": "code",
   "execution_count": 6,
   "metadata": {},
   "outputs": [],
   "source": [
    "def test_model(loader, model, criterion):\n",
    "    \"\"\"\n",
    "    Help function that tests the model's performance on a dataset\n",
    "    @param: loader - data loader for the dataset to test against\n",
    "    \"\"\"\n",
    "    correct = 0\n",
    "    total = 0\n",
    "    loss = 0\n",
    "    model.eval()\n",
    "    for x1,x2,x1_len,x2_len, x1_unsort_idx, x2_unsort_idx, labels in loader:\n",
    "        x1_batch,x2_batch, x1_lengths_batch, x2_lengths_batch, x1_unsort_idx_batch, x2_unsort_idx_batch, label_batch =x1,x2,x1_len,x2_len,  x1_unsort_idx, x2_unsort_idx, labels\n",
    "        x1_batch = x1_batch.long().to(device)\n",
    "        x2_batch = x2_batch.long().to(device)\n",
    "        x1_lengths_batch = x1_lengths_batch.to(device)\n",
    "        x2_lengths_batch = x2_lengths_batch.to(device)\n",
    "        label_batch = label_batch.to(device)\n",
    "        outputs = model(x1_batch,x2_batch, x1_lengths_batch, x2_lengths_batch, x1_unsort_idx_batch, x2_unsort_idx_batch)\n",
    "        predicted = outputs.max(1, keepdim=True)[1]\n",
    "        loss += criterion(outputs, label_batch).item() *  labels.size(0)\n",
    "        total += labels.size(0)\n",
    "        correct += predicted.eq(label_batch.view_as(predicted)).sum().item()\n",
    "    return loss/total, (100 * correct / total)\n"
   ]
  },
  {
   "cell_type": "code",
   "execution_count": 55,
   "metadata": {
    "scrolled": true
   },
   "outputs": [
    {
     "name": "stdout",
     "output_type": "stream",
     "text": [
      "Epoch: [1/15], Step: [301/1563], Validation Acc: 58.3, Train Acc: 58.06\n",
      "Epoch: [1/15], Step: [601/1563], Validation Acc: 61.7, Train Acc: 61.598\n",
      "Epoch: [1/15], Step: [901/1563], Validation Acc: 63.0, Train Acc: 63.329\n",
      "Epoch: [1/15], Step: [1201/1563], Validation Acc: 64.0, Train Acc: 64.571\n",
      "Epoch: [1/15], Step: [1501/1563], Validation Acc: 64.3, Train Acc: 65.75\n",
      "Epoch 1 Finished! Val Loss: 0.8062016968727111, Train Loss: 0.7760862085342407\n",
      "Epoch: [2/15], Step: [301/1563], Validation Acc: 65.8, Train Acc: 66.882\n",
      "Epoch: [2/15], Step: [601/1563], Validation Acc: 64.9, Train Acc: 67.842\n",
      "Epoch: [2/15], Step: [901/1563], Validation Acc: 64.7, Train Acc: 68.745\n",
      "Epoch: [2/15], Step: [1201/1563], Validation Acc: 65.8, Train Acc: 69.416\n",
      "Epoch: [2/15], Step: [1501/1563], Validation Acc: 65.0, Train Acc: 69.768\n",
      "Epoch 2 Finished! Val Loss: 0.7808588843345642, Train Loss: 0.7170582102966309\n",
      "Epoch: [3/15], Step: [301/1563], Validation Acc: 66.9, Train Acc: 70.481\n",
      "Epoch: [3/15], Step: [601/1563], Validation Acc: 66.9, Train Acc: 71.252\n",
      "Epoch: [3/15], Step: [901/1563], Validation Acc: 67.6, Train Acc: 72.016\n",
      "Epoch: [3/15], Step: [1201/1563], Validation Acc: 67.7, Train Acc: 72.658\n",
      "Epoch: [3/15], Step: [1501/1563], Validation Acc: 69.6, Train Acc: 73.196\n",
      "Epoch 3 Finished! Val Loss: 0.747685830116272, Train Loss: 0.651747294330597\n",
      "Epoch: [4/15], Step: [301/1563], Validation Acc: 67.6, Train Acc: 73.594\n",
      "Epoch: [4/15], Step: [601/1563], Validation Acc: 68.3, Train Acc: 73.978\n",
      "Epoch: [4/15], Step: [901/1563], Validation Acc: 68.4, Train Acc: 74.714\n",
      "Epoch: [4/15], Step: [1201/1563], Validation Acc: 67.9, Train Acc: 74.961\n",
      "Epoch: [4/15], Step: [1501/1563], Validation Acc: 69.2, Train Acc: 74.977\n",
      "Epoch 4 Finished! Val Loss: 0.7600235333442688, Train Loss: 0.599724268989563\n",
      "Epoch: [5/15], Step: [301/1563], Validation Acc: 68.0, Train Acc: 74.534\n",
      "Epoch: [5/15], Step: [601/1563], Validation Acc: 67.8, Train Acc: 76.583\n",
      "Epoch: [5/15], Step: [901/1563], Validation Acc: 67.5, Train Acc: 76.429\n",
      "Epoch: [5/15], Step: [1201/1563], Validation Acc: 68.7, Train Acc: 77.955\n",
      "Epoch: [5/15], Step: [1501/1563], Validation Acc: 69.1, Train Acc: 78.368\n",
      "Epoch 5 Finished! Val Loss: 0.7535625982284546, Train Loss: 0.5490134015655518\n",
      "Epoch: [6/15], Step: [301/1563], Validation Acc: 69.4, Train Acc: 78.858\n",
      "Epoch: [6/15], Step: [601/1563], Validation Acc: 68.1, Train Acc: 79.842\n",
      "Epoch: [6/15], Step: [901/1563], Validation Acc: 70.2, Train Acc: 79.708\n",
      "Epoch: [6/15], Step: [1201/1563], Validation Acc: 67.6, Train Acc: 79.583\n",
      "Epoch: [6/15], Step: [1501/1563], Validation Acc: 68.4, Train Acc: 80.69\n",
      "Epoch 6 Finished! Val Loss: 0.7831997227668762, Train Loss: 0.4865936676120758\n",
      "Epoch: [7/15], Step: [301/1563], Validation Acc: 69.5, Train Acc: 81.364\n",
      "Epoch: [7/15], Step: [601/1563], Validation Acc: 69.6, Train Acc: 81.999\n",
      "Epoch: [7/15], Step: [901/1563], Validation Acc: 68.2, Train Acc: 82.097\n",
      "Epoch: [7/15], Step: [1201/1563], Validation Acc: 68.1, Train Acc: 83.089\n",
      "Epoch: [7/15], Step: [1501/1563], Validation Acc: 69.7, Train Acc: 83.678\n",
      "Epoch 7 Finished! Val Loss: 0.8365434999465943, Train Loss: 0.43572610032081605\n",
      "Epoch: [8/15], Step: [301/1563], Validation Acc: 68.4, Train Acc: 84.418\n",
      "Epoch: [8/15], Step: [601/1563], Validation Acc: 66.0, Train Acc: 84.142\n",
      "Epoch: [8/15], Step: [901/1563], Validation Acc: 68.3, Train Acc: 84.457\n",
      "Epoch: [8/15], Step: [1201/1563], Validation Acc: 68.1, Train Acc: 85.342\n",
      "Epoch: [8/15], Step: [1501/1563], Validation Acc: 68.3, Train Acc: 85.495\n",
      "Epoch 8 Finished! Val Loss: 0.8762444505691528, Train Loss: 0.38475745946884155\n",
      "Epoch: [9/15], Step: [301/1563], Validation Acc: 67.4, Train Acc: 85.366\n",
      "Epoch: [9/15], Step: [601/1563], Validation Acc: 67.8, Train Acc: 86.595\n",
      "Epoch: [9/15], Step: [901/1563], Validation Acc: 66.1, Train Acc: 87.036\n",
      "Epoch: [9/15], Step: [1201/1563], Validation Acc: 68.0, Train Acc: 87.684\n",
      "Epoch: [9/15], Step: [1501/1563], Validation Acc: 68.7, Train Acc: 88.021\n",
      "Epoch 9 Finished! Val Loss: 0.9731660318374634, Train Loss: 0.35344206738471984\n",
      "Epoch: [10/15], Step: [301/1563], Validation Acc: 67.1, Train Acc: 88.436\n",
      "Epoch: [10/15], Step: [601/1563], Validation Acc: 67.1, Train Acc: 88.996\n",
      "Epoch: [10/15], Step: [901/1563], Validation Acc: 66.8, Train Acc: 88.066\n",
      "Epoch: [10/15], Step: [1201/1563], Validation Acc: 68.0, Train Acc: 89.537\n",
      "Epoch: [10/15], Step: [1501/1563], Validation Acc: 67.5, Train Acc: 90.176\n",
      "Epoch 10 Finished! Val Loss: 1.0018465266227723, Train Loss: 0.28832012461662293\n",
      "Epoch: [11/15], Step: [301/1563], Validation Acc: 67.5, Train Acc: 90.614\n",
      "Epoch: [11/15], Step: [601/1563], Validation Acc: 67.3, Train Acc: 90.771\n",
      "Epoch: [11/15], Step: [901/1563], Validation Acc: 67.2, Train Acc: 90.259\n",
      "Epoch: [11/15], Step: [1201/1563], Validation Acc: 66.2, Train Acc: 90.094\n",
      "Epoch: [11/15], Step: [1501/1563], Validation Acc: 66.4, Train Acc: 90.516\n",
      "Epoch 11 Finished! Val Loss: 1.118415636062622, Train Loss: 0.25217510816574096\n",
      "Epoch: [12/15], Step: [301/1563], Validation Acc: 66.8, Train Acc: 92.137\n",
      "Epoch: [12/15], Step: [601/1563], Validation Acc: 68.5, Train Acc: 91.897\n",
      "Epoch: [12/15], Step: [901/1563], Validation Acc: 67.4, Train Acc: 92.127\n",
      "Epoch: [12/15], Step: [1201/1563], Validation Acc: 66.4, Train Acc: 92.588\n",
      "Epoch: [12/15], Step: [1501/1563], Validation Acc: 66.7, Train Acc: 92.886\n",
      "Epoch 12 Finished! Val Loss: 1.2561973352432252, Train Loss: 0.22400947909593583\n",
      "Epoch: [13/15], Step: [301/1563], Validation Acc: 66.0, Train Acc: 92.102\n",
      "Epoch: [13/15], Step: [601/1563], Validation Acc: 65.3, Train Acc: 93.519\n",
      "Epoch: [13/15], Step: [901/1563], Validation Acc: 66.6, Train Acc: 93.808\n",
      "Epoch: [13/15], Step: [1201/1563], Validation Acc: 66.9, Train Acc: 93.428\n",
      "Epoch: [13/15], Step: [1501/1563], Validation Acc: 66.0, Train Acc: 93.778\n",
      "Epoch 13 Finished! Val Loss: 1.3143031187057495, Train Loss: 0.18544992376327515\n",
      "Epoch: [14/15], Step: [301/1563], Validation Acc: 66.6, Train Acc: 94.185\n",
      "Epoch: [14/15], Step: [601/1563], Validation Acc: 65.3, Train Acc: 93.934\n",
      "Epoch: [14/15], Step: [901/1563], Validation Acc: 66.2, Train Acc: 93.976\n",
      "Epoch: [14/15], Step: [1201/1563], Validation Acc: 67.3, Train Acc: 94.674\n",
      "Epoch: [14/15], Step: [1501/1563], Validation Acc: 65.5, Train Acc: 94.736\n",
      "Epoch 14 Finished! Val Loss: 1.4673967447280885, Train Loss: 0.15967835791110993\n",
      "Epoch: [15/15], Step: [301/1563], Validation Acc: 66.2, Train Acc: 95.332\n",
      "Epoch: [15/15], Step: [601/1563], Validation Acc: 65.5, Train Acc: 95.511\n",
      "Epoch: [15/15], Step: [901/1563], Validation Acc: 65.8, Train Acc: 95.248\n",
      "Epoch: [15/15], Step: [1201/1563], Validation Acc: 66.2, Train Acc: 95.04\n",
      "Epoch: [15/15], Step: [1501/1563], Validation Acc: 68.0, Train Acc: 95.345\n",
      "Epoch 15 Finished! Val Loss: 1.5166537036895753, Train Loss: 0.14763342859327794\n"
     ]
    }
   ],
   "source": [
    "model = CNN(word_embedding=loaded_embeddings, hidden_size=hidden_size, num_classes=3)\n",
    "model = model.to(device)\n",
    "train_loss_records = []\n",
    "train_acc_records = []\n",
    "val_loss_records = []\n",
    "val_acc_records = []\n",
    "# Criterion and Optimizer\n",
    "criterion = torch.nn.NLLLoss()\n",
    "optimizer = torch.optim.Adam(model.parameters(), lr=learning_rate)\n",
    "\n",
    "# Train the model\n",
    "total_step = len(train_loader)\n",
    "\n",
    "for epoch in range(num_epochs):\n",
    "    loss_sum = 0.0\n",
    "    total = 0\n",
    "    for i,(x1,x2,x1_len,x2_len, x1_unsort_idx, x2_unsort_idx, labels) in enumerate(train_loader):\n",
    "        model.train()\n",
    "        optimizer.zero_grad()\n",
    "        # Forward pass\n",
    "        x1 = x1.to(device)\n",
    "        x2 = x2.to(device)\n",
    "        x1_len = x1_len.to(device)\n",
    "        x2_len = x2_len.to(device)\n",
    "        labels = labels.to(device)\n",
    "        outputs = model(x1,x2,x1_len,x2_len, x1_unsort_idx, x2_unsort_idx)\n",
    "        loss = criterion(outputs, labels)\n",
    "        loss_sum += loss.item() * labels.size(0)\n",
    "        total += labels.size(0)\n",
    "        # Backward and optimize\n",
    "        loss.backward()\n",
    "        optimizer.step()\n",
    "        # validate every 100 iterations\n",
    "        if i > 0 and i % 300 == 0:\n",
    "            # validate\n",
    "            val_loss, val_acc = test_model(val_loader, model)\n",
    "            train_loss, train_acc = test_model(train_loader, model)\n",
    "            print('Epoch: [{}/{}], Step: [{}/{}], Validation Acc: {}, Train Acc: {}'.format(\n",
    "                       epoch+1, num_epochs, i+1, len(train_loader), val_acc, train_acc))\n",
    "    val_loss, val_acc = test_model(val_loader, model)\n",
    "    train_loss, train_acc = test_model(train_loader, model)\n",
    "    print('Epoch {} Finished! Val Loss: {}, Train Loss: {}'.format(epoch+1, val_loss, train_loss))\n",
    "    train_loss_records.append(loss_sum/total)\n",
    "    train_acc_records.append(train_acc)\n",
    "    val_loss_records.append(val_loss)\n",
    "    val_acc_records.append(val_acc)"
   ]
  },
  {
   "cell_type": "code",
   "execution_count": 57,
   "metadata": {},
   "outputs": [
    {
     "data": {
      "image/png": "[encoded data removed]",
      "text/plain": [
       "<Figure size 432x288 with 1 Axes>"
      ]
     },
     "metadata": {
      "needs_background": "light"
     },
     "output_type": "display_data"
    }
   ],
   "source": [
    "#visualization\n",
    "#val_acc_records = [i/100 for i in val_acc_records]\n",
    "epoches = np.arange(num_epochs) + 1\n",
    "plt.plot(epoches,train_loss_records[15:], label = \"Training Loss\")\n",
    "plt.plot(epoches, val_loss_records[15:], label = \"Validation Loss\")\n",
    "plt.plot(epoches, val_acc_records[15:], label = \"Validation Accuracy\")\n",
    "plt.legend(loc='upper right')\n",
    "plt.title('Result of CNN')\n",
    "plt.show()"
   ]
  },
  {
   "cell_type": "markdown",
   "metadata": {},
   "source": [
    "## Parameter Tuning (CNN)"
   ]
  },
  {
   "cell_type": "markdown",
   "metadata": {},
   "source": [
    "### Size of Hidden Dimension"
   ]
  },
  {
   "cell_type": "code",
   "execution_count": 7,
   "metadata": {},
   "outputs": [],
   "source": [
    "words_to_load = 50000\n",
    "emb_size = 300\n",
    "def CNN_Tuning(train_sentence,train_label, val_sentence, val_label,words, loaded_embeddings, hidden_size, interm_size,kernel_size, interact = 'concat', weight_decay = 0,dropout = 0):\n",
    "    train_dataset = SNLIDataset(train_sentence, train_label, words)\n",
    "    train_loader = torch.utils.data.DataLoader(dataset=train_dataset,\n",
    "                                               batch_size=BATCH_SIZE,\n",
    "                                               collate_fn=collate_func,\n",
    "                                               shuffle=True)\n",
    "\n",
    "    val_dataset = SNLIDataset(val_sentence, val_label, words)\n",
    "    val_loader = torch.utils.data.DataLoader(dataset=val_dataset,\n",
    "                                               batch_size=BATCH_SIZE,\n",
    "                                               collate_fn=collate_func,\n",
    "                                               shuffle=False)\n",
    "    model = CNN(loaded_embeddings, hidden_size=hidden_size, interm_size=interm_size, num_classes=3, kernel_size = kernel_size,interact = interact, dropout = dropout)\n",
    "    model_parameters = filter(lambda p: p.requires_grad, model.parameters())\n",
    "    #Count number of parameters, minus the num of frozen embedding vectors since we detach them manually\n",
    "    num_params = sum([np.prod(p.size()) for p in model_parameters]) - emb_size * words_to_load\n",
    "    model = model.to(device)\n",
    "    val_acc_records = []\n",
    "    train_acc_records = []\n",
    "    val_loss_records = []\n",
    "    train_loss_records = []\n",
    "\n",
    "    torch.backends.cudnn.benchmark=True\n",
    "    # Criterion and Optimizer\n",
    "    criterion = torch.nn.NLLLoss()\n",
    "    #parameters = filter(lambda p: p.requires_grad, model.parameters())\n",
    "    optimizer = torch.optim.Adam(model.parameters(), lr=learning_rate, weight_decay = weight_decay)\n",
    "\n",
    "    # Train the model\n",
    "    total_step = len(train_loader)\n",
    "\n",
    "    for epoch in range(num_epochs):\n",
    "        loss_sum = 0.0\n",
    "        total = 0\n",
    "        for i, (x1,x2,x1_len,x2_len, x1_unsort_idx, x2_unsort_idx, labels) in enumerate(train_loader):\n",
    "            model.train()\n",
    "            optimizer.zero_grad()\n",
    "            # Forward pass\n",
    "            x1 = x1.long().to(device)\n",
    "            x2 = x2.long().to(device)\n",
    "            x1_len = x1_len.to(device)\n",
    "            x2_len = x2_len.to(device)\n",
    "            labels = labels.to(device)\n",
    "            outputs = model(x1, x2, x1_len, x2_len, x1_unsort_idx, x2_unsort_idx)\n",
    "\n",
    "            loss = criterion(outputs, labels)\n",
    "\n",
    "            loss_sum += loss.item() * labels.size(0)\n",
    "            total += labels.size(0)\n",
    "            # Backward and optimize\n",
    "            loss.backward()        \n",
    "            optimizer.step()\n",
    "            # validate every 100 iterations\n",
    "            if i > 0 and i % 700 == 0:\n",
    "                # validate\n",
    "                val_loss, val_acc = test_model(val_loader, model, criterion)\n",
    "                train_loss, train_acc = test_model(train_loader, model, criterion)\n",
    "                print('Epoch: [{}/{}], Step: [{}/{}], Validation Acc: {}, Traning Acc: {}'.format(\n",
    "                           epoch+1, num_epochs, i+1, len(train_loader), val_acc, train_acc))\n",
    "        val_loss, val_acc = test_model(val_loader, model, criterion)\n",
    "        print('Epoch {} Finished! Val Loss: {}, Train Loss: {}'.format(epoch+1, val_loss, loss_sum/total))\n",
    "        train_loss_records.append(loss_sum/total)\n",
    "        train_acc_records.append(train_acc)\n",
    "        val_loss_records.append(val_loss)\n",
    "        val_acc_records.append(val_acc)\n",
    "    return val_acc_records,train_acc_records,val_loss_records,train_loss_records,num_params"
   ]
  },
  {
   "cell_type": "code",
   "execution_count": 17,
   "metadata": {},
   "outputs": [],
   "source": [
    "def plot_result(train_loss, val_loss, val_acc, num_params, title_list,key_list, main, epoches_num):\n",
    "    \"\"\"\n",
    "    Plot the results. All input data with dim [# of subplots, # of epoches]\n",
    "    \"\"\"\n",
    "    subplot_num = len(title_list)\n",
    "    fig, axes = plt.subplots((subplot_num + 1)//2 , 2, sharex= \"col\", sharey='row', figsize = (10,subplot_num * 2))\n",
    "    epoches = np.arange(epoches_num) + 1\n",
    "    val_acc_2 = {}\n",
    "    for i in range(subplot_num):\n",
    "        val_acc_2[key_list[i]] = [j/100 for j in val_acc[key_list[i]]]\n",
    "        axes[i//2,i%2].plot(epoches,train_loss[key_list[i]], label = \"Training Loss\")\n",
    "        axes[i//2,i%2].plot(epoches, val_loss[key_list[i]], label = \"Validation Loss\")\n",
    "        axes[i//2,i%2].plot(epoches, val_acc_2[key_list[i]], label = \"Validation Accuracy\")\n",
    "        axes[i//2,i%2].set_ylim([0.3,1.0])\n",
    "        axes[i//2,i%2].text(1.0,0.92,\"# params: \" + str(num_params[key_list[i]]))\n",
    "        \n",
    "        axes[i//2,i%2].set_title(title_list[i])\n",
    "    plt.legend()\n",
    "    plt.suptitle(main)\n",
    "    plt.show()"
   ]
  },
  {
   "cell_type": "code",
   "execution_count": 20,
   "metadata": {},
   "outputs": [
    {
     "name": "stdout",
     "output_type": "stream",
     "text": [
      "Epoch: [1/10], Step: [701/1563], Validation Acc: 61.7, Traning Acc: 61.742\n",
      "Epoch: [1/10], Step: [1401/1563], Validation Acc: 62.2, Traning Acc: 64.24\n",
      "Epoch 1 Finished! Val Loss: 0.8201207618713379, Train Loss: 0.8810178804016113\n",
      "Epoch: [2/10], Step: [701/1563], Validation Acc: 63.6, Traning Acc: 66.026\n",
      "Epoch: [2/10], Step: [1401/1563], Validation Acc: 65.1, Traning Acc: 68.331\n",
      "Epoch 2 Finished! Val Loss: 0.788278226852417, Train Loss: 0.7829738822937011\n",
      "Epoch: [3/10], Step: [701/1563], Validation Acc: 65.5, Traning Acc: 70.065\n",
      "Epoch: [3/10], Step: [1401/1563], Validation Acc: 65.0, Traning Acc: 70.578\n",
      "Epoch 3 Finished! Val Loss: 0.7726291875839233, Train Loss: 0.7300595544624329\n",
      "Epoch: [4/10], Step: [701/1563], Validation Acc: 65.7, Traning Acc: 72.224\n",
      "Epoch: [4/10], Step: [1401/1563], Validation Acc: 67.9, Traning Acc: 73.522\n",
      "Epoch 4 Finished! Val Loss: 0.7629825887680054, Train Loss: 0.6891269156646729\n",
      "Epoch: [5/10], Step: [701/1563], Validation Acc: 67.3, Traning Acc: 74.776\n",
      "Epoch: [5/10], Step: [1401/1563], Validation Acc: 67.3, Traning Acc: 75.787\n",
      "Epoch 5 Finished! Val Loss: 0.7679314818382263, Train Loss: 0.6523216361999512\n",
      "Epoch: [6/10], Step: [701/1563], Validation Acc: 65.5, Traning Acc: 76.302\n",
      "Epoch: [6/10], Step: [1401/1563], Validation Acc: 67.1, Traning Acc: 76.172\n",
      "Epoch 6 Finished! Val Loss: 0.7976798434257507, Train Loss: 0.6149063618469238\n",
      "Epoch: [7/10], Step: [701/1563], Validation Acc: 65.9, Traning Acc: 78.513\n",
      "Epoch: [7/10], Step: [1401/1563], Validation Acc: 66.1, Traning Acc: 78.791\n",
      "Epoch 7 Finished! Val Loss: 0.7914388318061829, Train Loss: 0.5785278754901886\n",
      "Epoch: [8/10], Step: [701/1563], Validation Acc: 65.4, Traning Acc: 80.338\n",
      "Epoch: [8/10], Step: [1401/1563], Validation Acc: 67.0, Traning Acc: 81.547\n",
      "Epoch 8 Finished! Val Loss: 0.812768859386444, Train Loss: 0.5430101097297668\n",
      "Epoch: [9/10], Step: [701/1563], Validation Acc: 65.8, Traning Acc: 80.495\n",
      "Epoch: [9/10], Step: [1401/1563], Validation Acc: 67.2, Traning Acc: 82.622\n",
      "Epoch 9 Finished! Val Loss: 0.8673388023376465, Train Loss: 0.5071929962539673\n",
      "Epoch: [10/10], Step: [701/1563], Validation Acc: 67.2, Traning Acc: 83.951\n",
      "Epoch: [10/10], Step: [1401/1563], Validation Acc: 65.9, Traning Acc: 84.607\n",
      "Epoch 10 Finished! Val Loss: 0.8868355112075805, Train Loss: 0.4751450957298279\n",
      "Epoch: [1/10], Step: [701/1563], Validation Acc: 62.3, Traning Acc: 62.838\n",
      "Epoch: [1/10], Step: [1401/1563], Validation Acc: 62.7, Traning Acc: 65.559\n",
      "Epoch 1 Finished! Val Loss: 0.8072310152053833, Train Loss: 0.862854825630188\n",
      "Epoch: [2/10], Step: [701/1563], Validation Acc: 65.5, Traning Acc: 68.227\n",
      "Epoch: [2/10], Step: [1401/1563], Validation Acc: 67.8, Traning Acc: 69.979\n",
      "Epoch 2 Finished! Val Loss: 0.7647548289299011, Train Loss: 0.7564116967391967\n",
      "Epoch: [3/10], Step: [701/1563], Validation Acc: 66.6, Traning Acc: 72.562\n",
      "Epoch: [3/10], Step: [1401/1563], Validation Acc: 68.1, Traning Acc: 73.774\n",
      "Epoch 3 Finished! Val Loss: 0.759749083518982, Train Loss: 0.698002751197815\n",
      "Epoch: [4/10], Step: [701/1563], Validation Acc: 67.8, Traning Acc: 75.352\n",
      "Epoch: [4/10], Step: [1401/1563], Validation Acc: 67.2, Traning Acc: 76.742\n",
      "Epoch 4 Finished! Val Loss: 0.7613393979072571, Train Loss: 0.6479648815345764\n",
      "Epoch: [5/10], Step: [701/1563], Validation Acc: 66.4, Traning Acc: 78.294\n",
      "Epoch: [5/10], Step: [1401/1563], Validation Acc: 66.4, Traning Acc: 79.936\n",
      "Epoch 5 Finished! Val Loss: 0.7812121891975403, Train Loss: 0.5967837513923645\n",
      "Epoch: [6/10], Step: [701/1563], Validation Acc: 67.4, Traning Acc: 81.274\n",
      "Epoch: [6/10], Step: [1401/1563], Validation Acc: 67.1, Traning Acc: 82.666\n",
      "Epoch 6 Finished! Val Loss: 0.852835726737976, Train Loss: 0.540214013786316\n",
      "Epoch: [7/10], Step: [701/1563], Validation Acc: 65.9, Traning Acc: 84.595\n",
      "Epoch: [7/10], Step: [1401/1563], Validation Acc: 68.4, Traning Acc: 85.564\n",
      "Epoch 7 Finished! Val Loss: 0.862117169380188, Train Loss: 0.4860561004447937\n",
      "Epoch: [8/10], Step: [701/1563], Validation Acc: 66.4, Traning Acc: 86.142\n",
      "Epoch: [8/10], Step: [1401/1563], Validation Acc: 66.3, Traning Acc: 87.382\n",
      "Epoch 8 Finished! Val Loss: 0.9452709016799927, Train Loss: 0.42729065793037413\n",
      "Epoch: [9/10], Step: [701/1563], Validation Acc: 65.5, Traning Acc: 88.9\n",
      "Epoch: [9/10], Step: [1401/1563], Validation Acc: 67.4, Traning Acc: 90.125\n",
      "Epoch 9 Finished! Val Loss: 1.064925227165222, Train Loss: 0.3732498675632477\n",
      "Epoch: [10/10], Step: [701/1563], Validation Acc: 65.2, Traning Acc: 90.656\n",
      "Epoch: [10/10], Step: [1401/1563], Validation Acc: 67.4, Traning Acc: 91.115\n",
      "Epoch 10 Finished! Val Loss: 1.1466961870193482, Train Loss: 0.32397474411964416\n",
      "Epoch: [1/10], Step: [701/1563], Validation Acc: 61.8, Traning Acc: 63.756\n",
      "Epoch: [1/10], Step: [1401/1563], Validation Acc: 63.4, Traning Acc: 67.31\n",
      "Epoch 1 Finished! Val Loss: 0.7920774841308593, Train Loss: 0.8449218148040771\n",
      "Epoch: [2/10], Step: [701/1563], Validation Acc: 65.4, Traning Acc: 69.561\n",
      "Epoch: [2/10], Step: [1401/1563], Validation Acc: 68.9, Traning Acc: 72.084\n",
      "Epoch 2 Finished! Val Loss: 0.7445456113815307, Train Loss: 0.7372643768501281\n",
      "Epoch: [3/10], Step: [701/1563], Validation Acc: 67.1, Traning Acc: 73.889\n",
      "Epoch: [3/10], Step: [1401/1563], Validation Acc: 66.3, Traning Acc: 73.851\n",
      "Epoch 3 Finished! Val Loss: 0.7473071846961975, Train Loss: 0.6705623644447327\n",
      "Epoch: [4/10], Step: [701/1563], Validation Acc: 69.3, Traning Acc: 77.742\n",
      "Epoch: [4/10], Step: [1401/1563], Validation Acc: 68.8, Traning Acc: 79.002\n",
      "Epoch 4 Finished! Val Loss: 0.7211619844436645, Train Loss: 0.6076144427299499\n",
      "Epoch: [5/10], Step: [701/1563], Validation Acc: 68.0, Traning Acc: 81.213\n",
      "Epoch: [5/10], Step: [1401/1563], Validation Acc: 69.0, Traning Acc: 82.842\n",
      "Epoch 5 Finished! Val Loss: 0.7878474164009094, Train Loss: 0.545132689447403\n",
      "Epoch: [6/10], Step: [701/1563], Validation Acc: 68.7, Traning Acc: 83.781\n",
      "Epoch: [6/10], Step: [1401/1563], Validation Acc: 68.4, Traning Acc: 85.955\n",
      "Epoch 6 Finished! Val Loss: 0.8111195840835571, Train Loss: 0.4794567366409302\n",
      "Epoch: [7/10], Step: [701/1563], Validation Acc: 68.6, Traning Acc: 87.366\n",
      "Epoch: [7/10], Step: [1401/1563], Validation Acc: 67.8, Traning Acc: 88.931\n",
      "Epoch 7 Finished! Val Loss: 0.9176767282485961, Train Loss: 0.4101596979236603\n",
      "Epoch: [8/10], Step: [701/1563], Validation Acc: 68.0, Traning Acc: 90.366\n",
      "Epoch: [8/10], Step: [1401/1563], Validation Acc: 68.4, Traning Acc: 91.535\n",
      "Epoch 8 Finished! Val Loss: 0.9627885360717774, Train Loss: 0.3401437617397308\n",
      "Epoch: [9/10], Step: [701/1563], Validation Acc: 66.3, Traning Acc: 92.391\n",
      "Epoch: [9/10], Step: [1401/1563], Validation Acc: 69.6, Traning Acc: 92.626\n",
      "Epoch 9 Finished! Val Loss: 1.0812717018127442, Train Loss: 0.28114752599716186\n",
      "Epoch: [10/10], Step: [701/1563], Validation Acc: 68.0, Traning Acc: 93.714\n",
      "Epoch: [10/10], Step: [1401/1563], Validation Acc: 67.2, Traning Acc: 94.408\n",
      "Epoch 10 Finished! Val Loss: 1.2783421211242676, Train Loss: 0.23125654012680052\n",
      "Epoch: [1/10], Step: [701/1563], Validation Acc: 61.2, Traning Acc: 63.387\n",
      "Epoch: [1/10], Step: [1401/1563], Validation Acc: 63.2, Traning Acc: 65.677\n",
      "Epoch 1 Finished! Val Loss: 0.7984705758094788, Train Loss: 0.8550993712615966\n",
      "Epoch: [2/10], Step: [701/1563], Validation Acc: 66.0, Traning Acc: 69.267\n",
      "Epoch: [2/10], Step: [1401/1563], Validation Acc: 67.2, Traning Acc: 71.078\n",
      "Epoch 2 Finished! Val Loss: 0.7631990418434144, Train Loss: 0.7404419756889343\n",
      "Epoch: [3/10], Step: [701/1563], Validation Acc: 67.4, Traning Acc: 73.697\n",
      "Epoch: [3/10], Step: [1401/1563], Validation Acc: 67.3, Traning Acc: 74.854\n",
      "Epoch 3 Finished! Val Loss: 0.7464571695327759, Train Loss: 0.6765009315872192\n",
      "Epoch: [4/10], Step: [701/1563], Validation Acc: 68.6, Traning Acc: 77.092\n",
      "Epoch: [4/10], Step: [1401/1563], Validation Acc: 68.2, Traning Acc: 78.485\n",
      "Epoch 4 Finished! Val Loss: 0.76398473072052, Train Loss: 0.6164492347335816\n",
      "Epoch: [5/10], Step: [701/1563], Validation Acc: 67.6, Traning Acc: 80.835\n",
      "Epoch: [5/10], Step: [1401/1563], Validation Acc: 69.0, Traning Acc: 82.419\n",
      "Epoch 5 Finished! Val Loss: 0.7517925615310669, Train Loss: 0.5536279397201538\n",
      "Epoch: [6/10], Step: [701/1563], Validation Acc: 68.5, Traning Acc: 84.208\n",
      "Epoch: [6/10], Step: [1401/1563], Validation Acc: 69.3, Traning Acc: 85.434\n"
     ]
    },
    {
     "name": "stdout",
     "output_type": "stream",
     "text": [
      "Epoch 6 Finished! Val Loss: 0.83197625374794, Train Loss: 0.4867725076580048\n",
      "Epoch: [7/10], Step: [701/1563], Validation Acc: 67.3, Traning Acc: 87.267\n",
      "Epoch: [7/10], Step: [1401/1563], Validation Acc: 69.2, Traning Acc: 88.847\n",
      "Epoch 7 Finished! Val Loss: 0.8871332902908325, Train Loss: 0.4136151057910919\n",
      "Epoch: [8/10], Step: [701/1563], Validation Acc: 68.2, Traning Acc: 89.511\n",
      "Epoch: [8/10], Step: [1401/1563], Validation Acc: 69.1, Traning Acc: 90.605\n",
      "Epoch 8 Finished! Val Loss: 0.9759979047775269, Train Loss: 0.34352691511154176\n",
      "Epoch: [9/10], Step: [701/1563], Validation Acc: 67.3, Traning Acc: 92.527\n",
      "Epoch: [9/10], Step: [1401/1563], Validation Acc: 68.8, Traning Acc: 92.666\n",
      "Epoch 9 Finished! Val Loss: 1.0759960374832154, Train Loss: 0.2783907768154144\n",
      "Epoch: [10/10], Step: [701/1563], Validation Acc: 66.8, Traning Acc: 93.634\n",
      "Epoch: [10/10], Step: [1401/1563], Validation Acc: 67.4, Traning Acc: 94.759\n",
      "Epoch 10 Finished! Val Loss: 1.2275846710205078, Train Loss: 0.22634434162139894\n"
     ]
    }
   ],
   "source": [
    "#parameters\n",
    "kernel_size = 3\n",
    "learning_rate = 5e-4\n",
    "interm_size = 100\n",
    "num_epochs = 10\n",
    "\n",
    "val_acc_records_hidsize_cnn_2 = {}\n",
    "train_acc_records_hidsize_cnn_2 = {}\n",
    "val_loss_records_hidsize_cnn_2 = {}\n",
    "train_loss_records_hidsize_cnn_2 = {}\n",
    "num_params_records_hidsize_cnn_2 = {}\n",
    "for hidden_size in [100,200,300,400]:\n",
    "    val_acc_records_hidsize_cnn_2[hidden_size],train_acc_records_hidsize_cnn_2[hidden_size],val_loss_records_hidsize_cnn_2[hidden_size],\\\n",
    "    train_loss_records_hidsize_cnn_2[hidden_size],num_params_records_hidsize_cnn_2[hidden_size], \\\n",
    "        = CNN_Tuning(train_sentence,train_label, val_sentence, val_label,words, loaded_embeddings, hidden_size, interm_size,kernel_size)"
   ]
  },
  {
   "cell_type": "code",
   "execution_count": 22,
   "metadata": {},
   "outputs": [
    {
     "data": {
      "image/png": "[encoded data removed]",
      "text/plain": [
       "<Figure size 720x576 with 4 Axes>"
      ]
     },
     "metadata": {
      "needs_background": "light"
     },
     "output_type": "display_data"
    }
   ],
   "source": [
    "plot_result(train_loss_records_hidsize_cnn_2, val_loss_records_hidsize_cnn_2, val_acc_records_hidsize_cnn_2,num_params_records_hidsize_cnn_2,\\\n",
    "            [\"Hidden Size = 100\", \"Hidden Size =200\", \"Hidden Size = 300\",\"Hidden Size = 400\"],[100,200,300,400],\\\n",
    "            'CNN with Different Hidden Sizes',10)"
   ]
  },
  {
   "cell_type": "code",
   "execution_count": 21,
   "metadata": {},
   "outputs": [
    {
     "name": "stdout",
     "output_type": "stream",
     "text": [
      "100 68.4\n",
      "200 68.7\n",
      "300 70.2\n",
      "400 70.0\n"
     ]
    }
   ],
   "source": [
    "for key,item in val_acc_records_hidsize_cnn_2.items():\n",
    "    print(key,max(item))"
   ]
  },
  {
   "cell_type": "markdown",
   "metadata": {},
   "source": [
    "Hidden size = 300 is best here."
   ]
  },
  {
   "cell_type": "markdown",
   "metadata": {},
   "source": [
    "### Different Ways of Interacting the Two Encoded Sentences"
   ]
  },
  {
   "cell_type": "code",
   "execution_count": 33,
   "metadata": {},
   "outputs": [],
   "source": [
    "#parameters\n",
    "hidden_size = 300\n",
    "interm_size = 100\n",
    "kernel_size = 3\n",
    "learning_rate = 5e-4\n",
    "num_epochs = 10 # number epoch to train"
   ]
  },
  {
   "cell_type": "code",
   "execution_count": 34,
   "metadata": {
    "scrolled": true
   },
   "outputs": [
    {
     "name": "stdout",
     "output_type": "stream",
     "text": [
      "Epoch: [1/10], Step: [701/1563], Validation Acc: 61.7, Traning Acc: 62.803\n",
      "Epoch: [1/10], Step: [1401/1563], Validation Acc: 63.8, Traning Acc: 66.237\n",
      "Epoch 1 Finished! Val Loss: 0.7917230710983276, Train Loss: 0.8522055942726136\n",
      "Epoch: [2/10], Step: [701/1563], Validation Acc: 65.0, Traning Acc: 69.009\n",
      "Epoch: [2/10], Step: [1401/1563], Validation Acc: 66.0, Traning Acc: 71.087\n",
      "Epoch 2 Finished! Val Loss: 0.7566755247116089, Train Loss: 0.7432971176528931\n",
      "Epoch: [3/10], Step: [701/1563], Validation Acc: 64.9, Traning Acc: 72.832\n",
      "Epoch: [3/10], Step: [1401/1563], Validation Acc: 69.1, Traning Acc: 75.459\n",
      "Epoch 3 Finished! Val Loss: 0.75173725938797, Train Loss: 0.6797366572761535\n",
      "Epoch: [4/10], Step: [701/1563], Validation Acc: 66.9, Traning Acc: 76.948\n",
      "Epoch: [4/10], Step: [1401/1563], Validation Acc: 69.2, Traning Acc: 78.462\n",
      "Epoch 4 Finished! Val Loss: 0.7404318571090698, Train Loss: 0.616493646030426\n",
      "Epoch: [5/10], Step: [701/1563], Validation Acc: 68.9, Traning Acc: 80.867\n",
      "Epoch: [5/10], Step: [1401/1563], Validation Acc: 70.2, Traning Acc: 82.543\n",
      "Epoch 5 Finished! Val Loss: 0.7738723530769348, Train Loss: 0.550904370098114\n",
      "Epoch: [6/10], Step: [701/1563], Validation Acc: 68.2, Traning Acc: 84.696\n",
      "Epoch: [6/10], Step: [1401/1563], Validation Acc: 69.5, Traning Acc: 85.023\n",
      "Epoch 6 Finished! Val Loss: 0.8105582647323608, Train Loss: 0.48113166089057924\n",
      "Epoch: [7/10], Step: [701/1563], Validation Acc: 68.7, Traning Acc: 87.614\n",
      "Epoch: [7/10], Step: [1401/1563], Validation Acc: 69.6, Traning Acc: 88.175\n",
      "Epoch 7 Finished! Val Loss: 0.8725909032821655, Train Loss: 0.410638003911972\n",
      "Epoch: [8/10], Step: [701/1563], Validation Acc: 68.1, Traning Acc: 89.932\n",
      "Epoch: [8/10], Step: [1401/1563], Validation Acc: 67.7, Traning Acc: 91.177\n",
      "Epoch 8 Finished! Val Loss: 0.9799709792137146, Train Loss: 0.3404425107288361\n",
      "Epoch: [9/10], Step: [701/1563], Validation Acc: 67.5, Traning Acc: 91.232\n",
      "Epoch: [9/10], Step: [1401/1563], Validation Acc: 66.7, Traning Acc: 92.72\n",
      "Epoch 9 Finished! Val Loss: 1.071476010322571, Train Loss: 0.280403647942543\n",
      "Epoch: [10/10], Step: [701/1563], Validation Acc: 66.8, Traning Acc: 94.001\n",
      "Epoch: [10/10], Step: [1401/1563], Validation Acc: 68.7, Traning Acc: 94.801\n",
      "Epoch 10 Finished! Val Loss: 1.2058399543762206, Train Loss: 0.2290069524860382\n",
      "Epoch: [1/10], Step: [701/1563], Validation Acc: 56.3, Traning Acc: 56.878\n",
      "Epoch: [1/10], Step: [1401/1563], Validation Acc: 59.5, Traning Acc: 60.882\n",
      "Epoch 1 Finished! Val Loss: 0.8597881894111633, Train Loss: 0.9434180640983582\n",
      "Epoch: [2/10], Step: [701/1563], Validation Acc: 62.3, Traning Acc: 64.782\n",
      "Epoch: [2/10], Step: [1401/1563], Validation Acc: 62.1, Traning Acc: 66.453\n",
      "Epoch 2 Finished! Val Loss: 0.7999319124221802, Train Loss: 0.8160809181976318\n",
      "Epoch: [3/10], Step: [701/1563], Validation Acc: 65.8, Traning Acc: 69.619\n",
      "Epoch: [3/10], Step: [1401/1563], Validation Acc: 65.7, Traning Acc: 71.308\n",
      "Epoch 3 Finished! Val Loss: 0.7620621600151062, Train Loss: 0.7495642993164062\n",
      "Epoch: [4/10], Step: [701/1563], Validation Acc: 66.0, Traning Acc: 73.489\n",
      "Epoch: [4/10], Step: [1401/1563], Validation Acc: 67.1, Traning Acc: 74.121\n",
      "Epoch 4 Finished! Val Loss: 0.7643299403190613, Train Loss: 0.6850683930969238\n",
      "Epoch: [5/10], Step: [701/1563], Validation Acc: 64.2, Traning Acc: 76.993\n",
      "Epoch: [5/10], Step: [1401/1563], Validation Acc: 67.8, Traning Acc: 78.93\n",
      "Epoch 5 Finished! Val Loss: 0.7806365728378296, Train Loss: 0.6208723170089722\n",
      "Epoch: [6/10], Step: [701/1563], Validation Acc: 68.6, Traning Acc: 80.743\n",
      "Epoch: [6/10], Step: [1401/1563], Validation Acc: 67.3, Traning Acc: 83.062\n",
      "Epoch 6 Finished! Val Loss: 0.84558500623703, Train Loss: 0.5526052343177795\n",
      "Epoch: [7/10], Step: [701/1563], Validation Acc: 64.5, Traning Acc: 83.936\n",
      "Epoch: [7/10], Step: [1401/1563], Validation Acc: 68.8, Traning Acc: 86.223\n",
      "Epoch 7 Finished! Val Loss: 0.8682240285873413, Train Loss: 0.4823328131389618\n",
      "Epoch: [8/10], Step: [701/1563], Validation Acc: 65.9, Traning Acc: 87.322\n",
      "Epoch: [8/10], Step: [1401/1563], Validation Acc: 65.7, Traning Acc: 83.307\n",
      "Epoch 8 Finished! Val Loss: 0.9281975355148315, Train Loss: 0.41800032536506654\n",
      "Epoch: [9/10], Step: [701/1563], Validation Acc: 67.0, Traning Acc: 89.645\n",
      "Epoch: [9/10], Step: [1401/1563], Validation Acc: 65.5, Traning Acc: 90.634\n",
      "Epoch 9 Finished! Val Loss: 0.9916495962142944, Train Loss: 0.355579407119751\n",
      "Epoch: [10/10], Step: [701/1563], Validation Acc: 65.6, Traning Acc: 90.381\n",
      "Epoch: [10/10], Step: [1401/1563], Validation Acc: 64.6, Traning Acc: 92.239\n",
      "Epoch 10 Finished! Val Loss: 1.0700591859817505, Train Loss: 0.303349671087265\n"
     ]
    }
   ],
   "source": [
    "val_acc_records_interact_cnn = {}\n",
    "train_acc_records_interact_cnn = {}\n",
    "val_loss_records_interact_cnn = {}\n",
    "train_loss_records_interact_cnn = {}\n",
    "num_params_records_interact_cnn = {}\n",
    "for interact in['concat','mul']:\n",
    "    val_acc_records_interact_cnn[interact],train_acc_records_interact_cnn[interact],val_loss_records_interact_cnn[interact],train_loss_records_interact_cnn[interact],num_params_records_interact_cnn[interact] \\\n",
    "        = CNN_Tuning(train_sentence,train_label, val_sentence, val_label,words, loaded_embeddings, hidden_size, interm_size,kernel_size, interact=interact)"
   ]
  },
  {
   "cell_type": "code",
   "execution_count": 35,
   "metadata": {},
   "outputs": [],
   "source": [
    "def plot_result(train_loss, val_loss, val_acc, num_params, title_list,key_list, main, epoches_num):\n",
    "    \"\"\"\n",
    "    Plot the results. All input data with dim [# of subplots, # of epoches]\n",
    "    \"\"\"\n",
    "    subplot_num = len(title_list)\n",
    "    fig, axes = plt.subplots((subplot_num + 1)//2 , 2, sharex= \"col\", sharey='row', figsize = (10,subplot_num * 2))\n",
    "    epoches = np.arange(epoches_num) + 1\n",
    "    val_acc_2 = {}\n",
    "    for i in range(subplot_num):\n",
    "        val_acc_2[key_list[i]] = [j/100 for j in val_acc[key_list[i]]]\n",
    "        axes[i%2].plot(epoches,train_loss[key_list[i]], label = \"Training Loss\")\n",
    "        axes[i%2].plot(epoches, val_loss[key_list[i]], label = \"Validation Loss\")\n",
    "        axes[i%2].plot(epoches, val_acc_2[key_list[i]], label = \"Validation Accuracy\")\n",
    "        axes[i%2].set_ylim([0.3,1.0])\n",
    "        axes[i%2].text(1.0,0.92,\"# params: \" + str(num_params[key_list[i]]))\n",
    "        \n",
    "        axes[i%2].set_title(title_list[i])\n",
    "    plt.legend()\n",
    "    plt.suptitle(main)\n",
    "    plt.show()"
   ]
  },
  {
   "cell_type": "code",
   "execution_count": 36,
   "metadata": {
    "scrolled": true
   },
   "outputs": [
    {
     "data": {
      "image/png": "[encoded data removed]",
      "text/plain": [
       "<Figure size 720x288 with 2 Axes>"
      ]
     },
     "metadata": {
      "needs_background": "light"
     },
     "output_type": "display_data"
    }
   ],
   "source": [
    "plot_result(train_loss_records_interact_cnn, val_loss_records_interact_cnn, val_acc_records_interact_cnn,num_params_records_interact_cnn,\\\n",
    "            [\"Concatenation\", \"Element-Wise Multiplication\"],['concat','mul'],\\\n",
    "            'CNN with Different Ways of Interacting the Two Encoded Sentences',10)"
   ]
  },
  {
   "cell_type": "code",
   "execution_count": 37,
   "metadata": {},
   "outputs": [
    {
     "name": "stdout",
     "output_type": "stream",
     "text": [
      "concat 70.5\n",
      "mul 68.7\n"
     ]
    }
   ],
   "source": [
    "for key,item in val_acc_records_interact_cnn.items():\n",
    "    print(key,max(item))"
   ]
  },
  {
   "cell_type": "markdown",
   "metadata": {},
   "source": [
    "Concatenation is better here."
   ]
  },
  {
   "cell_type": "markdown",
   "metadata": {},
   "source": [
    "### Kernel Size"
   ]
  },
  {
   "cell_type": "code",
   "execution_count": 38,
   "metadata": {},
   "outputs": [],
   "source": [
    "#parameters\n",
    "hidden_size = 300\n",
    "interm_size = 100\n",
    "learning_rate = 5e-4\n",
    "num_epochs = 10 # number epoch to train"
   ]
  },
  {
   "cell_type": "code",
   "execution_count": 49,
   "metadata": {},
   "outputs": [
    {
     "name": "stdout",
     "output_type": "stream",
     "text": [
      "Epoch: [1/10], Step: [701/1563], Validation Acc: 60.3, Traning Acc: 62.57\n",
      "Epoch: [1/10], Step: [1401/1563], Validation Acc: 64.6, Traning Acc: 65.632\n",
      "Epoch 1 Finished! Val Loss: 0.7996895146369934, Train Loss: 0.8606171748161316\n",
      "Epoch: [2/10], Step: [701/1563], Validation Acc: 67.1, Traning Acc: 67.566\n",
      "Epoch: [2/10], Step: [1401/1563], Validation Acc: 66.8, Traning Acc: 68.373\n",
      "Epoch 2 Finished! Val Loss: 0.7659225120544434, Train Loss: 0.7661137701034546\n",
      "Epoch: [3/10], Step: [701/1563], Validation Acc: 67.2, Traning Acc: 69.045\n",
      "Epoch: [3/10], Step: [1401/1563], Validation Acc: 69.1, Traning Acc: 70.233\n",
      "Epoch 3 Finished! Val Loss: 0.7371503639221192, Train Loss: 0.7288671725654602\n",
      "Epoch: [4/10], Step: [701/1563], Validation Acc: 70.1, Traning Acc: 71.545\n",
      "Epoch: [4/10], Step: [1401/1563], Validation Acc: 70.4, Traning Acc: 73.03\n",
      "Epoch 4 Finished! Val Loss: 0.7136887850761413, Train Loss: 0.6902398489189148\n",
      "Epoch: [5/10], Step: [701/1563], Validation Acc: 70.8, Traning Acc: 73.87\n",
      "Epoch: [5/10], Step: [1401/1563], Validation Acc: 70.7, Traning Acc: 74.481\n",
      "Epoch 5 Finished! Val Loss: 0.7096061139106751, Train Loss: 0.6569050505638122\n",
      "Epoch: [6/10], Step: [701/1563], Validation Acc: 71.6, Traning Acc: 75.376\n",
      "Epoch: [6/10], Step: [1401/1563], Validation Acc: 71.1, Traning Acc: 74.888\n",
      "Epoch 6 Finished! Val Loss: 0.727543755531311, Train Loss: 0.6311107759189606\n",
      "Epoch: [7/10], Step: [701/1563], Validation Acc: 72.0, Traning Acc: 76.514\n",
      "Epoch: [7/10], Step: [1401/1563], Validation Acc: 72.1, Traning Acc: 76.844\n",
      "Epoch 7 Finished! Val Loss: 0.7076224827766419, Train Loss: 0.6074011268043518\n",
      "Epoch: [8/10], Step: [701/1563], Validation Acc: 71.7, Traning Acc: 77.564\n",
      "Epoch: [8/10], Step: [1401/1563], Validation Acc: 71.8, Traning Acc: 78.122\n",
      "Epoch 8 Finished! Val Loss: 0.6960222253799438, Train Loss: 0.5855502656078339\n",
      "Epoch: [9/10], Step: [701/1563], Validation Acc: 70.6, Traning Acc: 78.334\n",
      "Epoch: [9/10], Step: [1401/1563], Validation Acc: 72.3, Traning Acc: 79.472\n",
      "Epoch 9 Finished! Val Loss: 0.7004820990562439, Train Loss: 0.5633949710083008\n",
      "Epoch: [10/10], Step: [701/1563], Validation Acc: 72.7, Traning Acc: 80.007\n",
      "Epoch: [10/10], Step: [1401/1563], Validation Acc: 71.2, Traning Acc: 79.373\n",
      "Epoch 10 Finished! Val Loss: 0.740695463180542, Train Loss: 0.541993929347992\n",
      "Epoch: [1/10], Step: [701/1563], Validation Acc: 60.1, Traning Acc: 62.77\n",
      "Epoch: [1/10], Step: [1401/1563], Validation Acc: 64.2, Traning Acc: 65.501\n",
      "Epoch 1 Finished! Val Loss: 0.7954920587539673, Train Loss: 0.8621325043869018\n",
      "Epoch: [2/10], Step: [701/1563], Validation Acc: 65.2, Traning Acc: 68.222\n",
      "Epoch: [2/10], Step: [1401/1563], Validation Acc: 66.2, Traning Acc: 70.27\n",
      "Epoch 2 Finished! Val Loss: 0.7758340001106262, Train Loss: 0.7576136093902588\n",
      "Epoch: [3/10], Step: [701/1563], Validation Acc: 67.1, Traning Acc: 72.851\n",
      "Epoch: [3/10], Step: [1401/1563], Validation Acc: 66.6, Traning Acc: 74.391\n",
      "Epoch 3 Finished! Val Loss: 0.7689305348396301, Train Loss: 0.6901617613983154\n",
      "Epoch: [4/10], Step: [701/1563], Validation Acc: 66.4, Traning Acc: 76.305\n",
      "Epoch: [4/10], Step: [1401/1563], Validation Acc: 66.7, Traning Acc: 77.895\n",
      "Epoch 4 Finished! Val Loss: 0.7641464619636535, Train Loss: 0.6319381631660461\n",
      "Epoch: [5/10], Step: [701/1563], Validation Acc: 66.8, Traning Acc: 80.111\n",
      "Epoch: [5/10], Step: [1401/1563], Validation Acc: 69.3, Traning Acc: 81.864\n",
      "Epoch 5 Finished! Val Loss: 0.7710350513458252, Train Loss: 0.5688620581817627\n",
      "Epoch: [6/10], Step: [701/1563], Validation Acc: 67.5, Traning Acc: 83.685\n",
      "Epoch: [6/10], Step: [1401/1563], Validation Acc: 67.0, Traning Acc: 84.458\n",
      "Epoch 6 Finished! Val Loss: 0.8364709997177124, Train Loss: 0.5002560250854492\n",
      "Epoch: [7/10], Step: [701/1563], Validation Acc: 66.5, Traning Acc: 87.024\n",
      "Epoch: [7/10], Step: [1401/1563], Validation Acc: 65.3, Traning Acc: 87.455\n",
      "Epoch 7 Finished! Val Loss: 0.8764796266555787, Train Loss: 0.42782197529792787\n",
      "Epoch: [8/10], Step: [701/1563], Validation Acc: 67.0, Traning Acc: 89.909\n",
      "Epoch: [8/10], Step: [1401/1563], Validation Acc: 66.3, Traning Acc: 90.792\n",
      "Epoch 8 Finished! Val Loss: 1.012152916431427, Train Loss: 0.35960396216392515\n",
      "Epoch: [9/10], Step: [701/1563], Validation Acc: 66.3, Traning Acc: 92.306\n",
      "Epoch: [9/10], Step: [1401/1563], Validation Acc: 66.6, Traning Acc: 92.425\n",
      "Epoch 9 Finished! Val Loss: 1.1265589971542358, Train Loss: 0.2945077561330795\n",
      "Epoch: [10/10], Step: [701/1563], Validation Acc: 65.8, Traning Acc: 92.157\n",
      "Epoch: [10/10], Step: [1401/1563], Validation Acc: 65.2, Traning Acc: 94.415\n",
      "Epoch 10 Finished! Val Loss: 1.2479511194229127, Train Loss: 0.24068497905492783\n",
      "Epoch: [1/10], Step: [701/1563], Validation Acc: 61.4, Traning Acc: 62.684\n",
      "Epoch: [1/10], Step: [1401/1563], Validation Acc: 62.7, Traning Acc: 65.557\n",
      "Epoch 1 Finished! Val Loss: 0.8011236214637756, Train Loss: 0.8527245258903503\n",
      "Epoch: [2/10], Step: [701/1563], Validation Acc: 65.6, Traning Acc: 69.484\n",
      "Epoch: [2/10], Step: [1401/1563], Validation Acc: 65.5, Traning Acc: 71.25\n",
      "Epoch 2 Finished! Val Loss: 0.7456262311935424, Train Loss: 0.7455166860961914\n",
      "Epoch: [3/10], Step: [701/1563], Validation Acc: 67.3, Traning Acc: 74.894\n",
      "Epoch: [3/10], Step: [1401/1563], Validation Acc: 66.7, Traning Acc: 76.351\n",
      "Epoch 3 Finished! Val Loss: 0.7438146681785583, Train Loss: 0.6691241926574707\n",
      "Epoch: [4/10], Step: [701/1563], Validation Acc: 65.5, Traning Acc: 80.085\n",
      "Epoch: [4/10], Step: [1401/1563], Validation Acc: 68.3, Traning Acc: 81.693\n",
      "Epoch 4 Finished! Val Loss: 0.7641688132286072, Train Loss: 0.5889888184738159\n",
      "Epoch: [5/10], Step: [701/1563], Validation Acc: 68.3, Traning Acc: 84.274\n",
      "Epoch: [5/10], Step: [1401/1563], Validation Acc: 66.7, Traning Acc: 86.378\n",
      "Epoch 5 Finished! Val Loss: 0.8322290897369384, Train Loss: 0.49501510827064515\n",
      "Epoch: [6/10], Step: [701/1563], Validation Acc: 66.3, Traning Acc: 88.42\n",
      "Epoch: [6/10], Step: [1401/1563], Validation Acc: 67.2, Traning Acc: 90.286\n",
      "Epoch 6 Finished! Val Loss: 0.9183507962226868, Train Loss: 0.3951621841621399\n",
      "Epoch: [7/10], Step: [701/1563], Validation Acc: 65.5, Traning Acc: 91.968\n",
      "Epoch: [7/10], Step: [1401/1563], Validation Acc: 66.6, Traning Acc: 93.233\n",
      "Epoch 7 Finished! Val Loss: 1.1173645877838134, Train Loss: 0.30122228055000305\n",
      "Epoch: [8/10], Step: [701/1563], Validation Acc: 65.3, Traning Acc: 94.025\n",
      "Epoch: [8/10], Step: [1401/1563], Validation Acc: 64.7, Traning Acc: 95.028\n",
      "Epoch 8 Finished! Val Loss: 1.2594112496376038, Train Loss: 0.224317615070343\n",
      "Epoch: [9/10], Step: [701/1563], Validation Acc: 65.3, Traning Acc: 95.668\n",
      "Epoch: [9/10], Step: [1401/1563], Validation Acc: 63.1, Traning Acc: 96.318\n",
      "Epoch 9 Finished! Val Loss: 1.4617587099075318, Train Loss: 0.17419167524576187\n",
      "Epoch: [10/10], Step: [701/1563], Validation Acc: 65.5, Traning Acc: 96.572\n",
      "Epoch: [10/10], Step: [1401/1563], Validation Acc: 63.8, Traning Acc: 95.904\n",
      "Epoch 10 Finished! Val Loss: 1.5646564984321594, Train Loss: 0.14119108811616898\n",
      "Epoch: [1/10], Step: [701/1563], Validation Acc: 60.0, Traning Acc: 62.32\n",
      "Epoch: [1/10], Step: [1401/1563], Validation Acc: 62.4, Traning Acc: 65.644\n",
      "Epoch 1 Finished! Val Loss: 0.805711540222168, Train Loss: 0.8588944193267822\n",
      "Epoch: [2/10], Step: [701/1563], Validation Acc: 65.0, Traning Acc: 69.221\n",
      "Epoch: [2/10], Step: [1401/1563], Validation Acc: 67.7, Traning Acc: 71.625\n",
      "Epoch 2 Finished! Val Loss: 0.7702629861831665, Train Loss: 0.7472991744232178\n",
      "Epoch: [3/10], Step: [701/1563], Validation Acc: 65.9, Traning Acc: 75.337\n",
      "Epoch: [3/10], Step: [1401/1563], Validation Acc: 67.4, Traning Acc: 77.33\n",
      "Epoch 3 Finished! Val Loss: 0.7537500257492066, Train Loss: 0.6654665349769592\n",
      "Epoch: [4/10], Step: [701/1563], Validation Acc: 66.6, Traning Acc: 79.767\n",
      "Epoch: [4/10], Step: [1401/1563], Validation Acc: 67.2, Traning Acc: 82.944\n",
      "Epoch 4 Finished! Val Loss: 0.7820445485115052, Train Loss: 0.5742033513069152\n",
      "Epoch: [5/10], Step: [701/1563], Validation Acc: 65.8, Traning Acc: 85.743\n",
      "Epoch: [5/10], Step: [1401/1563], Validation Acc: 65.8, Traning Acc: 87.602\n",
      "Epoch 5 Finished! Val Loss: 0.8863458480834961, Train Loss: 0.4694166648387909\n",
      "Epoch: [6/10], Step: [701/1563], Validation Acc: 66.7, Traning Acc: 89.867\n",
      "Epoch: [6/10], Step: [1401/1563], Validation Acc: 66.7, Traning Acc: 91.298\n"
     ]
    },
    {
     "name": "stdout",
     "output_type": "stream",
     "text": [
      "Epoch 6 Finished! Val Loss: 1.0293829183578491, Train Loss: 0.35699151639938353\n",
      "Epoch: [7/10], Step: [701/1563], Validation Acc: 65.2, Traning Acc: 92.993\n",
      "Epoch: [7/10], Step: [1401/1563], Validation Acc: 65.7, Traning Acc: 93.084\n",
      "Epoch 7 Finished! Val Loss: 1.1524769916534423, Train Loss: 0.2634065943670273\n",
      "Epoch: [8/10], Step: [701/1563], Validation Acc: 64.7, Traning Acc: 94.718\n",
      "Epoch: [8/10], Step: [1401/1563], Validation Acc: 64.9, Traning Acc: 95.771\n",
      "Epoch 8 Finished! Val Loss: 1.3329019794464112, Train Loss: 0.19476245630979538\n",
      "Epoch: [9/10], Step: [701/1563], Validation Acc: 65.0, Traning Acc: 95.148\n",
      "Epoch: [9/10], Step: [1401/1563], Validation Acc: 64.3, Traning Acc: 96.76\n",
      "Epoch 9 Finished! Val Loss: 1.6675626029968262, Train Loss: 0.15155346527099609\n",
      "Epoch: [10/10], Step: [701/1563], Validation Acc: 64.7, Traning Acc: 96.851\n",
      "Epoch: [10/10], Step: [1401/1563], Validation Acc: 62.9, Traning Acc: 96.981\n",
      "Epoch 10 Finished! Val Loss: 1.8003356924057008, Train Loss: 0.12425555516958237\n"
     ]
    }
   ],
   "source": [
    "val_acc_records_kernel = {}\n",
    "train_acc_records_kernel = {}\n",
    "val_loss_records_kernel = {}\n",
    "train_loss_records_kernel = {}\n",
    "num_params_records_kernel = {}\n",
    "for kernel_size in[1,3,5,7]:\n",
    "    val_acc_records_kernel[kernel_size],train_acc_records_kernel[kernel_size],val_loss_records_kernel[kernel_size],train_loss_records_kernel[kernel_size],num_params_records_kernel[kernel_size] \\\n",
    "        = CNN_Tuning(train_sentence,train_label, val_sentence, val_label,words, loaded_embeddings, hidden_size, interm_size,kernel_size)"
   ]
  },
  {
   "cell_type": "code",
   "execution_count": 50,
   "metadata": {},
   "outputs": [
    {
     "data": {
      "image/png": "[encoded data removed]",
      "text/plain": [
       "<Figure size 720x576 with 4 Axes>"
      ]
     },
     "metadata": {
      "needs_background": "light"
     },
     "output_type": "display_data"
    }
   ],
   "source": [
    "import matplotlib.pyplot as plt\n",
    "%matplotlib inline\n",
    "def plot_result(train_loss, val_loss, val_acc, num_params, title_list,key_list, main, epoches_num):\n",
    "    \"\"\"\n",
    "    Plot the results. All input data with dim [# of subplots, # of epoches]\n",
    "    \"\"\"\n",
    "    subplot_num = len(title_list)\n",
    "    fig, axes = plt.subplots((subplot_num + 1)//2 , 2, sharex= \"col\", sharey='row', figsize = (10,subplot_num * 2))\n",
    "    epoches = np.arange(epoches_num) + 1\n",
    "    val_acc_2 = {}\n",
    "    for i in range(subplot_num):\n",
    "        val_acc_2[key_list[i]] = [j/100 for j in val_acc[key_list[i]]]\n",
    "        axes[i//2,i%2].plot(epoches,train_loss[key_list[i]], label = \"Training Loss\")\n",
    "        axes[i//2,i%2].plot(epoches, val_loss[key_list[i]], label = \"Validation Loss\")\n",
    "        axes[i//2,i%2].plot(epoches, val_acc_2[key_list[i]], label = \"Validation Accuracy\")\n",
    "        axes[i//2,i%2].set_ylim([0.3,1.0])\n",
    "        axes[i//2,i%2].text(1.0,0.92,\"# params: \" + str(num_params[key_list[i]]))\n",
    "        \n",
    "        axes[i//2,i%2].set_title(title_list[i])\n",
    "    plt.legend()\n",
    "    plt.suptitle(main)\n",
    "    plt.show()\n",
    "    \n",
    "plot_result(train_loss_records_kernel, val_loss_records_kernel, val_acc_records_kernel,num_params_records_kernel,\\\n",
    "            [\"Kernel Size = 1\", \"Kernel Size = 3\", \"Kernel Size = 5\", \"Kernel Size = 7\"],[1,3,5,7],\\\n",
    "            'CNN with Different Kernel Sizes',10)"
   ]
  },
  {
   "cell_type": "code",
   "execution_count": 51,
   "metadata": {},
   "outputs": [
    {
     "name": "stdout",
     "output_type": "stream",
     "text": [
      "1 71.6\n",
      "3 68.2\n",
      "5 69.1\n",
      "7 67.3\n"
     ]
    }
   ],
   "source": [
    "for key,item in val_acc_records_kernel.items():\n",
    "    print(key,max(item))"
   ]
  },
  {
   "cell_type": "markdown",
   "metadata": {},
   "source": [
    "kernal_size = 1 is best here."
   ]
  },
  {
   "cell_type": "markdown",
   "metadata": {},
   "source": [
    "### Regularization"
   ]
  },
  {
   "cell_type": "markdown",
   "metadata": {},
   "source": [
    "Set weight decay to 1e-09 and dropout to 0.5."
   ]
  },
  {
   "cell_type": "code",
   "execution_count": 11,
   "metadata": {
    "scrolled": true
   },
   "outputs": [
    {
     "name": "stdout",
     "output_type": "stream",
     "text": [
      "Epoch: [1/20], Step: [701/1563], Validation Acc: 60.7, Traning Acc: 62.55\n",
      "Epoch: [1/20], Step: [1401/1563], Validation Acc: 64.3, Traning Acc: 65.484\n",
      "Epoch 1 Finished! Val Loss: 0.825653772354126, Train Loss: 0.8614392094993591\n",
      "Epoch: [2/20], Step: [701/1563], Validation Acc: 66.0, Traning Acc: 67.664\n",
      "Epoch: [2/20], Step: [1401/1563], Validation Acc: 66.1, Traning Acc: 68.43\n",
      "Epoch 2 Finished! Val Loss: 0.7662108011245727, Train Loss: 0.7641703957939148\n",
      "Epoch: [3/20], Step: [701/1563], Validation Acc: 68.6, Traning Acc: 69.856\n",
      "Epoch: [3/20], Step: [1401/1563], Validation Acc: 66.8, Traning Acc: 70.863\n",
      "Epoch 3 Finished! Val Loss: 0.7562248182296752, Train Loss: 0.7260768064117432\n",
      "Epoch: [4/20], Step: [701/1563], Validation Acc: 68.5, Traning Acc: 71.422\n",
      "Epoch: [4/20], Step: [1401/1563], Validation Acc: 69.6, Traning Acc: 71.61\n",
      "Epoch 4 Finished! Val Loss: 0.7680636706352234, Train Loss: 0.6946487085151672\n",
      "Epoch: [5/20], Step: [701/1563], Validation Acc: 70.8, Traning Acc: 72.948\n",
      "Epoch: [5/20], Step: [1401/1563], Validation Acc: 70.3, Traning Acc: 73.767\n",
      "Epoch 5 Finished! Val Loss: 0.7333030200004578, Train Loss: 0.6670200352096558\n",
      "Epoch: [6/20], Step: [701/1563], Validation Acc: 69.5, Traning Acc: 74.169\n",
      "Epoch: [6/20], Step: [1401/1563], Validation Acc: 70.8, Traning Acc: 75.089\n",
      "Epoch 6 Finished! Val Loss: 0.7316930117607117, Train Loss: 0.6421704248428345\n",
      "Epoch: [7/20], Step: [701/1563], Validation Acc: 69.7, Traning Acc: 75.508\n",
      "Epoch: [7/20], Step: [1401/1563], Validation Acc: 69.9, Traning Acc: 76.271\n",
      "Epoch 7 Finished! Val Loss: 0.7273812413215637, Train Loss: 0.6185665001296997\n",
      "Epoch: [8/20], Step: [701/1563], Validation Acc: 69.9, Traning Acc: 77.186\n",
      "Epoch: [8/20], Step: [1401/1563], Validation Acc: 71.0, Traning Acc: 76.663\n",
      "Epoch 8 Finished! Val Loss: 0.7096950407028199, Train Loss: 0.5949230748558044\n",
      "Epoch: [9/20], Step: [701/1563], Validation Acc: 70.1, Traning Acc: 77.718\n",
      "Epoch: [9/20], Step: [1401/1563], Validation Acc: 71.0, Traning Acc: 79.062\n",
      "Epoch 9 Finished! Val Loss: 0.7283922801017761, Train Loss: 0.5702979360103607\n",
      "Epoch: [10/20], Step: [701/1563], Validation Acc: 70.3, Traning Acc: 78.908\n",
      "Epoch: [10/20], Step: [1401/1563], Validation Acc: 71.2, Traning Acc: 79.746\n",
      "Epoch 10 Finished! Val Loss: 0.7095672903060913, Train Loss: 0.5482265859127045\n",
      "Epoch: [11/20], Step: [701/1563], Validation Acc: 69.6, Traning Acc: 80.53\n",
      "Epoch: [11/20], Step: [1401/1563], Validation Acc: 71.7, Traning Acc: 80.866\n",
      "Epoch 11 Finished! Val Loss: 0.7314422798156738, Train Loss: 0.5252306621170044\n",
      "Epoch: [12/20], Step: [701/1563], Validation Acc: 70.0, Traning Acc: 81.779\n",
      "Epoch: [12/20], Step: [1401/1563], Validation Acc: 70.8, Traning Acc: 81.505\n",
      "Epoch 12 Finished! Val Loss: 0.7559038472175598, Train Loss: 0.5025475898075104\n",
      "Epoch: [13/20], Step: [701/1563], Validation Acc: 70.8, Traning Acc: 82.201\n",
      "Epoch: [13/20], Step: [1401/1563], Validation Acc: 70.1, Traning Acc: 82.557\n",
      "Epoch 13 Finished! Val Loss: 0.7710131502151489, Train Loss: 0.48268352154731753\n",
      "Epoch: [14/20], Step: [701/1563], Validation Acc: 70.8, Traning Acc: 83.653\n",
      "Epoch: [14/20], Step: [1401/1563], Validation Acc: 69.5, Traning Acc: 84.066\n",
      "Epoch 14 Finished! Val Loss: 0.7496445684432983, Train Loss: 0.46194318018913266\n",
      "Epoch: [15/20], Step: [701/1563], Validation Acc: 70.7, Traning Acc: 84.968\n",
      "Epoch: [15/20], Step: [1401/1563], Validation Acc: 70.1, Traning Acc: 83.357\n",
      "Epoch 15 Finished! Val Loss: 0.7804249095916748, Train Loss: 0.4422859331703186\n",
      "Epoch: [16/20], Step: [701/1563], Validation Acc: 69.4, Traning Acc: 84.748\n",
      "Epoch: [16/20], Step: [1401/1563], Validation Acc: 69.7, Traning Acc: 86.36\n",
      "Epoch 16 Finished! Val Loss: 0.8161013689041138, Train Loss: 0.42299944015502927\n",
      "Epoch: [17/20], Step: [701/1563], Validation Acc: 71.0, Traning Acc: 86.09\n",
      "Epoch: [17/20], Step: [1401/1563], Validation Acc: 70.0, Traning Acc: 87.053\n",
      "Epoch 17 Finished! Val Loss: 0.8512739286422729, Train Loss: 0.402657131729126\n",
      "Epoch: [18/20], Step: [701/1563], Validation Acc: 69.6, Traning Acc: 87.026\n",
      "Epoch: [18/20], Step: [1401/1563], Validation Acc: 69.6, Traning Acc: 87.678\n",
      "Epoch 18 Finished! Val Loss: 0.8786491498947143, Train Loss: 0.38470241978645325\n",
      "Epoch: [19/20], Step: [701/1563], Validation Acc: 70.0, Traning Acc: 88.514\n",
      "Epoch: [19/20], Step: [1401/1563], Validation Acc: 71.3, Traning Acc: 88.529\n",
      "Epoch 19 Finished! Val Loss: 0.8832688474655152, Train Loss: 0.3678623027229309\n",
      "Epoch: [20/20], Step: [701/1563], Validation Acc: 70.1, Traning Acc: 88.766\n",
      "Epoch: [20/20], Step: [1401/1563], Validation Acc: 70.2, Traning Acc: 88.728\n",
      "Epoch 20 Finished! Val Loss: 0.8958456168174743, Train Loss: 0.349938820104599\n"
     ]
    }
   ],
   "source": [
    "hidden_size = 300\n",
    "interm_size = 100\n",
    "kernel_size = 1\n",
    "learning_rate = 5e-4\n",
    "num_epochs = 20\n",
    "interact = 'concat'\n",
    "\n",
    "val_acc_records_reg = {}\n",
    "train_acc_records_reg = {}\n",
    "val_loss_records_reg = {}\n",
    "train_loss_records_reg = {}\n",
    "num_params_records_reg = {}\n",
    "\n",
    "val_acc_records_reg['no_reg'],train_acc_records_reg['no_reg'],val_loss_records_reg['no_reg'],train_loss_records_reg['no_reg'],num_params_records_reg['no_reg'] \\\n",
    "        = CNN_Tuning(train_sentence,train_label, val_sentence, val_label,words, loaded_embeddings, hidden_size, interm_size, kernel_size, interact=interact)"
   ]
  },
  {
   "cell_type": "code",
   "execution_count": 12,
   "metadata": {
    "scrolled": true
   },
   "outputs": [
    {
     "name": "stdout",
     "output_type": "stream",
     "text": [
      "Epoch: [1/20], Step: [701/1563], Validation Acc: 59.7, Traning Acc: 60.353\n",
      "Epoch: [1/20], Step: [1401/1563], Validation Acc: 63.7, Traning Acc: 64.704\n",
      "Epoch 1 Finished! Val Loss: 0.8207889742851258, Train Loss: 0.8678642221450805\n",
      "Epoch: [2/20], Step: [701/1563], Validation Acc: 65.6, Traning Acc: 67.226\n",
      "Epoch: [2/20], Step: [1401/1563], Validation Acc: 64.9, Traning Acc: 67.976\n",
      "Epoch 2 Finished! Val Loss: 0.7721477670669555, Train Loss: 0.7692316547966004\n",
      "Epoch: [3/20], Step: [701/1563], Validation Acc: 67.4, Traning Acc: 69.474\n",
      "Epoch: [3/20], Step: [1401/1563], Validation Acc: 68.1, Traning Acc: 70.256\n",
      "Epoch 3 Finished! Val Loss: 0.7441582026481628, Train Loss: 0.7305418181610107\n",
      "Epoch: [4/20], Step: [701/1563], Validation Acc: 68.4, Traning Acc: 71.274\n",
      "Epoch: [4/20], Step: [1401/1563], Validation Acc: 69.7, Traning Acc: 71.239\n",
      "Epoch 4 Finished! Val Loss: 0.7540252237319947, Train Loss: 0.702975190525055\n",
      "Epoch: [5/20], Step: [701/1563], Validation Acc: 69.1, Traning Acc: 72.793\n",
      "Epoch: [5/20], Step: [1401/1563], Validation Acc: 69.6, Traning Acc: 73.161\n",
      "Epoch 5 Finished! Val Loss: 0.7248283314704895, Train Loss: 0.6782989686012268\n",
      "Epoch: [6/20], Step: [701/1563], Validation Acc: 68.5, Traning Acc: 73.865\n",
      "Epoch: [6/20], Step: [1401/1563], Validation Acc: 69.9, Traning Acc: 74.32\n",
      "Epoch 6 Finished! Val Loss: 0.7231800260543824, Train Loss: 0.6527981775474548\n",
      "Epoch: [7/20], Step: [701/1563], Validation Acc: 70.4, Traning Acc: 75.162\n",
      "Epoch: [7/20], Step: [1401/1563], Validation Acc: 71.1, Traning Acc: 75.87\n",
      "Epoch 7 Finished! Val Loss: 0.7115026035308838, Train Loss: 0.6321693106937408\n",
      "Epoch: [8/20], Step: [701/1563], Validation Acc: 70.0, Traning Acc: 75.856\n",
      "Epoch: [8/20], Step: [1401/1563], Validation Acc: 70.4, Traning Acc: 76.259\n",
      "Epoch 8 Finished! Val Loss: 0.7311254510879517, Train Loss: 0.6120662174034118\n",
      "Epoch: [9/20], Step: [701/1563], Validation Acc: 70.3, Traning Acc: 77.135\n",
      "Epoch: [9/20], Step: [1401/1563], Validation Acc: 72.3, Traning Acc: 77.731\n",
      "Epoch 9 Finished! Val Loss: 0.7079630689620972, Train Loss: 0.5897373762130738\n",
      "Epoch: [10/20], Step: [701/1563], Validation Acc: 70.3, Traning Acc: 78.711\n",
      "Epoch: [10/20], Step: [1401/1563], Validation Acc: 71.4, Traning Acc: 78.554\n",
      "Epoch 10 Finished! Val Loss: 0.7063968086242676, Train Loss: 0.5655171986198425\n",
      "Epoch: [11/20], Step: [701/1563], Validation Acc: 71.5, Traning Acc: 79.657\n",
      "Epoch: [11/20], Step: [1401/1563], Validation Acc: 71.3, Traning Acc: 80.261\n",
      "Epoch 11 Finished! Val Loss: 0.7187567129135132, Train Loss: 0.5440539029312134\n",
      "Epoch: [12/20], Step: [701/1563], Validation Acc: 70.8, Traning Acc: 80.559\n",
      "Epoch: [12/20], Step: [1401/1563], Validation Acc: 71.4, Traning Acc: 80.692\n",
      "Epoch 12 Finished! Val Loss: 0.7107564458847045, Train Loss: 0.5251399880886077\n",
      "Epoch: [13/20], Step: [701/1563], Validation Acc: 69.5, Traning Acc: 80.447\n",
      "Epoch: [13/20], Step: [1401/1563], Validation Acc: 69.1, Traning Acc: 81.634\n",
      "Epoch 13 Finished! Val Loss: 0.7202078990936279, Train Loss: 0.5077557825183868\n",
      "Epoch: [14/20], Step: [701/1563], Validation Acc: 71.6, Traning Acc: 81.38\n",
      "Epoch: [14/20], Step: [1401/1563], Validation Acc: 70.7, Traning Acc: 82.253\n",
      "Epoch 14 Finished! Val Loss: 0.7392243571281433, Train Loss: 0.4908055357217789\n",
      "Epoch: [15/20], Step: [701/1563], Validation Acc: 69.7, Traning Acc: 82.789\n",
      "Epoch: [15/20], Step: [1401/1563], Validation Acc: 71.1, Traning Acc: 83.709\n",
      "Epoch 15 Finished! Val Loss: 0.7423479762077332, Train Loss: 0.47351454998970033\n",
      "Epoch: [16/20], Step: [701/1563], Validation Acc: 69.3, Traning Acc: 83.761\n",
      "Epoch: [16/20], Step: [1401/1563], Validation Acc: 70.7, Traning Acc: 84.516\n",
      "Epoch 16 Finished! Val Loss: 0.7791933374404907, Train Loss: 0.4568208906745911\n",
      "Epoch: [17/20], Step: [701/1563], Validation Acc: 70.7, Traning Acc: 84.922\n",
      "Epoch: [17/20], Step: [1401/1563], Validation Acc: 70.9, Traning Acc: 85.03\n",
      "Epoch 17 Finished! Val Loss: 0.7604848232269287, Train Loss: 0.4414740841770172\n",
      "Epoch: [18/20], Step: [701/1563], Validation Acc: 69.9, Traning Acc: 84.84\n",
      "Epoch: [18/20], Step: [1401/1563], Validation Acc: 70.6, Traning Acc: 85.948\n",
      "Epoch 18 Finished! Val Loss: 0.762773913860321, Train Loss: 0.4256610340309143\n",
      "Epoch: [19/20], Step: [701/1563], Validation Acc: 71.7, Traning Acc: 85.823\n",
      "Epoch: [19/20], Step: [1401/1563], Validation Acc: 70.9, Traning Acc: 86.441\n",
      "Epoch 19 Finished! Val Loss: 0.7754677205085755, Train Loss: 0.4111953011131287\n",
      "Epoch: [20/20], Step: [701/1563], Validation Acc: 70.4, Traning Acc: 87.01\n",
      "Epoch: [20/20], Step: [1401/1563], Validation Acc: 70.5, Traning Acc: 86.549\n",
      "Epoch 20 Finished! Val Loss: 0.7941485605239869, Train Loss: 0.3978621435642242\n"
     ]
    }
   ],
   "source": [
    "val_acc_records_reg['weight_decay'],train_acc_records_reg['weight_decay'],val_loss_records_reg['weight_decay'],train_loss_records_reg['weight_decay'],num_params_records_reg['weight_decay'] \\\n",
    "        = CNN_Tuning(train_sentence,train_label, val_sentence, val_label,words, loaded_embeddings, hidden_size, interm_size, kernel_size, interact=interact, weight_decay = 1e-9)"
   ]
  },
  {
   "cell_type": "code",
   "execution_count": 13,
   "metadata": {
    "scrolled": true
   },
   "outputs": [
    {
     "name": "stdout",
     "output_type": "stream",
     "text": [
      "Epoch: [1/20], Step: [701/1563], Validation Acc: 59.5, Traning Acc: 61.986\n",
      "Epoch: [1/20], Step: [1401/1563], Validation Acc: 63.4, Traning Acc: 64.621\n",
      "Epoch 1 Finished! Val Loss: 0.806712760925293, Train Loss: 0.8820445199012756\n",
      "Epoch: [2/20], Step: [701/1563], Validation Acc: 65.6, Traning Acc: 65.423\n",
      "Epoch: [2/20], Step: [1401/1563], Validation Acc: 67.3, Traning Acc: 67.769\n",
      "Epoch 2 Finished! Val Loss: 0.769513617515564, Train Loss: 0.7924664511871338\n",
      "Epoch: [3/20], Step: [701/1563], Validation Acc: 67.9, Traning Acc: 68.799\n",
      "Epoch: [3/20], Step: [1401/1563], Validation Acc: 68.9, Traning Acc: 69.534\n",
      "Epoch 3 Finished! Val Loss: 0.7530552759170532, Train Loss: 0.756539323310852\n",
      "Epoch: [4/20], Step: [701/1563], Validation Acc: 68.4, Traning Acc: 70.228\n",
      "Epoch: [4/20], Step: [1401/1563], Validation Acc: 70.3, Traning Acc: 71.573\n",
      "Epoch 4 Finished! Val Loss: 0.7325423574447631, Train Loss: 0.727575032749176\n",
      "Epoch: [5/20], Step: [701/1563], Validation Acc: 69.4, Traning Acc: 72.094\n",
      "Epoch: [5/20], Step: [1401/1563], Validation Acc: 70.4, Traning Acc: 72.44\n",
      "Epoch 5 Finished! Val Loss: 0.7366476397514343, Train Loss: 0.7063647882652283\n",
      "Epoch: [6/20], Step: [701/1563], Validation Acc: 70.0, Traning Acc: 73.338\n",
      "Epoch: [6/20], Step: [1401/1563], Validation Acc: 70.7, Traning Acc: 73.47\n",
      "Epoch 6 Finished! Val Loss: 0.7334192552566529, Train Loss: 0.6891508267593384\n",
      "Epoch: [7/20], Step: [701/1563], Validation Acc: 70.2, Traning Acc: 73.983\n",
      "Epoch: [7/20], Step: [1401/1563], Validation Acc: 69.4, Traning Acc: 74.4\n",
      "Epoch 7 Finished! Val Loss: 0.7344717454910278, Train Loss: 0.6743766849517823\n",
      "Epoch: [8/20], Step: [701/1563], Validation Acc: 71.2, Traning Acc: 74.692\n",
      "Epoch: [8/20], Step: [1401/1563], Validation Acc: 70.4, Traning Acc: 75.662\n",
      "Epoch 8 Finished! Val Loss: 0.7330618615150452, Train Loss: 0.6585461812973022\n",
      "Epoch: [9/20], Step: [701/1563], Validation Acc: 70.4, Traning Acc: 75.675\n",
      "Epoch: [9/20], Step: [1401/1563], Validation Acc: 70.7, Traning Acc: 76.179\n",
      "Epoch 9 Finished! Val Loss: 0.7176875696182251, Train Loss: 0.6454098921394348\n",
      "Epoch: [10/20], Step: [701/1563], Validation Acc: 70.0, Traning Acc: 76.412\n",
      "Epoch: [10/20], Step: [1401/1563], Validation Acc: 70.1, Traning Acc: 77.397\n",
      "Epoch 10 Finished! Val Loss: 0.7042658505439758, Train Loss: 0.6289946113777161\n",
      "Epoch: [11/20], Step: [701/1563], Validation Acc: 69.3, Traning Acc: 77.666\n",
      "Epoch: [11/20], Step: [1401/1563], Validation Acc: 70.6, Traning Acc: 77.904\n",
      "Epoch 11 Finished! Val Loss: 0.7164799585342407, Train Loss: 0.6131101564598084\n",
      "Epoch: [12/20], Step: [701/1563], Validation Acc: 71.1, Traning Acc: 78.493\n",
      "Epoch: [12/20], Step: [1401/1563], Validation Acc: 72.4, Traning Acc: 78.881\n",
      "Epoch 12 Finished! Val Loss: 0.6961203022003174, Train Loss: 0.5992952904510498\n",
      "Epoch: [13/20], Step: [701/1563], Validation Acc: 71.5, Traning Acc: 79.43\n",
      "Epoch: [13/20], Step: [1401/1563], Validation Acc: 71.3, Traning Acc: 79.834\n",
      "Epoch 13 Finished! Val Loss: 0.7069305200576782, Train Loss: 0.5848400198745728\n",
      "Epoch: [14/20], Step: [701/1563], Validation Acc: 72.0, Traning Acc: 80.201\n",
      "Epoch: [14/20], Step: [1401/1563], Validation Acc: 70.0, Traning Acc: 80.061\n",
      "Epoch 14 Finished! Val Loss: 0.7037399339675904, Train Loss: 0.5736317078781128\n",
      "Epoch: [15/20], Step: [701/1563], Validation Acc: 70.0, Traning Acc: 80.314\n",
      "Epoch: [15/20], Step: [1401/1563], Validation Acc: 71.1, Traning Acc: 80.722\n",
      "Epoch 15 Finished! Val Loss: 0.7167763338088989, Train Loss: 0.560211152381897\n",
      "Epoch: [16/20], Step: [701/1563], Validation Acc: 70.2, Traning Acc: 81.373\n",
      "Epoch: [16/20], Step: [1401/1563], Validation Acc: 72.8, Traning Acc: 81.554\n",
      "Epoch 16 Finished! Val Loss: 0.7389476251602173, Train Loss: 0.5477308061027527\n",
      "Epoch: [17/20], Step: [701/1563], Validation Acc: 70.8, Traning Acc: 81.418\n",
      "Epoch: [17/20], Step: [1401/1563], Validation Acc: 70.9, Traning Acc: 82.107\n",
      "Epoch 17 Finished! Val Loss: 0.7489949979782105, Train Loss: 0.5365556833457947\n",
      "Epoch: [18/20], Step: [701/1563], Validation Acc: 70.3, Traning Acc: 82.332\n",
      "Epoch: [18/20], Step: [1401/1563], Validation Acc: 71.6, Traning Acc: 82.885\n",
      "Epoch 18 Finished! Val Loss: 0.7253430080413819, Train Loss: 0.5270211112594605\n",
      "Epoch: [19/20], Step: [701/1563], Validation Acc: 70.9, Traning Acc: 83.021\n",
      "Epoch: [19/20], Step: [1401/1563], Validation Acc: 70.4, Traning Acc: 82.844\n",
      "Epoch 19 Finished! Val Loss: 0.7420264592170716, Train Loss: 0.514927763261795\n",
      "Epoch: [20/20], Step: [701/1563], Validation Acc: 70.0, Traning Acc: 83.509\n",
      "Epoch: [20/20], Step: [1401/1563], Validation Acc: 69.9, Traning Acc: 83.553\n",
      "Epoch 20 Finished! Val Loss: 0.7549025745391845, Train Loss: 0.5033120193195343\n"
     ]
    }
   ],
   "source": [
    "val_acc_records_reg['dropout'],train_acc_records_reg['dropout'],val_loss_records_reg['dropout'],train_loss_records_reg['dropout'],num_params_records_reg['dropout'] \\\n",
    "        = CNN_Tuning(train_sentence,train_label, val_sentence, val_label, words, loaded_embeddings, hidden_size, interm_size, kernel_size, interact=interact, dropout= 0.5)"
   ]
  },
  {
   "cell_type": "code",
   "execution_count": 15,
   "metadata": {},
   "outputs": [
    {
     "name": "stderr",
     "output_type": "stream",
     "text": [
      "No handles with labels found to put in legend.\n"
     ]
    },
    {
     "data": {
      "image/png": "[encoded data removed]",
      "text/plain": [
       "<Figure size 720x432 with 4 Axes>"
      ]
     },
     "metadata": {
      "needs_background": "light"
     },
     "output_type": "display_data"
    }
   ],
   "source": [
    "def plot_result(train_loss, val_loss, val_acc, num_params, title_list,key_list, main, epoches_num_list):\n",
    "    \"\"\"\n",
    "    Plot the results. All input data with dim [# of subplots, # of epoches]\n",
    "    \"\"\"\n",
    "    subplot_num = len(title_list)\n",
    "    fig, axes = plt.subplots((subplot_num + 1)//2 , 2, sharex= \"col\", sharey='row', figsize = (10,subplot_num * 2))\n",
    "    #epoches = np.arange(epoches_num) + 1\n",
    "    val_acc_2 = {}\n",
    "    for i in range(subplot_num):\n",
    "        epoches = np.arange(epoches_num_list[i]) + 1\n",
    "        val_acc_2[key_list[i]] = [j/100 for j in val_acc[key_list[i]]]\n",
    "        axes[i//2,i%2].plot(epoches,train_loss[key_list[i]], label = \"Training Loss\")\n",
    "        axes[i//2,i%2].plot(epoches, val_loss[key_list[i]], label = \"Validation Loss\")\n",
    "        axes[i//2,i%2].plot(epoches, val_acc_2[key_list[i]], label = \"Validation Accuracy\")\n",
    "        axes[i//2,i%2].set_ylim([0.3,1.0])\n",
    "        axes[i//2,i%2].text(1.0,0.92,\"# params: \" + str(num_params[key_list[i]]))    \n",
    "        axes[i//2,i%2].set_title(title_list[i])\n",
    "    plt.legend()\n",
    "    plt.suptitle(main)\n",
    "    plt.show()\n",
    "plot_result(train_loss_records_reg, val_loss_records_reg, val_acc_records_reg,num_params_records_reg,\\\n",
    "            [\"Without Regularization\", \"With Weight Decay = 1e-09\", \"With Dropout = 0.5\"],['no_reg','weight_decay', \"dropout\"],\\\n",
    "            'CNN with Different Ways of Regularization',[20, 20, 20])"
   ]
  },
  {
   "cell_type": "code",
   "execution_count": 16,
   "metadata": {},
   "outputs": [
    {
     "name": "stdout",
     "output_type": "stream",
     "text": [
      "no_reg 72.1\n",
      "weight_decay 71.5\n",
      "dropout 72.3\n"
     ]
    }
   ],
   "source": [
    "for key,item in val_acc_records_reg.items():\n",
    "    print(key,max(item))"
   ]
  },
  {
   "cell_type": "markdown",
   "metadata": {},
   "source": [
    "Dropout is best here."
   ]
  },
  {
   "cell_type": "markdown",
   "metadata": {},
   "source": [
    "## Take Best Model & Highlight 3 Correct and 3 Incorrect Predictions"
   ]
  },
  {
   "cell_type": "markdown",
   "metadata": {},
   "source": [
    "Present beast model: RNN with parameters listed below:"
   ]
  },
  {
   "cell_type": "code",
   "execution_count": 21,
   "metadata": {},
   "outputs": [],
   "source": [
    "hidden_size = 400\n",
    "interm_size = 100\n",
    "learning_rate = 5e-4\n",
    "interact = 'mul'\n",
    "num_epochs = 8"
   ]
  },
  {
   "cell_type": "code",
   "execution_count": 33,
   "metadata": {},
   "outputs": [],
   "source": [
    "words_to_load = 50000\n",
    "emb_size = 300\n",
    "def RNN_Best(train_sentence,train_label, val_sentence, val_label,words, loaded_embeddings, hidden_size, interm_size, interact = 'concat', weight_decay = 0, dropout = 0):\n",
    "    train_dataset = SNLIDataset(train_sentence, train_label, words)\n",
    "    train_loader = torch.utils.data.DataLoader(dataset=train_dataset,\n",
    "                                               batch_size=BATCH_SIZE,\n",
    "                                               collate_fn=collate_func,\n",
    "                                               shuffle=True)\n",
    "\n",
    "    val_dataset = SNLIDataset(val_sentence, val_label, words)\n",
    "    val_loader = torch.utils.data.DataLoader(dataset=val_dataset,\n",
    "                                               batch_size=BATCH_SIZE,\n",
    "                                               collate_fn=collate_func,\n",
    "                                               shuffle=False)\n",
    "    model = RNN(loaded_embeddings, hidden_size=hidden_size, interm_size=interm_size, num_layers=1, num_classes=3, interact = interact, dropout = dropout)\n",
    "    model_parameters = filter(lambda p: p.requires_grad, model.parameters())\n",
    "    #Count number of parameters, minus the num of frozen embedding vectors since we detach them manually\n",
    "    num_params = sum([np.prod(p.size()) for p in model_parameters]) - emb_size * words_to_load\n",
    "    model = model.to(device)\n",
    "\n",
    "    torch.backends.cudnn.benchmark=True\n",
    "    # Criterion and Optimizer\n",
    "    criterion = torch.nn.NLLLoss()\n",
    "    #parameters = filter(lambda p: p.requires_grad, model.parameters())\n",
    "    optimizer = torch.optim.Adam(model.parameters(), lr=learning_rate, weight_decay=weight_decay)\n",
    "\n",
    "    # Train the model\n",
    "    total_step = len(train_loader)\n",
    "\n",
    "    for epoch in range(num_epochs):\n",
    "        for i, (x1,x2,x1_len,x2_len, x1_unsort_idx, x2_unsort_idx, labels) in enumerate(train_loader):\n",
    "            model.train()\n",
    "            optimizer.zero_grad()\n",
    "            # Forward pass\n",
    "            x1 = x1.long().to(device)\n",
    "            x2 = x2.long().to(device)\n",
    "            x1_len = x1_len.to(device)\n",
    "            x2_len = x2_len.to(device)\n",
    "            labels = labels.to(device)\n",
    "            outputs = model(x1, x2, x1_len, x2_len, x1_unsort_idx, x2_unsort_idx)\n",
    "            loss = criterion(outputs, labels)\n",
    "            # Backward and optimize\n",
    "            loss.backward()        \n",
    "            optimizer.step()\n",
    "            if i > 0 and i % 700 == 0:\n",
    "                print('Epoch: [{}/{}], Step: [{}/{}]'.format(epoch+1, num_epochs, i+1, len(train_loader)))\n",
    "#     val_loss, val_acc, correct_list, incorrect_list = test_model(val_loader, model, criterion)\n",
    "#     train_loss, train_acc, _,_ = test_model(train_loader, model, criterion)\n",
    "#     print('Finished! Val Loss: {}, Train Loss: {}, Val Acc: {}, Train Acc: {}'.format(val_loss, train_loss, val_acc, train_acc))\n",
    "    return val_loader,criterion,model"
   ]
  },
  {
   "cell_type": "code",
   "execution_count": 34,
   "metadata": {},
   "outputs": [
    {
     "name": "stdout",
     "output_type": "stream",
     "text": [
      "Epoch: [1/8], Step: [701/1563]\n",
      "Epoch: [1/8], Step: [1401/1563]\n",
      "Epoch: [2/8], Step: [701/1563]\n",
      "Epoch: [2/8], Step: [1401/1563]\n",
      "Epoch: [3/8], Step: [701/1563]\n",
      "Epoch: [3/8], Step: [1401/1563]\n",
      "Epoch: [4/8], Step: [701/1563]\n",
      "Epoch: [4/8], Step: [1401/1563]\n",
      "Epoch: [5/8], Step: [701/1563]\n",
      "Epoch: [5/8], Step: [1401/1563]\n",
      "Epoch: [6/8], Step: [701/1563]\n",
      "Epoch: [6/8], Step: [1401/1563]\n",
      "Epoch: [7/8], Step: [701/1563]\n",
      "Epoch: [7/8], Step: [1401/1563]\n",
      "Epoch: [8/8], Step: [701/1563]\n",
      "Epoch: [8/8], Step: [1401/1563]\n"
     ]
    }
   ],
   "source": [
    "val_loader,criterion, model = RNN_Best(train_sentence,train_label, val_sentence, val_label,words, loaded_embeddings, hidden_size, interm_size, interact=interact)"
   ]
  },
  {
   "cell_type": "code",
   "execution_count": 25,
   "metadata": {},
   "outputs": [],
   "source": [
    "def test_best_model(loader, model, criterion, correct_num, incorrect_num):\n",
    "    \"\"\"\n",
    "    Help function that tests the model's performance on a dataset\n",
    "    @param: loader - data loader for the dataset to test against\n",
    "    \"\"\"\n",
    "    correct = 0\n",
    "    total = 0\n",
    "    loss = 0\n",
    "    correct_list = []\n",
    "    incorrect_list = []\n",
    "    \n",
    "    model.eval()\n",
    "    for x1,x2,x1_len,x2_len, x1_unsort_idx, x2_unsort_idx, labels in loader:\n",
    "        x1_batch,x2_batch, x1_lengths_batch, x2_lengths_batch, x1_unsort_idx_batch, x2_unsort_idx_batch, label_batch =x1,x2,x1_len,x2_len,  x1_unsort_idx, x2_unsort_idx, labels\n",
    "        x1_batch = x1_batch.long().to(device)\n",
    "        x2_batch = x2_batch.long().to(device)\n",
    "        x1_lengths_batch = x1_lengths_batch.to(device)\n",
    "        x2_lengths_batch = x2_lengths_batch.to(device)\n",
    "        label_batch = label_batch.to(device)\n",
    "        outputs = model(x1_batch,x2_batch, x1_lengths_batch, x2_lengths_batch, x1_unsort_idx_batch, x2_unsort_idx_batch)\n",
    "        #unsort the sentences\n",
    "        x1_batch = x1_batch[x1_unsort_idx_batch]\n",
    "        x2_batch = x2_batch[x2_unsort_idx_batch]\n",
    "        predicted = outputs.max(1, keepdim=True)[1]\n",
    "        loss += criterion(outputs, label_batch).item() *  labels.size(0)\n",
    "        total += label_batch.size(0)\n",
    "        correct += predicted.eq(label_batch.view_as(predicted)).sum().item()\n",
    "        for index,item in enumerate(predicted):\n",
    "            if len(correct_list) >= correct_num and len(incorrect_list) >= incorrect_num:\n",
    "                break\n",
    "            elif len(correct_list) < correct_num and item == label_batch.view_as(predicted)[index]:\n",
    "                correct_list.append([x1_batch[index], x2_batch[index], item])\n",
    "            elif len(incorrect_list) < incorrect_num and item != label_batch.view_as(predicted)[index]:\n",
    "                incorrect_list.append([x1_batch[index], x2_batch[index], item, label_batch.view_as(predicted)[index]])\n",
    "                \n",
    "    return loss/total,(100 * correct / total), correct_list, incorrect_list"
   ]
  },
  {
   "cell_type": "code",
   "execution_count": 35,
   "metadata": {},
   "outputs": [],
   "source": [
    "loss, acc, correct_list, incorrect_list = test_best_model(val_loader, model, criterion, 3, 3)"
   ]
  },
  {
   "cell_type": "code",
   "execution_count": 36,
   "metadata": {},
   "outputs": [
    {
     "name": "stdout",
     "output_type": "stream",
     "text": [
      "0.6995793867111206 72.5\n"
     ]
    }
   ],
   "source": [
    "print(loss, acc)"
   ]
  },
  {
   "cell_type": "code",
   "execution_count": 43,
   "metadata": {},
   "outputs": [
    {
     "name": "stdout",
     "output_type": "stream",
     "text": [
      "Correct Predictions Example: \n",
      "Sentence 1:  Three women on a stage , one wearing red shoes , black pants , and a gray shirt is sitting on a prop , another is sitting on the floor\n",
      "Sentence 2:  There are two women standing on the stage <pad> <pad> <pad> <pad> <pad> <pad> <pad> <pad> <pad> <pad> <pad> <pad> <pad> <pad> <pad> <pad> <pad> <pad> <pad> <pad> <pad> <pad>\n",
      "Label:  contradiction\n",
      "Sentence 1:  Four people sit on a subway two read books , one looks at a cellphone and is wearing knee high boots . <pad> <pad> <pad> <pad> <pad> <pad> <pad> <pad>\n",
      "Sentence 2:  Multiple people are on a subway together , with each of them doing their own thing . <pad> <pad> <pad> <pad> <pad> <pad> <pad> <pad> <pad> <pad> <pad> <pad> <pad>\n",
      "Label:  entailment\n",
      "Sentence 1:  Man in <unk> with two horses . <pad> <pad> <pad> <pad> <pad> <pad> <pad> <pad> <pad> <pad> <pad> <pad> <pad> <pad> <pad> <pad> <pad> <pad> <pad> <pad> <pad> <pad> <pad>\n",
      "Sentence 2:  a man in <unk> with two horses <pad> <pad> <pad> <pad> <pad> <pad> <pad> <pad> <pad> <pad> <pad> <pad> <pad> <pad> <pad> <pad> <pad> <pad> <pad> <pad> <pad> <pad> <pad>\n",
      "Label:  entailment\n",
      "Incorrect Predictions Example: \n",
      "Sentence 1:  bicycles stationed while a group of people socialize . <pad> <pad> <pad> <pad> <pad> <pad> <pad> <pad> <pad> <pad> <pad> <pad> <pad> <pad> <pad> <pad> <pad> <pad> <pad> <pad> <pad>\n",
      "Sentence 2:  People get together near a stand of bicycles . <pad> <pad> <pad> <pad> <pad> <pad> <pad> <pad> <pad> <pad> <pad> <pad> <pad> <pad> <pad> <pad> <pad> <pad> <pad> <pad> <pad>\n",
      "Predicted Label:  contradiction\n",
      "True Label:  entailment\n",
      "Sentence 1:  Two people are in a green forest . <pad> <pad> <pad> <pad> <pad> <pad> <pad> <pad> <pad> <pad> <pad> <pad> <pad> <pad> <pad> <pad> <pad> <pad> <pad> <pad> <pad> <pad>\n",
      "Sentence 2:  The forest is not dead . <pad> <pad> <pad> <pad> <pad> <pad> <pad> <pad> <pad> <pad> <pad> <pad> <pad> <pad> <pad> <pad> <pad> <pad> <pad> <pad> <pad> <pad> <pad> <pad>\n",
      "Predicted Label:  neutral\n",
      "True Label:  entailment\n",
      "Sentence 1:  A large group of people stand outside on a road while people on a higher level look on at them . <pad> <pad> <pad> <pad> <pad> <pad> <pad> <pad> <pad>\n",
      "Sentence 2:  One group of people are watching what another group does . <pad> <pad> <pad> <pad> <pad> <pad> <pad> <pad> <pad> <pad> <pad> <pad> <pad> <pad> <pad> <pad> <pad> <pad> <pad>\n",
      "Predicted Label:  neutral\n",
      "True Label:  entailment\n"
     ]
    }
   ],
   "source": [
    "def sentence_decode(x, idx2words):\n",
    "    return [idx2words[k] for k in x]\n",
    "\n",
    "int2label = {2:'entailment', 0:'contradiction',1: 'neutral'} \n",
    "print('Correct Predictions Example: ')\n",
    "for correct_cuda in correct_list:\n",
    "    correct = [x.cpu().numpy() for x in correct_cuda]\n",
    "    print('Sentence 1: ', ' '.join(sentence_decode(correct[0],idx2words)))\n",
    "    print('Sentence 2: ', ' '.join(sentence_decode(correct[1], idx2words)))\n",
    "    print('Label: ', int2label[correct[2][0]])\n",
    "print('Incorrect Predictions Example: ')    \n",
    "for incorrect_cuda in incorrect_list:\n",
    "    incorrect = [x.cpu().numpy() for x in incorrect_cuda]\n",
    "    print('Sentence 1: ', ' '.join(sentence_decode(incorrect[0],idx2words)))\n",
    "    print('Sentence 2: ', ' '.join(sentence_decode(incorrect[1],idx2words)))\n",
    "    print('Predicted Label: ', int2label[incorrect[2][0]])\n",
    "    print('True Label: ', int2label[incorrect[3][0]])"
   ]
  },
  {
   "cell_type": "markdown",
   "metadata": {},
   "source": [
    "# Evaluating on MultiNLI"
   ]
  },
  {
   "cell_type": "code",
   "execution_count": 22,
   "metadata": {},
   "outputs": [],
   "source": [
    "import pandas as pd\n",
    "#read the dataset\n",
    "val_data_mnli = pd.read_csv('mnli_val.tsv', sep = '\\t')"
   ]
  },
  {
   "cell_type": "code",
   "execution_count": 23,
   "metadata": {},
   "outputs": [],
   "source": [
    "#trasfer the label to integer, entailment = 2, contradiction = 0, neutral = 1\n",
    "val_data_mnli.loc[val_data_mnli['label'] == 'entailment','int_label'] = 2\n",
    "val_data_mnli.loc[val_data_mnli['label'] == 'neutral','int_label'] = 1\n",
    "val_data_mnli.loc[val_data_mnli['label'] == 'contradiction','int_label'] = 0"
   ]
  },
  {
   "cell_type": "code",
   "execution_count": 24,
   "metadata": {},
   "outputs": [
    {
     "data": {
      "text/html": [
       "<div>\n",
       "<style scoped>\n",
       "    .dataframe tbody tr th:only-of-type {\n",
       "        vertical-align: middle;\n",
       "    }\n",
       "\n",
       "    .dataframe tbody tr th {\n",
       "        vertical-align: top;\n",
       "    }\n",
       "\n",
       "    .dataframe thead th {\n",
       "        text-align: right;\n",
       "    }\n",
       "</style>\n",
       "<table border=\"1\" class=\"dataframe\">\n",
       "  <thead>\n",
       "    <tr style=\"text-align: right;\">\n",
       "      <th></th>\n",
       "      <th>sentence1</th>\n",
       "      <th>sentence2</th>\n",
       "      <th>label</th>\n",
       "      <th>genre</th>\n",
       "      <th>int_label</th>\n",
       "    </tr>\n",
       "  </thead>\n",
       "  <tbody>\n",
       "    <tr>\n",
       "      <th>0</th>\n",
       "      <td>'Not entirely , ' I snapped , harsher than int...</td>\n",
       "      <td>I spoke more harshly than I wanted to .</td>\n",
       "      <td>entailment</td>\n",
       "      <td>fiction</td>\n",
       "      <td>2.0</td>\n",
       "    </tr>\n",
       "    <tr>\n",
       "      <th>1</th>\n",
       "      <td>cook and then the next time it would be my tur...</td>\n",
       "      <td>I would cook and then the next turn would be h...</td>\n",
       "      <td>contradiction</td>\n",
       "      <td>telephone</td>\n",
       "      <td>0.0</td>\n",
       "    </tr>\n",
       "    <tr>\n",
       "      <th>2</th>\n",
       "      <td>The disorder hardly seemed to exist before the...</td>\n",
       "      <td>The disorder did n't seem to be as common when...</td>\n",
       "      <td>entailment</td>\n",
       "      <td>slate</td>\n",
       "      <td>2.0</td>\n",
       "    </tr>\n",
       "    <tr>\n",
       "      <th>3</th>\n",
       "      <td>The Report and Order , in large part , adopts ...</td>\n",
       "      <td>The Report and Order ignores recommendations f...</td>\n",
       "      <td>contradiction</td>\n",
       "      <td>government</td>\n",
       "      <td>0.0</td>\n",
       "    </tr>\n",
       "    <tr>\n",
       "      <th>4</th>\n",
       "      <td>IDPA 's OIG 's mission is to prevent , detect ...</td>\n",
       "      <td>IDPA 's OIG 's mission is clear and cares abou...</td>\n",
       "      <td>entailment</td>\n",
       "      <td>government</td>\n",
       "      <td>2.0</td>\n",
       "    </tr>\n",
       "  </tbody>\n",
       "</table>\n",
       "</div>"
      ],
      "text/plain": [
       "                                           sentence1  \\\n",
       "0  'Not entirely , ' I snapped , harsher than int...   \n",
       "1  cook and then the next time it would be my tur...   \n",
       "2  The disorder hardly seemed to exist before the...   \n",
       "3  The Report and Order , in large part , adopts ...   \n",
       "4  IDPA 's OIG 's mission is to prevent , detect ...   \n",
       "\n",
       "                                           sentence2          label  \\\n",
       "0            I spoke more harshly than I wanted to .     entailment   \n",
       "1  I would cook and then the next turn would be h...  contradiction   \n",
       "2  The disorder did n't seem to be as common when...     entailment   \n",
       "3  The Report and Order ignores recommendations f...  contradiction   \n",
       "4  IDPA 's OIG 's mission is clear and cares abou...     entailment   \n",
       "\n",
       "        genre  int_label  \n",
       "0     fiction        2.0  \n",
       "1   telephone        0.0  \n",
       "2       slate        2.0  \n",
       "3  government        0.0  \n",
       "4  government        2.0  "
      ]
     },
     "execution_count": 24,
     "metadata": {},
     "output_type": "execute_result"
    }
   ],
   "source": [
    "val_data_mnli.head()"
   ]
  },
  {
   "cell_type": "code",
   "execution_count": 50,
   "metadata": {},
   "outputs": [
    {
     "data": {
      "text/plain": [
       "government    1016\n",
       "telephone     1005\n",
       "slate         1002\n",
       "fiction        995\n",
       "travel         982\n",
       "Name: genre, dtype: int64"
      ]
     },
     "execution_count": 50,
     "metadata": {},
     "output_type": "execute_result"
    }
   ],
   "source": [
    "val_data_mnli[\"genre\"].value_counts()"
   ]
  },
  {
   "cell_type": "code",
   "execution_count": 72,
   "metadata": {},
   "outputs": [],
   "source": [
    "def test_mnli_model(loader, model, criterion):\n",
    "    \"\"\"\n",
    "    Help function that tests the model's performance on a dataset\n",
    "    @param: loader - data loader for the dataset to test against\n",
    "    \"\"\"\n",
    "    correct = 0\n",
    "    total = 0\n",
    "    loss = 0\n",
    "\n",
    "    model.eval()\n",
    "    for x1,x2,x1_len,x2_len, x1_unsort_idx, x2_unsort_idx, labels in loader:\n",
    "        x1_batch,x2_batch, x1_lengths_batch, x2_lengths_batch, x1_unsort_idx_batch, x2_unsort_idx_batch, label_batch =x1,x2,x1_len,x2_len,x1_unsort_idx, x2_unsort_idx, labels\n",
    "        x1_batch = x1_batch.long().to(device)\n",
    "        x2_batch = x2_batch.long().to(device)\n",
    "        x1_lengths_batch = x1_lengths_batch.to(device)\n",
    "        x2_lengths_batch = x2_lengths_batch.to(device)\n",
    "        label_batch = label_batch.to(device)\n",
    "        outputs = model(x1_batch,x2_batch, x1_lengths_batch, x2_lengths_batch, x1_unsort_idx_batch, x2_unsort_idx_batch)\n",
    "        predicted = outputs.max(1, keepdim=True)[1]\n",
    "        loss += criterion(outputs, label_batch).item() *  labels.size(0)\n",
    "        total += label_batch.size(0)\n",
    "        correct += predicted.eq(label_batch.view_as(predicted)).sum().item()\n",
    "    return (100 * correct / total)"
   ]
  },
  {
   "cell_type": "markdown",
   "metadata": {},
   "source": [
    "## RNN"
   ]
  },
  {
   "cell_type": "code",
   "execution_count": 91,
   "metadata": {},
   "outputs": [],
   "source": [
    "hidden_size = 400\n",
    "interm_size = 100\n",
    "learning_rate = 5e-4\n",
    "interact = 'mul'\n",
    "num_epochs = 8"
   ]
  },
  {
   "cell_type": "code",
   "execution_count": 92,
   "metadata": {},
   "outputs": [
    {
     "name": "stdout",
     "output_type": "stream",
     "text": [
      "Epoch: [1/8], Step: [701/1563]\n",
      "Epoch: [1/8], Step: [1401/1563]\n",
      "Epoch: [2/8], Step: [701/1563]\n",
      "Epoch: [2/8], Step: [1401/1563]\n",
      "Epoch: [3/8], Step: [701/1563]\n",
      "Epoch: [3/8], Step: [1401/1563]\n",
      "Epoch: [4/8], Step: [701/1563]\n",
      "Epoch: [4/8], Step: [1401/1563]\n",
      "Epoch: [5/8], Step: [701/1563]\n",
      "Epoch: [5/8], Step: [1401/1563]\n",
      "Epoch: [6/8], Step: [701/1563]\n",
      "Epoch: [6/8], Step: [1401/1563]\n",
      "Epoch: [7/8], Step: [701/1563]\n",
      "Epoch: [7/8], Step: [1401/1563]\n",
      "Epoch: [8/8], Step: [701/1563]\n",
      "Epoch: [8/8], Step: [1401/1563]\n"
     ]
    }
   ],
   "source": [
    "_,criterion, model = RNN_Best(train_sentence,train_label, val_sentence, val_label,words, loaded_embeddings, hidden_size, interm_size, interact=interact)"
   ]
  },
  {
   "cell_type": "code",
   "execution_count": 93,
   "metadata": {},
   "outputs": [],
   "source": [
    "torch.save(model.state_dict(), \"best_rnn_model_states\")"
   ]
  },
  {
   "cell_type": "code",
   "execution_count": 32,
   "metadata": {},
   "outputs": [],
   "source": [
    "model = RNN(loaded_embeddings, hidden_size=hidden_size, interm_size=interm_size, num_layers=1, num_classes=3, interact = interact, dropout = 0)\n",
    "model.load_state_dict(torch.load('best_rnn_model_states'))"
   ]
  },
  {
   "cell_type": "code",
   "execution_count": 36,
   "metadata": {},
   "outputs": [
    {
     "name": "stdout",
     "output_type": "stream",
     "text": [
      "The acc for fiction is (1.6409752084981257, 33.66834170854271)\n",
      "The acc for government is (1.6466075914112601, 34.44881889763779)\n",
      "The acc for slate is (1.5516454176512544, 33.43313373253493)\n",
      "The acc for telephone is (1.7190439304902185, 34.12935323383085)\n",
      "The acc for travel is (1.6507933562253498, 35.132382892057024)\n"
     ]
    }
   ],
   "source": [
    "for genre, val_data_mnli_genre in val_data_mnli.groupby('genre'):\n",
    "    val_mnli_sentence = val_data_mnli_genre[['sentence1','sentence2']].values\n",
    "    val_mnli_label = val_data_mnli_genre['int_label'].values\n",
    "    val_mnli_dataset = SNLIDataset(val_mnli_sentence, val_mnli_label, words)\n",
    "    val_mnli_loader = torch.utils.data.DataLoader(dataset=val_mnli_dataset,\n",
    "                                               batch_size=BATCH_SIZE,\n",
    "                                               collate_fn=collate_func,\n",
    "                                               shuffle=False)\n",
    "    val_mnli_acc_genre[genre] = test_mnli_model(val_mnli_loader, model, criterion)\n",
    "    print('The acc for {} is {}'.format(genre, val_mnli_acc_genre[genre]))"
   ]
  },
  {
   "cell_type": "markdown",
   "metadata": {},
   "source": [
    "# CNN"
   ]
  },
  {
   "cell_type": "code",
   "execution_count": 37,
   "metadata": {},
   "outputs": [],
   "source": [
    "hidden_size = 300\n",
    "interm_size = 100\n",
    "kernel_size = 1\n",
    "learning_rate = 5e-4\n",
    "num_epochs = 12\n",
    "interact = 'concat'\n",
    "dropout = 0.5"
   ]
  },
  {
   "cell_type": "code",
   "execution_count": 38,
   "metadata": {},
   "outputs": [],
   "source": [
    "words_to_load = 50000\n",
    "emb_size = 300\n",
    "def CNN_Best(train_sentence,train_label, val_sentence, val_label,words, loaded_embeddings, hidden_size, interm_size,kernel_size, interact = 'concat', weight_decay = 0,dropout = 0):\n",
    "    train_dataset = SNLIDataset(train_sentence, train_label, words)\n",
    "    train_loader = torch.utils.data.DataLoader(dataset=train_dataset,\n",
    "                                               batch_size=BATCH_SIZE,\n",
    "                                               collate_fn=collate_func,\n",
    "                                               shuffle=True)\n",
    "\n",
    "    val_dataset = SNLIDataset(val_sentence, val_label, words)\n",
    "    val_loader = torch.utils.data.DataLoader(dataset=val_dataset,\n",
    "                                               batch_size=BATCH_SIZE,\n",
    "                                               collate_fn=collate_func,\n",
    "                                               shuffle=False)\n",
    "    model = CNN(loaded_embeddings, hidden_size=hidden_size, interm_size=interm_size, num_classes=3, kernel_size = kernel_size,interact = interact, dropout = dropout)\n",
    "    model_parameters = filter(lambda p: p.requires_grad, model.parameters())\n",
    "    #Count number of parameters, minus the num of frozen embedding vectors since we detach them manually\n",
    "    num_params = sum([np.prod(p.size()) for p in model_parameters]) - emb_size * words_to_load\n",
    "    model = model.to(device)\n",
    "    \n",
    "    torch.backends.cudnn.benchmark=True\n",
    "    # Criterion and Optimizer\n",
    "    criterion = torch.nn.NLLLoss()\n",
    "    #parameters = filter(lambda p: p.requires_grad, model.parameters())\n",
    "    optimizer = torch.optim.Adam(model.parameters(), lr=learning_rate, weight_decay = weight_decay)\n",
    "\n",
    "    # Train the model\n",
    "    total_step = len(train_loader)\n",
    "\n",
    "    for epoch in range(num_epochs):\n",
    "        for i, (x1,x2,x1_len,x2_len, x1_unsort_idx, x2_unsort_idx, labels) in enumerate(train_loader):\n",
    "            model.train()\n",
    "            optimizer.zero_grad()\n",
    "            # Forward pass\n",
    "            x1 = x1.long().to(device)\n",
    "            x2 = x2.long().to(device)\n",
    "            x1_len = x1_len.to(device)\n",
    "            x2_len = x2_len.to(device)\n",
    "            labels = labels.to(device)\n",
    "            outputs = model(x1, x2, x1_len, x2_len, x1_unsort_idx, x2_unsort_idx)\n",
    "\n",
    "            loss = criterion(outputs, labels)\n",
    "            # Backward and optimize\n",
    "            loss.backward()        \n",
    "            optimizer.step()\n",
    "            # validate every 100 iterations\n",
    "            if i > 0 and i % 700 == 0:\n",
    "                print('Epoch: [{}/{}], Step: [{}/{}]'.format(epoch+1, num_epochs, i+1, len(train_loader)))\n",
    "    return criterion,model"
   ]
  },
  {
   "cell_type": "code",
   "execution_count": 45,
   "metadata": {},
   "outputs": [
    {
     "name": "stdout",
     "output_type": "stream",
     "text": [
      "Epoch: [1/12], Step: [701/1563]\n",
      "Epoch: [1/12], Step: [1401/1563]\n",
      "Epoch: [2/12], Step: [701/1563]\n",
      "Epoch: [2/12], Step: [1401/1563]\n",
      "Epoch: [3/12], Step: [701/1563]\n",
      "Epoch: [3/12], Step: [1401/1563]\n",
      "Epoch: [4/12], Step: [701/1563]\n",
      "Epoch: [4/12], Step: [1401/1563]\n",
      "Epoch: [5/12], Step: [701/1563]\n",
      "Epoch: [5/12], Step: [1401/1563]\n",
      "Epoch: [6/12], Step: [701/1563]\n",
      "Epoch: [6/12], Step: [1401/1563]\n",
      "Epoch: [7/12], Step: [701/1563]\n",
      "Epoch: [7/12], Step: [1401/1563]\n",
      "Epoch: [8/12], Step: [701/1563]\n",
      "Epoch: [8/12], Step: [1401/1563]\n",
      "Epoch: [9/12], Step: [701/1563]\n",
      "Epoch: [9/12], Step: [1401/1563]\n",
      "Epoch: [10/12], Step: [701/1563]\n",
      "Epoch: [10/12], Step: [1401/1563]\n",
      "Epoch: [11/12], Step: [701/1563]\n",
      "Epoch: [11/12], Step: [1401/1563]\n",
      "Epoch: [12/12], Step: [701/1563]\n",
      "Epoch: [12/12], Step: [1401/1563]\n"
     ]
    }
   ],
   "source": [
    "criterion_cnn, model_cnn = CNN_Best(train_sentence,train_label, val_sentence, val_label,words, loaded_embeddings,\\\n",
    "                                    hidden_size, interm_size, kernel_size, interact = interact, dropout = dropout)"
   ]
  },
  {
   "cell_type": "code",
   "execution_count": 46,
   "metadata": {},
   "outputs": [
    {
     "name": "stdout",
     "output_type": "stream",
     "text": [
      "The acc for fiction is (1.6409752084981257, 33.66834170854271)\n",
      "The acc for government is (1.6466075914112601, 34.44881889763779)\n",
      "The acc for slate is (1.5516454176512544, 33.43313373253493)\n",
      "The acc for telephone is (1.7190439304902185, 34.12935323383085)\n",
      "The acc for travel is (1.6507933562253498, 35.132382892057024)\n"
     ]
    }
   ],
   "source": [
    "val_mnli_acc_genre_cnn ={}\n",
    "for genre, val_data_mnli_genre in val_data_mnli.groupby('genre'):\n",
    "    val_mnli_sentence = val_data_mnli_genre[['sentence1','sentence2']].values\n",
    "    val_mnli_label = val_data_mnli_genre['int_label'].values\n",
    "    val_mnli_dataset = SNLIDataset(val_mnli_sentence, val_mnli_label, words)\n",
    "    val_mnli_loader = torch.utils.data.DataLoader(dataset=val_mnli_dataset,\n",
    "                                               batch_size=BATCH_SIZE,\n",
    "                                               collate_fn=collate_func,\n",
    "                                               shuffle=False)\n",
    "    val_mnli_acc_genre_cnn[genre] = test_mnli_model(val_mnli_loader, model_cnn, criterion_cnn)\n",
    "    print('The acc for {} is {}'.format(genre, val_mnli_acc_genre[genre]))"
   ]
  },
  {
   "cell_type": "markdown",
   "metadata": {},
   "source": [
    "# Fine-tuning on MultiNLI"
   ]
  },
  {
   "cell_type": "code",
   "execution_count": 15,
   "metadata": {},
   "outputs": [],
   "source": [
    "import pandas as pd\n",
    "#load the muli train dataset\n",
    "train_data_mnli = pd.read_csv('mnli_train.tsv', sep = '\\t')"
   ]
  },
  {
   "cell_type": "code",
   "execution_count": 16,
   "metadata": {},
   "outputs": [],
   "source": [
    "#trasfer the label to integer, entailment = 2, contradiction = 0, neutral = 1\n",
    "train_data_mnli.loc[train_data_mnli['label'] == 'entailment','int_label'] = 2\n",
    "train_data_mnli.loc[train_data_mnli['label'] == 'neutral','int_label'] = 1\n",
    "train_data_mnli.loc[train_data_mnli['label'] == 'contradiction','int_label'] = 0"
   ]
  },
  {
   "cell_type": "code",
   "execution_count": 17,
   "metadata": {},
   "outputs": [
    {
     "data": {
      "text/plain": [
       "telephone     4270\n",
       "slate         4026\n",
       "travel        3985\n",
       "government    3883\n",
       "fiction       3836\n",
       "Name: genre, dtype: int64"
      ]
     },
     "execution_count": 17,
     "metadata": {},
     "output_type": "execute_result"
    }
   ],
   "source": [
    "train_data_mnli['genre'].value_counts()"
   ]
  },
  {
   "cell_type": "code",
   "execution_count": 50,
   "metadata": {},
   "outputs": [],
   "source": [
    "hidden_size = 400\n",
    "interm_size = 100\n",
    "learning_rate = 5e-4\n",
    "interact = 'mul'"
   ]
  },
  {
   "cell_type": "code",
   "execution_count": 51,
   "metadata": {},
   "outputs": [],
   "source": [
    "def test_mnli_model(loader, model, criterion):\n",
    "    \"\"\"\n",
    "    Help function that tests the model's performance on a dataset\n",
    "    @param: loader - data loader for the dataset to test against\n",
    "    \"\"\"\n",
    "    correct = 0\n",
    "    total = 0\n",
    "    loss = 0\n",
    "\n",
    "    model.eval()\n",
    "    for x1,x2,x1_len,x2_len, x1_unsort_idx, x2_unsort_idx, labels in loader:\n",
    "        x1_batch,x2_batch, x1_lengths_batch, x2_lengths_batch, x1_unsort_idx_batch, x2_unsort_idx_batch, label_batch =x1,x2,x1_len,x2_len,x1_unsort_idx, x2_unsort_idx, labels\n",
    "        x1_batch = x1_batch.long().to(device)\n",
    "        x2_batch = x2_batch.long().to(device)\n",
    "        x1_lengths_batch = x1_lengths_batch.to(device)\n",
    "        x2_lengths_batch = x2_lengths_batch.to(device)\n",
    "        label_batch = label_batch.to(device)\n",
    "        outputs = model(x1_batch,x2_batch, x1_lengths_batch, x2_lengths_batch, x1_unsort_idx_batch, x2_unsort_idx_batch)\n",
    "        predicted = outputs.max(1, keepdim=True)[1]\n",
    "        loss += criterion(outputs, label_batch).item() *  labels.size(0)\n",
    "        total += label_batch.size(0)\n",
    "        correct += predicted.eq(label_batch.view_as(predicted)).sum().item()\n",
    "    return loss/total,(100 * correct / total)"
   ]
  },
  {
   "cell_type": "code",
   "execution_count": 54,
   "metadata": {},
   "outputs": [],
   "source": [
    "words_to_load = 50000\n",
    "emb_size = 300\n",
    "def Fine_Tuning(train_loader, model, hidden_size, interm_size, interact = 'concat', weight_decay = 0, dropout = 0):\n",
    "    model = model.to(device)\n",
    "    torch.backends.cudnn.benchmark=True\n",
    "    # Criterion and Optimizer\n",
    "    criterion = torch.nn.NLLLoss()\n",
    "    #parameters = filter(lambda p: p.requires_grad, model.parameters())\n",
    "    optimizer = torch.optim.Adam(model.parameters(), lr=learning_rate, weight_decay=weight_decay)\n",
    "    scheduler = torch.optim.lr_scheduler.StepLR(optimizer, step_size=3, gamma=0.5)\n",
    "    # Train the model\n",
    "    total_step = len(train_loader)\n",
    "\n",
    "    for epoch in range(num_epochs):\n",
    "        loss_sum = 0.0\n",
    "        total = 0\n",
    "        for i, (x1,x2,x1_len,x2_len, x1_unsort_idx, x2_unsort_idx, labels) in enumerate(train_loader):\n",
    "            #scheduler.step()\n",
    "            model.train()\n",
    "            optimizer.zero_grad()\n",
    "            # Forward pass\n",
    "            x1 = x1.long().to(device)\n",
    "            x2 = x2.long().to(device)\n",
    "            x1_len = x1_len.to(device)\n",
    "            x2_len = x2_len.to(device)\n",
    "            labels = labels.to(device)\n",
    "            outputs = model(x1, x2, x1_len, x2_len, x1_unsort_idx, x2_unsort_idx)\n",
    "\n",
    "            loss = criterion(outputs, labels)\n",
    "\n",
    "            loss_sum += loss.item() * labels.size(0)\n",
    "            total += labels.size(0)\n",
    "            # Backward and optimize\n",
    "            loss.backward()        \n",
    "            optimizer.step()\n",
    "            if i > 0 and i % 700 == 0:\n",
    "                print('Epoch: [{}/{}], Step: [{}/{}]'.format(epoch+1, num_epochs, i+1, len(train_loader)))\n",
    "    return model,criterion"
   ]
  },
  {
   "cell_type": "code",
   "execution_count": 55,
   "metadata": {},
   "outputs": [
    {
     "name": "stdout",
     "output_type": "stream",
     "text": [
      "Tuned on fiction, val on fiction, acc = 45.42713567839196\n",
      "Tuned on fiction, val on government, acc = 42.224409448818896\n",
      "Tuned on fiction, val on slate, acc = 39.920159680638726\n",
      "Tuned on fiction, val on telephone, acc = 42.78606965174129\n",
      "Tuned on fiction, val on travel, acc = 37.67820773930754\n",
      "Tuned on government, val on fiction, acc = 41.80904522613066\n",
      "Tuned on government, val on government, acc = 43.503937007874015\n",
      "Tuned on government, val on slate, acc = 40.119760479041915\n",
      "Tuned on government, val on telephone, acc = 43.681592039801\n",
      "Tuned on government, val on travel, acc = 40.73319755600814\n",
      "Tuned on slate, val on fiction, acc = 44.42211055276382\n",
      "Tuned on slate, val on government, acc = 44.09448818897638\n",
      "Tuned on slate, val on slate, acc = 40.01996007984032\n",
      "Tuned on slate, val on telephone, acc = 40.995024875621894\n",
      "Tuned on slate, val on travel, acc = 39.61303462321792\n",
      "Tuned on telephone, val on fiction, acc = 43.015075376884425\n",
      "Tuned on telephone, val on government, acc = 44.19291338582677\n",
      "Tuned on telephone, val on slate, acc = 39.321357285429144\n",
      "Tuned on telephone, val on telephone, acc = 42.48756218905473\n",
      "Tuned on telephone, val on travel, acc = 37.78004073319756\n",
      "Tuned on travel, val on fiction, acc = 43.015075376884425\n",
      "Tuned on travel, val on government, acc = 43.503937007874015\n",
      "Tuned on travel, val on slate, acc = 39.82035928143713\n",
      "Tuned on travel, val on telephone, acc = 42.985074626865675\n",
      "Tuned on travel, val on travel, acc = 39.205702647657844\n"
     ]
    }
   ],
   "source": [
    "num_epochs = 6\n",
    "tuned_val_acc = {}\n",
    "for genre, train_data_mnli_genre in train_data_mnli.groupby('genre'):\n",
    "    loaded_model = RNN(loaded_embeddings, hidden_size=hidden_size, interm_size=interm_size, num_layers=1, num_classes=3, interact = interact, dropout = 0)\n",
    "    loaded_model.load_state_dict(torch.load('best_rnn_model_states'))\n",
    "    train_mnli_sentence = train_data_mnli[['sentence1','sentence2']].values\n",
    "    train_mnli_label = train_data_mnli['int_label'].values\n",
    "    train_mnli_dataset = SNLIDataset(train_mnli_sentence, train_mnli_label, words)\n",
    "    train_mnli_loader = torch.utils.data.DataLoader(dataset=train_mnli_dataset,\n",
    "                                               batch_size=BATCH_SIZE,\n",
    "                                               collate_fn=collate_func,\n",
    "                                               shuffle=True)\n",
    "    tuned_model, criterion = Fine_Tuning(train_mnli_loader,loaded_model, hidden_size, interm_size,interact = 'mul')\n",
    "    tuned_val_acc[genre] ={}\n",
    "    for val_genre, val_data_mnli_genre in val_data_mnli.groupby('genre'):\n",
    "        val_mnli_sentence = val_data_mnli_genre[['sentence1','sentence2']].values\n",
    "        val_mnli_label = val_data_mnli_genre['int_label'].values\n",
    "        val_mnli_dataset = SNLIDataset(val_mnli_sentence, val_mnli_label, words)\n",
    "        val_mnli_loader = torch.utils.data.DataLoader(dataset=val_mnli_dataset,\n",
    "                                                   batch_size=BATCH_SIZE,\n",
    "                                                   collate_fn=collate_func,\n",
    "                                                   shuffle=False)\n",
    "        _, val_acc = test_mnli_model(val_mnli_loader, tuned_model, criterion)\n",
    "        print(\"Tuned on {}, val on {}, acc = {}\".format(genre, val_genre, val_acc))\n",
    "        tuned_val_acc[genre][val_genre] = val_acc"
   ]
  },
  {
   "cell_type": "code",
   "execution_count": null,
   "metadata": {},
   "outputs": [],
   "source": []
  }
 ],
 "metadata": {
  "kernelspec": {
   "display_name": "Python 3",
   "language": "python",
   "name": "python3"
  },
  "language_info": {
   "codemirror_mode": {
    "name": "ipython",
    "version": 3
   },
   "file_extension": ".py",
   "mimetype": "text/x-python",
   "name": "python",
   "nbconvert_exporter": "python",
   "pygments_lexer": "ipython3",
   "version": "3.7.0"
  }
 },
 "nbformat": 4,
 "nbformat_minor": 2
}
